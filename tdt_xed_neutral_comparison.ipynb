{
  "nbformat": 4,
  "nbformat_minor": 0,
  "metadata": {
    "colab": {
      "name": "tdt-xed-neutral-comparison.ipynb",
      "provenance": []
    },
    "kernelspec": {
      "name": "python3",
      "display_name": "Python 3"
    },
    "accelerator": "GPU",
    "widgets": {
      "application/vnd.jupyter.widget-state+json": {
        "f23b0b1d29ee44328649dd35fa768be4": {
          "model_module": "@jupyter-widgets/controls",
          "model_name": "HBoxModel",
          "state": {
            "_view_name": "HBoxView",
            "_dom_classes": [],
            "_model_name": "HBoxModel",
            "_view_module": "@jupyter-widgets/controls",
            "_model_module_version": "1.5.0",
            "_view_count": null,
            "_view_module_version": "1.5.0",
            "box_style": "",
            "layout": "IPY_MODEL_10cbfc02ac2e43418fd7a925ef87a06b",
            "_model_module": "@jupyter-widgets/controls",
            "children": [
              "IPY_MODEL_39e48e1aaa8649b5b6581c1dc930a996",
              "IPY_MODEL_b9f53465d1314b099515fbe764ce1456"
            ]
          }
        },
        "10cbfc02ac2e43418fd7a925ef87a06b": {
          "model_module": "@jupyter-widgets/base",
          "model_name": "LayoutModel",
          "state": {
            "_view_name": "LayoutView",
            "grid_template_rows": null,
            "right": null,
            "justify_content": null,
            "_view_module": "@jupyter-widgets/base",
            "overflow": null,
            "_model_module_version": "1.2.0",
            "_view_count": null,
            "flex_flow": null,
            "width": null,
            "min_width": null,
            "border": null,
            "align_items": null,
            "bottom": null,
            "_model_module": "@jupyter-widgets/base",
            "top": null,
            "grid_column": null,
            "overflow_y": null,
            "overflow_x": null,
            "grid_auto_flow": null,
            "grid_area": null,
            "grid_template_columns": null,
            "flex": null,
            "_model_name": "LayoutModel",
            "justify_items": null,
            "grid_row": null,
            "max_height": null,
            "align_content": null,
            "visibility": null,
            "align_self": null,
            "height": null,
            "min_height": null,
            "padding": null,
            "grid_auto_rows": null,
            "grid_gap": null,
            "max_width": null,
            "order": null,
            "_view_module_version": "1.2.0",
            "grid_template_areas": null,
            "object_position": null,
            "object_fit": null,
            "grid_auto_columns": null,
            "margin": null,
            "display": null,
            "left": null
          }
        },
        "39e48e1aaa8649b5b6581c1dc930a996": {
          "model_module": "@jupyter-widgets/controls",
          "model_name": "FloatProgressModel",
          "state": {
            "_view_name": "ProgressView",
            "style": "IPY_MODEL_0c919214de4545daa36ae34b3e0ef1bb",
            "_dom_classes": [],
            "description": "Downloading: 100%",
            "_model_name": "FloatProgressModel",
            "bar_style": "success",
            "max": 427471,
            "_view_module": "@jupyter-widgets/controls",
            "_model_module_version": "1.5.0",
            "value": 427471,
            "_view_count": null,
            "_view_module_version": "1.5.0",
            "orientation": "horizontal",
            "min": 0,
            "description_tooltip": null,
            "_model_module": "@jupyter-widgets/controls",
            "layout": "IPY_MODEL_10b8c0142ac74608b807431f4f997ca5"
          }
        },
        "b9f53465d1314b099515fbe764ce1456": {
          "model_module": "@jupyter-widgets/controls",
          "model_name": "HTMLModel",
          "state": {
            "_view_name": "HTMLView",
            "style": "IPY_MODEL_76ecc02f197c440380b977c4bb5e6c94",
            "_dom_classes": [],
            "description": "",
            "_model_name": "HTMLModel",
            "placeholder": "​",
            "_view_module": "@jupyter-widgets/controls",
            "_model_module_version": "1.5.0",
            "value": " 427k/427k [00:00&lt;00:00, 554kB/s]",
            "_view_count": null,
            "_view_module_version": "1.5.0",
            "description_tooltip": null,
            "_model_module": "@jupyter-widgets/controls",
            "layout": "IPY_MODEL_3a46794bf802498eb09580db59faa3ba"
          }
        },
        "0c919214de4545daa36ae34b3e0ef1bb": {
          "model_module": "@jupyter-widgets/controls",
          "model_name": "ProgressStyleModel",
          "state": {
            "_view_name": "StyleView",
            "_model_name": "ProgressStyleModel",
            "description_width": "initial",
            "_view_module": "@jupyter-widgets/base",
            "_model_module_version": "1.5.0",
            "_view_count": null,
            "_view_module_version": "1.2.0",
            "bar_color": null,
            "_model_module": "@jupyter-widgets/controls"
          }
        },
        "10b8c0142ac74608b807431f4f997ca5": {
          "model_module": "@jupyter-widgets/base",
          "model_name": "LayoutModel",
          "state": {
            "_view_name": "LayoutView",
            "grid_template_rows": null,
            "right": null,
            "justify_content": null,
            "_view_module": "@jupyter-widgets/base",
            "overflow": null,
            "_model_module_version": "1.2.0",
            "_view_count": null,
            "flex_flow": null,
            "width": null,
            "min_width": null,
            "border": null,
            "align_items": null,
            "bottom": null,
            "_model_module": "@jupyter-widgets/base",
            "top": null,
            "grid_column": null,
            "overflow_y": null,
            "overflow_x": null,
            "grid_auto_flow": null,
            "grid_area": null,
            "grid_template_columns": null,
            "flex": null,
            "_model_name": "LayoutModel",
            "justify_items": null,
            "grid_row": null,
            "max_height": null,
            "align_content": null,
            "visibility": null,
            "align_self": null,
            "height": null,
            "min_height": null,
            "padding": null,
            "grid_auto_rows": null,
            "grid_gap": null,
            "max_width": null,
            "order": null,
            "_view_module_version": "1.2.0",
            "grid_template_areas": null,
            "object_position": null,
            "object_fit": null,
            "grid_auto_columns": null,
            "margin": null,
            "display": null,
            "left": null
          }
        },
        "76ecc02f197c440380b977c4bb5e6c94": {
          "model_module": "@jupyter-widgets/controls",
          "model_name": "DescriptionStyleModel",
          "state": {
            "_view_name": "StyleView",
            "_model_name": "DescriptionStyleModel",
            "description_width": "",
            "_view_module": "@jupyter-widgets/base",
            "_model_module_version": "1.5.0",
            "_view_count": null,
            "_view_module_version": "1.2.0",
            "_model_module": "@jupyter-widgets/controls"
          }
        },
        "3a46794bf802498eb09580db59faa3ba": {
          "model_module": "@jupyter-widgets/base",
          "model_name": "LayoutModel",
          "state": {
            "_view_name": "LayoutView",
            "grid_template_rows": null,
            "right": null,
            "justify_content": null,
            "_view_module": "@jupyter-widgets/base",
            "overflow": null,
            "_model_module_version": "1.2.0",
            "_view_count": null,
            "flex_flow": null,
            "width": null,
            "min_width": null,
            "border": null,
            "align_items": null,
            "bottom": null,
            "_model_module": "@jupyter-widgets/base",
            "top": null,
            "grid_column": null,
            "overflow_y": null,
            "overflow_x": null,
            "grid_auto_flow": null,
            "grid_area": null,
            "grid_template_columns": null,
            "flex": null,
            "_model_name": "LayoutModel",
            "justify_items": null,
            "grid_row": null,
            "max_height": null,
            "align_content": null,
            "visibility": null,
            "align_self": null,
            "height": null,
            "min_height": null,
            "padding": null,
            "grid_auto_rows": null,
            "grid_gap": null,
            "max_width": null,
            "order": null,
            "_view_module_version": "1.2.0",
            "grid_template_areas": null,
            "object_position": null,
            "object_fit": null,
            "grid_auto_columns": null,
            "margin": null,
            "display": null,
            "left": null
          }
        },
        "dd071b736a4748e69a2f5d11b2221af6": {
          "model_module": "@jupyter-widgets/controls",
          "model_name": "HBoxModel",
          "state": {
            "_view_name": "HBoxView",
            "_dom_classes": [],
            "_model_name": "HBoxModel",
            "_view_module": "@jupyter-widgets/controls",
            "_model_module_version": "1.5.0",
            "_view_count": null,
            "_view_module_version": "1.5.0",
            "box_style": "",
            "layout": "IPY_MODEL_4bbafe1b6c254218a2646a202e27d156",
            "_model_module": "@jupyter-widgets/controls",
            "children": [
              "IPY_MODEL_bd50fbd229be4f40a1071d8066c9b654",
              "IPY_MODEL_66c711d9a48c42648cd0943360be40f0"
            ]
          }
        },
        "4bbafe1b6c254218a2646a202e27d156": {
          "model_module": "@jupyter-widgets/base",
          "model_name": "LayoutModel",
          "state": {
            "_view_name": "LayoutView",
            "grid_template_rows": null,
            "right": null,
            "justify_content": null,
            "_view_module": "@jupyter-widgets/base",
            "overflow": null,
            "_model_module_version": "1.2.0",
            "_view_count": null,
            "flex_flow": null,
            "width": null,
            "min_width": null,
            "border": null,
            "align_items": null,
            "bottom": null,
            "_model_module": "@jupyter-widgets/base",
            "top": null,
            "grid_column": null,
            "overflow_y": null,
            "overflow_x": null,
            "grid_auto_flow": null,
            "grid_area": null,
            "grid_template_columns": null,
            "flex": null,
            "_model_name": "LayoutModel",
            "justify_items": null,
            "grid_row": null,
            "max_height": null,
            "align_content": null,
            "visibility": null,
            "align_self": null,
            "height": null,
            "min_height": null,
            "padding": null,
            "grid_auto_rows": null,
            "grid_gap": null,
            "max_width": null,
            "order": null,
            "_view_module_version": "1.2.0",
            "grid_template_areas": null,
            "object_position": null,
            "object_fit": null,
            "grid_auto_columns": null,
            "margin": null,
            "display": null,
            "left": null
          }
        },
        "bd50fbd229be4f40a1071d8066c9b654": {
          "model_module": "@jupyter-widgets/controls",
          "model_name": "FloatProgressModel",
          "state": {
            "_view_name": "ProgressView",
            "style": "IPY_MODEL_8dd4eb14f079475090232996548358f8",
            "_dom_classes": [],
            "description": "Downloading: 100%",
            "_model_name": "FloatProgressModel",
            "bar_style": "success",
            "max": 818655,
            "_view_module": "@jupyter-widgets/controls",
            "_model_module_version": "1.5.0",
            "value": 818655,
            "_view_count": null,
            "_view_module_version": "1.5.0",
            "orientation": "horizontal",
            "min": 0,
            "description_tooltip": null,
            "_model_module": "@jupyter-widgets/controls",
            "layout": "IPY_MODEL_854577a544f040799aebdc59dd3d9ce0"
          }
        },
        "66c711d9a48c42648cd0943360be40f0": {
          "model_module": "@jupyter-widgets/controls",
          "model_name": "HTMLModel",
          "state": {
            "_view_name": "HTMLView",
            "style": "IPY_MODEL_b25c5b72d4cc4154922dad9e680048f3",
            "_dom_classes": [],
            "description": "",
            "_model_name": "HTMLModel",
            "placeholder": "​",
            "_view_module": "@jupyter-widgets/controls",
            "_model_module_version": "1.5.0",
            "value": " 819k/819k [00:00&lt;00:00, 854kB/s]",
            "_view_count": null,
            "_view_module_version": "1.5.0",
            "description_tooltip": null,
            "_model_module": "@jupyter-widgets/controls",
            "layout": "IPY_MODEL_23c6a2b0655740d7bcd09dccf13a1658"
          }
        },
        "8dd4eb14f079475090232996548358f8": {
          "model_module": "@jupyter-widgets/controls",
          "model_name": "ProgressStyleModel",
          "state": {
            "_view_name": "StyleView",
            "_model_name": "ProgressStyleModel",
            "description_width": "initial",
            "_view_module": "@jupyter-widgets/base",
            "_model_module_version": "1.5.0",
            "_view_count": null,
            "_view_module_version": "1.2.0",
            "bar_color": null,
            "_model_module": "@jupyter-widgets/controls"
          }
        },
        "854577a544f040799aebdc59dd3d9ce0": {
          "model_module": "@jupyter-widgets/base",
          "model_name": "LayoutModel",
          "state": {
            "_view_name": "LayoutView",
            "grid_template_rows": null,
            "right": null,
            "justify_content": null,
            "_view_module": "@jupyter-widgets/base",
            "overflow": null,
            "_model_module_version": "1.2.0",
            "_view_count": null,
            "flex_flow": null,
            "width": null,
            "min_width": null,
            "border": null,
            "align_items": null,
            "bottom": null,
            "_model_module": "@jupyter-widgets/base",
            "top": null,
            "grid_column": null,
            "overflow_y": null,
            "overflow_x": null,
            "grid_auto_flow": null,
            "grid_area": null,
            "grid_template_columns": null,
            "flex": null,
            "_model_name": "LayoutModel",
            "justify_items": null,
            "grid_row": null,
            "max_height": null,
            "align_content": null,
            "visibility": null,
            "align_self": null,
            "height": null,
            "min_height": null,
            "padding": null,
            "grid_auto_rows": null,
            "grid_gap": null,
            "max_width": null,
            "order": null,
            "_view_module_version": "1.2.0",
            "grid_template_areas": null,
            "object_position": null,
            "object_fit": null,
            "grid_auto_columns": null,
            "margin": null,
            "display": null,
            "left": null
          }
        },
        "b25c5b72d4cc4154922dad9e680048f3": {
          "model_module": "@jupyter-widgets/controls",
          "model_name": "DescriptionStyleModel",
          "state": {
            "_view_name": "StyleView",
            "_model_name": "DescriptionStyleModel",
            "description_width": "",
            "_view_module": "@jupyter-widgets/base",
            "_model_module_version": "1.5.0",
            "_view_count": null,
            "_view_module_version": "1.2.0",
            "_model_module": "@jupyter-widgets/controls"
          }
        },
        "23c6a2b0655740d7bcd09dccf13a1658": {
          "model_module": "@jupyter-widgets/base",
          "model_name": "LayoutModel",
          "state": {
            "_view_name": "LayoutView",
            "grid_template_rows": null,
            "right": null,
            "justify_content": null,
            "_view_module": "@jupyter-widgets/base",
            "overflow": null,
            "_model_module_version": "1.2.0",
            "_view_count": null,
            "flex_flow": null,
            "width": null,
            "min_width": null,
            "border": null,
            "align_items": null,
            "bottom": null,
            "_model_module": "@jupyter-widgets/base",
            "top": null,
            "grid_column": null,
            "overflow_y": null,
            "overflow_x": null,
            "grid_auto_flow": null,
            "grid_area": null,
            "grid_template_columns": null,
            "flex": null,
            "_model_name": "LayoutModel",
            "justify_items": null,
            "grid_row": null,
            "max_height": null,
            "align_content": null,
            "visibility": null,
            "align_self": null,
            "height": null,
            "min_height": null,
            "padding": null,
            "grid_auto_rows": null,
            "grid_gap": null,
            "max_width": null,
            "order": null,
            "_view_module_version": "1.2.0",
            "grid_template_areas": null,
            "object_position": null,
            "object_fit": null,
            "grid_auto_columns": null,
            "margin": null,
            "display": null,
            "left": null
          }
        },
        "03b2d633085c422db1915c3001929ef5": {
          "model_module": "@jupyter-widgets/controls",
          "model_name": "HBoxModel",
          "state": {
            "_view_name": "HBoxView",
            "_dom_classes": [],
            "_model_name": "HBoxModel",
            "_view_module": "@jupyter-widgets/controls",
            "_model_module_version": "1.5.0",
            "_view_count": null,
            "_view_module_version": "1.5.0",
            "box_style": "",
            "layout": "IPY_MODEL_b39030632d60425a843d73f8d558fb91",
            "_model_module": "@jupyter-widgets/controls",
            "children": [
              "IPY_MODEL_0b77cbd598354fdab306d7af110c4ede",
              "IPY_MODEL_7f9e90bc855e456f9bc38e527eac0efe"
            ]
          }
        },
        "b39030632d60425a843d73f8d558fb91": {
          "model_module": "@jupyter-widgets/base",
          "model_name": "LayoutModel",
          "state": {
            "_view_name": "LayoutView",
            "grid_template_rows": null,
            "right": null,
            "justify_content": null,
            "_view_module": "@jupyter-widgets/base",
            "overflow": null,
            "_model_module_version": "1.2.0",
            "_view_count": null,
            "flex_flow": null,
            "width": null,
            "min_width": null,
            "border": null,
            "align_items": null,
            "bottom": null,
            "_model_module": "@jupyter-widgets/base",
            "top": null,
            "grid_column": null,
            "overflow_y": null,
            "overflow_x": null,
            "grid_auto_flow": null,
            "grid_area": null,
            "grid_template_columns": null,
            "flex": null,
            "_model_name": "LayoutModel",
            "justify_items": null,
            "grid_row": null,
            "max_height": null,
            "align_content": null,
            "visibility": null,
            "align_self": null,
            "height": null,
            "min_height": null,
            "padding": null,
            "grid_auto_rows": null,
            "grid_gap": null,
            "max_width": null,
            "order": null,
            "_view_module_version": "1.2.0",
            "grid_template_areas": null,
            "object_position": null,
            "object_fit": null,
            "grid_auto_columns": null,
            "margin": null,
            "display": null,
            "left": null
          }
        },
        "0b77cbd598354fdab306d7af110c4ede": {
          "model_module": "@jupyter-widgets/controls",
          "model_name": "FloatProgressModel",
          "state": {
            "_view_name": "ProgressView",
            "style": "IPY_MODEL_092c86095eef421ba19027cdc87b1a88",
            "_dom_classes": [],
            "description": "Downloading: 100%",
            "_model_name": "FloatProgressModel",
            "bar_style": "success",
            "max": 433,
            "_view_module": "@jupyter-widgets/controls",
            "_model_module_version": "1.5.0",
            "value": 433,
            "_view_count": null,
            "_view_module_version": "1.5.0",
            "orientation": "horizontal",
            "min": 0,
            "description_tooltip": null,
            "_model_module": "@jupyter-widgets/controls",
            "layout": "IPY_MODEL_955bf5ee55a64531aeaa9d0365c4f0b9"
          }
        },
        "7f9e90bc855e456f9bc38e527eac0efe": {
          "model_module": "@jupyter-widgets/controls",
          "model_name": "HTMLModel",
          "state": {
            "_view_name": "HTMLView",
            "style": "IPY_MODEL_c7835169f2b840b081cbfb916dab521e",
            "_dom_classes": [],
            "description": "",
            "_model_name": "HTMLModel",
            "placeholder": "​",
            "_view_module": "@jupyter-widgets/controls",
            "_model_module_version": "1.5.0",
            "value": " 433/433 [00:18&lt;00:00, 23.7B/s]",
            "_view_count": null,
            "_view_module_version": "1.5.0",
            "description_tooltip": null,
            "_model_module": "@jupyter-widgets/controls",
            "layout": "IPY_MODEL_646672c23b2e4957996852c5669dbe7b"
          }
        },
        "092c86095eef421ba19027cdc87b1a88": {
          "model_module": "@jupyter-widgets/controls",
          "model_name": "ProgressStyleModel",
          "state": {
            "_view_name": "StyleView",
            "_model_name": "ProgressStyleModel",
            "description_width": "initial",
            "_view_module": "@jupyter-widgets/base",
            "_model_module_version": "1.5.0",
            "_view_count": null,
            "_view_module_version": "1.2.0",
            "bar_color": null,
            "_model_module": "@jupyter-widgets/controls"
          }
        },
        "955bf5ee55a64531aeaa9d0365c4f0b9": {
          "model_module": "@jupyter-widgets/base",
          "model_name": "LayoutModel",
          "state": {
            "_view_name": "LayoutView",
            "grid_template_rows": null,
            "right": null,
            "justify_content": null,
            "_view_module": "@jupyter-widgets/base",
            "overflow": null,
            "_model_module_version": "1.2.0",
            "_view_count": null,
            "flex_flow": null,
            "width": null,
            "min_width": null,
            "border": null,
            "align_items": null,
            "bottom": null,
            "_model_module": "@jupyter-widgets/base",
            "top": null,
            "grid_column": null,
            "overflow_y": null,
            "overflow_x": null,
            "grid_auto_flow": null,
            "grid_area": null,
            "grid_template_columns": null,
            "flex": null,
            "_model_name": "LayoutModel",
            "justify_items": null,
            "grid_row": null,
            "max_height": null,
            "align_content": null,
            "visibility": null,
            "align_self": null,
            "height": null,
            "min_height": null,
            "padding": null,
            "grid_auto_rows": null,
            "grid_gap": null,
            "max_width": null,
            "order": null,
            "_view_module_version": "1.2.0",
            "grid_template_areas": null,
            "object_position": null,
            "object_fit": null,
            "grid_auto_columns": null,
            "margin": null,
            "display": null,
            "left": null
          }
        },
        "c7835169f2b840b081cbfb916dab521e": {
          "model_module": "@jupyter-widgets/controls",
          "model_name": "DescriptionStyleModel",
          "state": {
            "_view_name": "StyleView",
            "_model_name": "DescriptionStyleModel",
            "description_width": "",
            "_view_module": "@jupyter-widgets/base",
            "_model_module_version": "1.5.0",
            "_view_count": null,
            "_view_module_version": "1.2.0",
            "_model_module": "@jupyter-widgets/controls"
          }
        },
        "646672c23b2e4957996852c5669dbe7b": {
          "model_module": "@jupyter-widgets/base",
          "model_name": "LayoutModel",
          "state": {
            "_view_name": "LayoutView",
            "grid_template_rows": null,
            "right": null,
            "justify_content": null,
            "_view_module": "@jupyter-widgets/base",
            "overflow": null,
            "_model_module_version": "1.2.0",
            "_view_count": null,
            "flex_flow": null,
            "width": null,
            "min_width": null,
            "border": null,
            "align_items": null,
            "bottom": null,
            "_model_module": "@jupyter-widgets/base",
            "top": null,
            "grid_column": null,
            "overflow_y": null,
            "overflow_x": null,
            "grid_auto_flow": null,
            "grid_area": null,
            "grid_template_columns": null,
            "flex": null,
            "_model_name": "LayoutModel",
            "justify_items": null,
            "grid_row": null,
            "max_height": null,
            "align_content": null,
            "visibility": null,
            "align_self": null,
            "height": null,
            "min_height": null,
            "padding": null,
            "grid_auto_rows": null,
            "grid_gap": null,
            "max_width": null,
            "order": null,
            "_view_module_version": "1.2.0",
            "grid_template_areas": null,
            "object_position": null,
            "object_fit": null,
            "grid_auto_columns": null,
            "margin": null,
            "display": null,
            "left": null
          }
        },
        "d7da600fc40b40da9fc9ab6ec8e193a3": {
          "model_module": "@jupyter-widgets/controls",
          "model_name": "HBoxModel",
          "state": {
            "_view_name": "HBoxView",
            "_dom_classes": [],
            "_model_name": "HBoxModel",
            "_view_module": "@jupyter-widgets/controls",
            "_model_module_version": "1.5.0",
            "_view_count": null,
            "_view_module_version": "1.5.0",
            "box_style": "",
            "layout": "IPY_MODEL_4e571837d9704825ace5f443eeb07e52",
            "_model_module": "@jupyter-widgets/controls",
            "children": [
              "IPY_MODEL_85d620235bb04dd7bc6e27935e27fee8",
              "IPY_MODEL_8852dc2c6b9b485492b934daf6ab3bc6"
            ]
          }
        },
        "4e571837d9704825ace5f443eeb07e52": {
          "model_module": "@jupyter-widgets/base",
          "model_name": "LayoutModel",
          "state": {
            "_view_name": "LayoutView",
            "grid_template_rows": null,
            "right": null,
            "justify_content": null,
            "_view_module": "@jupyter-widgets/base",
            "overflow": null,
            "_model_module_version": "1.2.0",
            "_view_count": null,
            "flex_flow": null,
            "width": null,
            "min_width": null,
            "border": null,
            "align_items": null,
            "bottom": null,
            "_model_module": "@jupyter-widgets/base",
            "top": null,
            "grid_column": null,
            "overflow_y": null,
            "overflow_x": null,
            "grid_auto_flow": null,
            "grid_area": null,
            "grid_template_columns": null,
            "flex": null,
            "_model_name": "LayoutModel",
            "justify_items": null,
            "grid_row": null,
            "max_height": null,
            "align_content": null,
            "visibility": null,
            "align_self": null,
            "height": null,
            "min_height": null,
            "padding": null,
            "grid_auto_rows": null,
            "grid_gap": null,
            "max_width": null,
            "order": null,
            "_view_module_version": "1.2.0",
            "grid_template_areas": null,
            "object_position": null,
            "object_fit": null,
            "grid_auto_columns": null,
            "margin": null,
            "display": null,
            "left": null
          }
        },
        "85d620235bb04dd7bc6e27935e27fee8": {
          "model_module": "@jupyter-widgets/controls",
          "model_name": "FloatProgressModel",
          "state": {
            "_view_name": "ProgressView",
            "style": "IPY_MODEL_7d3e40796fb947648fcc41f1a039bdc3",
            "_dom_classes": [],
            "description": "Downloading: 100%",
            "_model_name": "FloatProgressModel",
            "bar_style": "success",
            "max": 656434900,
            "_view_module": "@jupyter-widgets/controls",
            "_model_module_version": "1.5.0",
            "value": 656434900,
            "_view_count": null,
            "_view_module_version": "1.5.0",
            "orientation": "horizontal",
            "min": 0,
            "description_tooltip": null,
            "_model_module": "@jupyter-widgets/controls",
            "layout": "IPY_MODEL_40c35477c6224b73b2137233de10ac1b"
          }
        },
        "8852dc2c6b9b485492b934daf6ab3bc6": {
          "model_module": "@jupyter-widgets/controls",
          "model_name": "HTMLModel",
          "state": {
            "_view_name": "HTMLView",
            "style": "IPY_MODEL_e5822d5bfa0c47b3b5eabe099b154c6b",
            "_dom_classes": [],
            "description": "",
            "_model_name": "HTMLModel",
            "placeholder": "​",
            "_view_module": "@jupyter-widgets/controls",
            "_model_module_version": "1.5.0",
            "value": " 656M/656M [00:17&lt;00:00, 36.5MB/s]",
            "_view_count": null,
            "_view_module_version": "1.5.0",
            "description_tooltip": null,
            "_model_module": "@jupyter-widgets/controls",
            "layout": "IPY_MODEL_3f5764c80f79415f98cd77141603828b"
          }
        },
        "7d3e40796fb947648fcc41f1a039bdc3": {
          "model_module": "@jupyter-widgets/controls",
          "model_name": "ProgressStyleModel",
          "state": {
            "_view_name": "StyleView",
            "_model_name": "ProgressStyleModel",
            "description_width": "initial",
            "_view_module": "@jupyter-widgets/base",
            "_model_module_version": "1.5.0",
            "_view_count": null,
            "_view_module_version": "1.2.0",
            "bar_color": null,
            "_model_module": "@jupyter-widgets/controls"
          }
        },
        "40c35477c6224b73b2137233de10ac1b": {
          "model_module": "@jupyter-widgets/base",
          "model_name": "LayoutModel",
          "state": {
            "_view_name": "LayoutView",
            "grid_template_rows": null,
            "right": null,
            "justify_content": null,
            "_view_module": "@jupyter-widgets/base",
            "overflow": null,
            "_model_module_version": "1.2.0",
            "_view_count": null,
            "flex_flow": null,
            "width": null,
            "min_width": null,
            "border": null,
            "align_items": null,
            "bottom": null,
            "_model_module": "@jupyter-widgets/base",
            "top": null,
            "grid_column": null,
            "overflow_y": null,
            "overflow_x": null,
            "grid_auto_flow": null,
            "grid_area": null,
            "grid_template_columns": null,
            "flex": null,
            "_model_name": "LayoutModel",
            "justify_items": null,
            "grid_row": null,
            "max_height": null,
            "align_content": null,
            "visibility": null,
            "align_self": null,
            "height": null,
            "min_height": null,
            "padding": null,
            "grid_auto_rows": null,
            "grid_gap": null,
            "max_width": null,
            "order": null,
            "_view_module_version": "1.2.0",
            "grid_template_areas": null,
            "object_position": null,
            "object_fit": null,
            "grid_auto_columns": null,
            "margin": null,
            "display": null,
            "left": null
          }
        },
        "e5822d5bfa0c47b3b5eabe099b154c6b": {
          "model_module": "@jupyter-widgets/controls",
          "model_name": "DescriptionStyleModel",
          "state": {
            "_view_name": "StyleView",
            "_model_name": "DescriptionStyleModel",
            "description_width": "",
            "_view_module": "@jupyter-widgets/base",
            "_model_module_version": "1.5.0",
            "_view_count": null,
            "_view_module_version": "1.2.0",
            "_model_module": "@jupyter-widgets/controls"
          }
        },
        "3f5764c80f79415f98cd77141603828b": {
          "model_module": "@jupyter-widgets/base",
          "model_name": "LayoutModel",
          "state": {
            "_view_name": "LayoutView",
            "grid_template_rows": null,
            "right": null,
            "justify_content": null,
            "_view_module": "@jupyter-widgets/base",
            "overflow": null,
            "_model_module_version": "1.2.0",
            "_view_count": null,
            "flex_flow": null,
            "width": null,
            "min_width": null,
            "border": null,
            "align_items": null,
            "bottom": null,
            "_model_module": "@jupyter-widgets/base",
            "top": null,
            "grid_column": null,
            "overflow_y": null,
            "overflow_x": null,
            "grid_auto_flow": null,
            "grid_area": null,
            "grid_template_columns": null,
            "flex": null,
            "_model_name": "LayoutModel",
            "justify_items": null,
            "grid_row": null,
            "max_height": null,
            "align_content": null,
            "visibility": null,
            "align_self": null,
            "height": null,
            "min_height": null,
            "padding": null,
            "grid_auto_rows": null,
            "grid_gap": null,
            "max_width": null,
            "order": null,
            "_view_module_version": "1.2.0",
            "grid_template_areas": null,
            "object_position": null,
            "object_fit": null,
            "grid_auto_columns": null,
            "margin": null,
            "display": null,
            "left": null
          }
        }
      }
    }
  },
  "cells": [
    {
      "cell_type": "markdown",
      "metadata": {
        "id": "Z5mae7Zqv2H-"
      },
      "source": [
        "This notebook compares two identical models trained with different data: One with Anger and Joy classes from XED and neutrals also from XED, and the other with the same classes from XED but neutrals from TDT. The trained models are then compared with in-domain data as well as out-of-domain data."
      ]
    },
    {
      "cell_type": "code",
      "metadata": {
        "id": "Ex1PD3JOvGXv"
      },
      "source": [
        "# Set the file paths here\r\n",
        "tdt_train_fn = '/content/tdt-sentiment-151020-train-clean.tsv'\r\n",
        "tdt_eval_fn = '/content/tdt-sentiment-151020-dev.tsv'\r\n",
        "xed_nonneutrals_fn = '/content/fi-annotated.tsv'\r\n",
        "xed_neutrals_fn = '/content/neu_fi.txt'\r\n",
        "twitter_and_s24_fn = '/content/twitter-and-s24-sentences.tsv'"
      ],
      "execution_count": 1,
      "outputs": []
    },
    {
      "cell_type": "code",
      "metadata": {
        "id": "_rtq9Mg7gdU4"
      },
      "source": [
        "!pip install transformers"
      ],
      "execution_count": null,
      "outputs": []
    },
    {
      "cell_type": "code",
      "metadata": {
        "id": "0AbeqiZYgjbT",
        "colab": {
          "base_uri": "https://localhost:8080/",
          "height": 118,
          "referenced_widgets": [
            "f23b0b1d29ee44328649dd35fa768be4",
            "10cbfc02ac2e43418fd7a925ef87a06b",
            "39e48e1aaa8649b5b6581c1dc930a996",
            "b9f53465d1314b099515fbe764ce1456",
            "0c919214de4545daa36ae34b3e0ef1bb",
            "10b8c0142ac74608b807431f4f997ca5",
            "76ecc02f197c440380b977c4bb5e6c94",
            "3a46794bf802498eb09580db59faa3ba",
            "dd071b736a4748e69a2f5d11b2221af6",
            "4bbafe1b6c254218a2646a202e27d156",
            "bd50fbd229be4f40a1071d8066c9b654",
            "66c711d9a48c42648cd0943360be40f0",
            "8dd4eb14f079475090232996548358f8",
            "854577a544f040799aebdc59dd3d9ce0",
            "b25c5b72d4cc4154922dad9e680048f3",
            "23c6a2b0655740d7bcd09dccf13a1658"
          ]
        },
        "outputId": "aa911a97-777d-4e1a-d1aa-d943c2668c94"
      },
      "source": [
        "# Choose model and set up input\n",
        "\n",
        "from sklearn.model_selection import train_test_split\n",
        "from transformers import BertTokenizerFast\n",
        "import tensorflow as tf\n",
        "import random\n",
        "\n",
        "def transpose(l):\n",
        "  return [list(t) for t in zip(*l)]\n",
        "\n",
        "def load_fields(fn):\n",
        "  return transpose([l.rstrip('\\n').split('\\t') for l in open(fn).readlines()])\n",
        "\n",
        "def label_vector(num_labels, labels):\n",
        "  binary_labels = []\n",
        "  for ls in labels:\n",
        "    b = [0]*num_labels\n",
        "    for l in ls:\n",
        "      b[l] = 1\n",
        "    binary_labels.append(b)\n",
        "  return binary_labels\n",
        "\n",
        "tdt_train_texts, tdt_train_labels_raw = load_fields(tdt_train_fn)[1:3]\n",
        "tdt_eval_texts, tdt_eval_labels_raw = load_fields(tdt_eval_fn)[1:3]\n",
        "\n",
        "nonneutral_texts, nonneutral_labels_raw = load_fields(xed_nonneutrals_fn)[:2]\n",
        "xed_neutral_texts_full = load_fields(xed_neutrals_fn)[1]\n",
        "\n",
        "nonneutral_labels = [[int(s) for s in l.replace('8', '0').split(',')] for l in nonneutral_labels_raw]\n",
        "\n",
        "nonneutral_classes = {1, 5}\n",
        "encoded_to_index = dict(enumerate(nonneutral_classes))\n",
        "index_to_encoded = {v: k for k, v in encoded_to_index.items()}\n",
        "index_to_name = dict(enumerate(['trust', 'anger', 'anticipation', 'disgust', 'fear', 'joy', 'sadness', 'surprise']))\n",
        "num_labels = len(nonneutral_classes)\n",
        "\n",
        "chosen_nonneutral_texts, chosen_nonneutral_labels = transpose([[t, l] for t, l in zip(nonneutral_texts, nonneutral_labels) if set(l) <= nonneutral_classes])\n",
        "\n",
        "train_neutral_texts, train_neutral_label_vectors = transpose([[t, [0]*num_labels] for t, l in zip(tdt_train_texts, tdt_train_labels_raw) if l == 'neutral'])\n",
        "eval_neutral_texts, eval_neutral_label_vectors = transpose([[t, [0]*num_labels] for t, l in zip(tdt_eval_texts, tdt_eval_labels_raw) if l == 'neutral'])\n",
        "\n",
        "seed = 0\n",
        "random.seed(seed)\n",
        "xed_neutral_texts = random.sample(xed_neutral_texts_full, len(train_neutral_texts) + len(eval_neutral_texts))\n",
        "xed_neutral_label_vectors = [[0]*num_labels]*len(xed_neutral_texts)\n",
        "\n",
        "chosen_nonneutral_label_vectors = label_vector(num_labels, [[index_to_encoded[e] for e in l] for l in chosen_nonneutral_labels])\n",
        "\n",
        "train_nonneutral_texts, eval_nonneutral_texts, train_nonneutral_label_vectors, eval_nonneutral_label_vectors = train_test_split(chosen_nonneutral_texts, chosen_nonneutral_label_vectors, test_size=0.1, random_state=seed)\n",
        "xed_train_neutral_texts, xed_eval_neutral_texts, xed_train_neutral_label_vectors, xed_eval_neutral_label_vectors = train_test_split(xed_neutral_texts, xed_neutral_label_vectors, test_size=len(eval_neutral_texts), random_state=seed)\n",
        "\n",
        "train_texts = train_neutral_texts + train_nonneutral_texts\n",
        "train_label_vectors = tf.constant(train_neutral_label_vectors + train_nonneutral_label_vectors, dtype='float32')\n",
        "\n",
        "eval_texts = eval_neutral_texts + eval_nonneutral_texts\n",
        "eval_label_vectors = tf.constant(eval_neutral_label_vectors + eval_nonneutral_label_vectors, dtype='float32')\n",
        "\n",
        "#model_name = \"TurkuNLP/bert-base-finnish-cased-v1\"\n",
        "model_name = \"TurkuNLP/bert-base-finnish-uncased-v1\"\n",
        "\n",
        "tokenizer = BertTokenizerFast.from_pretrained(model_name)\n",
        "\n",
        "input_size = 128\n",
        "\n",
        "train_encodings = tokenizer(train_texts, truncation=True, padding='longest', max_length=input_size)\n",
        "eval_encodings = tokenizer(eval_texts, truncation=True, padding='longest', max_length=input_size)"
      ],
      "execution_count": 3,
      "outputs": [
        {
          "output_type": "display_data",
          "data": {
            "application/vnd.jupyter.widget-view+json": {
              "model_id": "f23b0b1d29ee44328649dd35fa768be4",
              "version_minor": 0,
              "version_major": 2
            },
            "text/plain": [
              "HBox(children=(FloatProgress(value=0.0, description='Downloading', max=427471.0, style=ProgressStyle(descripti…"
            ]
          },
          "metadata": {
            "tags": []
          }
        },
        {
          "output_type": "stream",
          "text": [
            "\n"
          ],
          "name": "stdout"
        },
        {
          "output_type": "display_data",
          "data": {
            "application/vnd.jupyter.widget-view+json": {
              "model_id": "dd071b736a4748e69a2f5d11b2221af6",
              "version_minor": 0,
              "version_major": 2
            },
            "text/plain": [
              "HBox(children=(FloatProgress(value=0.0, description='Downloading', max=818655.0, style=ProgressStyle(descripti…"
            ]
          },
          "metadata": {
            "tags": []
          }
        },
        {
          "output_type": "stream",
          "text": [
            "\n"
          ],
          "name": "stdout"
        }
      ]
    },
    {
      "cell_type": "code",
      "metadata": {
        "id": "OEZdXV4t6jFk"
      },
      "source": [
        "# Set up training\n",
        "from transformers import TFBertForSequenceClassification, optimization_tf\n",
        "from math import inf\n",
        "\n",
        "init_lr = 2e-5\n",
        "\n",
        "epochs = 2\n",
        "batch_size_train = 16\n",
        "batch_size_eval = 16\n",
        "\n",
        "def train(model, t, train_labels, eval):\n",
        "  size_train = len(train_labels)\n",
        "  steps_per_epoch = int(size_train/batch_size_train)\n",
        "  steps_train = steps_per_epoch*epochs\n",
        "  steps_warmup = int(epochs * size_train * 0.1 / batch_size_train)\n",
        "  optimizer, _ = optimization_tf.create_optimizer(init_lr=init_lr,\n",
        "                                                  num_train_steps=steps_train,\n",
        "                                                  num_warmup_steps=steps_warmup,\n",
        "                                                  weight_decay_rate=0.01)\n",
        "  model.compile(optimizer=optimizer, loss=tf.nn.sigmoid_cross_entropy_with_logits, metrics=[])\n",
        "  model.fit(t,\n",
        "            train_labels,\n",
        "            validation_data=eval,\n",
        "            batch_size=batch_size_train,\n",
        "            epochs=epochs)\n",
        "  return model"
      ],
      "execution_count": 4,
      "outputs": []
    },
    {
      "cell_type": "code",
      "metadata": {
        "id": "QSWzWPns6qEq"
      },
      "source": [
        "# Set up evaluation\n",
        "from sklearn.metrics import classification_report, accuracy_score, f1_score\n",
        "import numpy as np\n",
        "\n",
        "def train_evaluate(train_x, train_y, eval_x, eval_y, num_labels, run_count):\n",
        "  runs = []\n",
        "  for i in range(run_count):\n",
        "    bert = TFBertForSequenceClassification.from_pretrained(model_name,\n",
        "                                                           num_labels=num_labels)\n",
        "    bert = train(bert, train_x, train_y, (eval_x, eval_y))\n",
        "    runs.append(bert.predict(eval_x)[0])\n",
        "  return runs\n",
        "\n",
        "def format_floats(l):\n",
        "  return ', '.join(f'{x:.4f}' for x in l)\n",
        "\n",
        "def print_results(runs, eval_label_vectors):\n",
        "  preds = [(tf.math.sigmoid(r) >= 0.5).numpy().tolist() for r in runs]\n",
        "  accuracy = [accuracy_score(eval_label_vectors, p) for p in preds]\n",
        "  weighted_f1 = [f1_score(eval_label_vectors, p, average='weighted') for p in preds]\n",
        "  print(f\"Accuracy: {format_floats(accuracy)}\")\n",
        "  print(f\"Weighted F-score: {format_floats(weighted_f1)}\")\n",
        "  print(f'Average accuracy: {np.mean(accuracy):.4f}, stdev: {np.std(accuracy):.4f}')\n",
        "  print(f'Average weighted F-score: {np.mean(weighted_f1):.4f}, stdev: {np.std(weighted_f1):.4f}')\n",
        "  max_i = accuracy.index(max(accuracy))\n",
        "  print(classification_report(eval_label_vectors, preds[max_i], target_names=[index_to_name[encoded_to_index[i]] for i in range(num_labels)], digits=4))\n",
        "\n",
        "t = [tf.constant(train_encodings.data['input_ids']),\n",
        "     tf.constant(train_encodings.data['attention_mask']),\n",
        "     tf.constant(train_encodings.data['token_type_ids'])]\n",
        "\n",
        "e = [tf.constant(eval_encodings.data['input_ids']),\n",
        "     tf.constant(eval_encodings.data['attention_mask']),\n",
        "     tf.constant(eval_encodings.data['token_type_ids'])]\n",
        "\n",
        "xed_train_texts = xed_train_neutral_texts + train_nonneutral_texts\n",
        "xed_eval_texts = xed_eval_neutral_texts + eval_nonneutral_texts\n",
        "xed_train_label_vectors = tf.constant(xed_train_neutral_label_vectors + train_nonneutral_label_vectors, dtype='float32')\n",
        "xed_eval_label_vectors = tf.constant(xed_eval_neutral_label_vectors + eval_nonneutral_label_vectors, dtype='float32')\n",
        "\n",
        "xed_train_encodings = tokenizer(xed_train_texts, truncation=True, padding='longest', max_length=input_size)\n",
        "xed_eval_encodings = tokenizer(xed_eval_texts, truncation=True, padding='longest', max_length=input_size)\n",
        "\n",
        "t_xed = [tf.constant(xed_train_encodings.data['input_ids']),\n",
        "         tf.constant(xed_train_encodings.data['attention_mask']),\n",
        "         tf.constant(xed_train_encodings.data['token_type_ids'])]\n",
        "\n",
        "e_xed = [tf.constant(xed_eval_encodings.data['input_ids']),\n",
        "         tf.constant(xed_eval_encodings.data['attention_mask']),\n",
        "         tf.constant(xed_eval_encodings.data['token_type_ids'])]"
      ],
      "execution_count": 5,
      "outputs": []
    },
    {
      "cell_type": "code",
      "metadata": {
        "id": "rQzfDmPJF8UX",
        "colab": {
          "base_uri": "https://localhost:8080/",
          "height": 1000,
          "referenced_widgets": [
            "03b2d633085c422db1915c3001929ef5",
            "b39030632d60425a843d73f8d558fb91",
            "0b77cbd598354fdab306d7af110c4ede",
            "7f9e90bc855e456f9bc38e527eac0efe",
            "092c86095eef421ba19027cdc87b1a88",
            "955bf5ee55a64531aeaa9d0365c4f0b9",
            "c7835169f2b840b081cbfb916dab521e",
            "646672c23b2e4957996852c5669dbe7b",
            "d7da600fc40b40da9fc9ab6ec8e193a3",
            "4e571837d9704825ace5f443eeb07e52",
            "85d620235bb04dd7bc6e27935e27fee8",
            "8852dc2c6b9b485492b934daf6ab3bc6",
            "7d3e40796fb947648fcc41f1a039bdc3",
            "40c35477c6224b73b2137233de10ac1b",
            "e5822d5bfa0c47b3b5eabe099b154c6b",
            "3f5764c80f79415f98cd77141603828b"
          ]
        },
        "outputId": "9e57247d-a622-47b3-b058-2ef34b51dabd"
      },
      "source": [
        "# Evaluate with in-domain data\n",
        "\n",
        "runs_tdt = train_evaluate(t, train_label_vectors, e, eval_label_vectors, num_labels, 3)\n",
        "runs_xed = train_evaluate(t_xed, xed_train_label_vectors, e_xed, xed_eval_label_vectors, num_labels, 3)\n",
        "\n",
        "print(f\"Model: {model_name}, initial learning rate = {init_lr}, input size = {input_size}, batch size = {batch_size_train}, epochs = {epochs}\")\n",
        "print_results(runs_tdt, eval_label_vectors)\n",
        "print_results(runs_xed, xed_eval_label_vectors)"
      ],
      "execution_count": 6,
      "outputs": [
        {
          "output_type": "display_data",
          "data": {
            "application/vnd.jupyter.widget-view+json": {
              "model_id": "03b2d633085c422db1915c3001929ef5",
              "version_minor": 0,
              "version_major": 2
            },
            "text/plain": [
              "HBox(children=(FloatProgress(value=0.0, description='Downloading', max=433.0, style=ProgressStyle(description_…"
            ]
          },
          "metadata": {
            "tags": []
          }
        },
        {
          "output_type": "stream",
          "text": [
            "\n"
          ],
          "name": "stdout"
        },
        {
          "output_type": "display_data",
          "data": {
            "application/vnd.jupyter.widget-view+json": {
              "model_id": "d7da600fc40b40da9fc9ab6ec8e193a3",
              "version_minor": 0,
              "version_major": 2
            },
            "text/plain": [
              "HBox(children=(FloatProgress(value=0.0, description='Downloading', max=656434900.0, style=ProgressStyle(descri…"
            ]
          },
          "metadata": {
            "tags": []
          }
        },
        {
          "output_type": "stream",
          "text": [
            "\n"
          ],
          "name": "stdout"
        },
        {
          "output_type": "stream",
          "text": [
            "All model checkpoint layers were used when initializing TFBertForSequenceClassification.\n",
            "\n",
            "Some layers of TFBertForSequenceClassification were not initialized from the model checkpoint at TurkuNLP/bert-base-finnish-uncased-v1 and are newly initialized: ['classifier']\n",
            "You should probably TRAIN this model on a down-stream task to be able to use it for predictions and inference.\n"
          ],
          "name": "stderr"
        },
        {
          "output_type": "stream",
          "text": [
            "Epoch 1/2\n",
            "WARNING:tensorflow:AutoGraph could not transform <bound method Socket.send of <zmq.sugar.socket.Socket object at 0x7f92d737d5f8>> and will run it as-is.\n",
            "Please report this to the TensorFlow team. When filing the bug, set the verbosity to 10 (on Linux, `export AUTOGRAPH_VERBOSITY=10`) and attach the full output.\n",
            "Cause: <cyfunction Socket.send at 0x7f92eebc4e58> is not a module, class, method, function, traceback, frame, or code object\n",
            "To silence this warning, decorate the function with @tf.autograph.experimental.do_not_convert\n",
            "WARNING: AutoGraph could not transform <bound method Socket.send of <zmq.sugar.socket.Socket object at 0x7f92d737d5f8>> and will run it as-is.\n",
            "Please report this to the TensorFlow team. When filing the bug, set the verbosity to 10 (on Linux, `export AUTOGRAPH_VERBOSITY=10`) and attach the full output.\n",
            "Cause: <cyfunction Socket.send at 0x7f92eebc4e58> is not a module, class, method, function, traceback, frame, or code object\n",
            "To silence this warning, decorate the function with @tf.autograph.experimental.do_not_convert\n"
          ],
          "name": "stdout"
        },
        {
          "output_type": "stream",
          "text": [
            "The parameters `output_attentions`, `output_hidden_states` and `use_cache` cannot be updated when calling a model.They have to be set to True/False in the config object (i.e.: `config=XConfig.from_pretrained('name', output_attentions=True)`).\n"
          ],
          "name": "stderr"
        },
        {
          "output_type": "stream",
          "text": [
            "WARNING:tensorflow:AutoGraph could not transform <function wrap at 0x7f92ec5598c8> and will run it as-is.\n",
            "Cause: while/else statement not yet supported\n",
            "To silence this warning, decorate the function with @tf.autograph.experimental.do_not_convert\n"
          ],
          "name": "stdout"
        },
        {
          "output_type": "stream",
          "text": [
            "The parameter `return_dict` cannot be set in graph mode and will always be set to `True`.\n"
          ],
          "name": "stderr"
        },
        {
          "output_type": "stream",
          "text": [
            "WARNING: AutoGraph could not transform <function wrap at 0x7f92ec5598c8> and will run it as-is.\n",
            "Cause: while/else statement not yet supported\n",
            "To silence this warning, decorate the function with @tf.autograph.experimental.do_not_convert\n"
          ],
          "name": "stdout"
        },
        {
          "output_type": "stream",
          "text": [
            "The parameters `output_attentions`, `output_hidden_states` and `use_cache` cannot be updated when calling a model.They have to be set to True/False in the config object (i.e.: `config=XConfig.from_pretrained('name', output_attentions=True)`).\n",
            "The parameter `return_dict` cannot be set in graph mode and will always be set to `True`.\n"
          ],
          "name": "stderr"
        },
        {
          "output_type": "stream",
          "text": [
            "695/695 [==============================] - ETA: 0s - loss: 0.2829"
          ],
          "name": "stdout"
        },
        {
          "output_type": "stream",
          "text": [
            "The parameters `output_attentions`, `output_hidden_states` and `use_cache` cannot be updated when calling a model.They have to be set to True/False in the config object (i.e.: `config=XConfig.from_pretrained('name', output_attentions=True)`).\n",
            "The parameter `return_dict` cannot be set in graph mode and will always be set to `True`.\n"
          ],
          "name": "stderr"
        },
        {
          "output_type": "stream",
          "text": [
            "\b\b\b\b\b\b\b\b\b\b\b\b\b\b\b\b\b\b\b\b\b\b\b\b\b\b\b\b\b\b\b\b\b\b\b\b\b\b\b\b\b\b\b\b\b\b\b\b\b\b\b\b\b\b\b\b\b\b\b\b\b\b\b\b\b\r695/695 [==============================] - 360s 462ms/step - loss: 0.2828 - val_loss: 0.1076\n",
            "Epoch 2/2\n",
            "695/695 [==============================] - 320s 461ms/step - loss: 0.0664 - val_loss: 0.0999\n"
          ],
          "name": "stdout"
        },
        {
          "output_type": "stream",
          "text": [
            "The parameters `output_attentions`, `output_hidden_states` and `use_cache` cannot be updated when calling a model.They have to be set to True/False in the config object (i.e.: `config=XConfig.from_pretrained('name', output_attentions=True)`).\n",
            "The parameter `return_dict` cannot be set in graph mode and will always be set to `True`.\n",
            "All model checkpoint layers were used when initializing TFBertForSequenceClassification.\n",
            "\n",
            "Some layers of TFBertForSequenceClassification were not initialized from the model checkpoint at TurkuNLP/bert-base-finnish-uncased-v1 and are newly initialized: ['classifier']\n",
            "You should probably TRAIN this model on a down-stream task to be able to use it for predictions and inference.\n",
            "The parameters `output_attentions`, `output_hidden_states` and `use_cache` cannot be updated when calling a model.They have to be set to True/False in the config object (i.e.: `config=XConfig.from_pretrained('name', output_attentions=True)`).\n",
            "The parameter `return_dict` cannot be set in graph mode and will always be set to `True`.\n"
          ],
          "name": "stderr"
        },
        {
          "output_type": "stream",
          "text": [
            "Epoch 1/2\n"
          ],
          "name": "stdout"
        },
        {
          "output_type": "stream",
          "text": [
            "The parameters `output_attentions`, `output_hidden_states` and `use_cache` cannot be updated when calling a model.They have to be set to True/False in the config object (i.e.: `config=XConfig.from_pretrained('name', output_attentions=True)`).\n",
            "The parameter `return_dict` cannot be set in graph mode and will always be set to `True`.\n"
          ],
          "name": "stderr"
        },
        {
          "output_type": "stream",
          "text": [
            "695/695 [==============================] - ETA: 0s - loss: 0.3350"
          ],
          "name": "stdout"
        },
        {
          "output_type": "stream",
          "text": [
            "The parameters `output_attentions`, `output_hidden_states` and `use_cache` cannot be updated when calling a model.They have to be set to True/False in the config object (i.e.: `config=XConfig.from_pretrained('name', output_attentions=True)`).\n",
            "The parameter `return_dict` cannot be set in graph mode and will always be set to `True`.\n"
          ],
          "name": "stderr"
        },
        {
          "output_type": "stream",
          "text": [
            "695/695 [==============================] - 129s 164ms/step - loss: 0.3349 - val_loss: 0.2060\n",
            "Epoch 2/2\n",
            "695/695 [==============================] - 112s 160ms/step - loss: 0.1628 - val_loss: 0.1964\n"
          ],
          "name": "stdout"
        },
        {
          "output_type": "stream",
          "text": [
            "The parameters `output_attentions`, `output_hidden_states` and `use_cache` cannot be updated when calling a model.They have to be set to True/False in the config object (i.e.: `config=XConfig.from_pretrained('name', output_attentions=True)`).\n",
            "The parameter `return_dict` cannot be set in graph mode and will always be set to `True`.\n"
          ],
          "name": "stderr"
        },
        {
          "output_type": "stream",
          "text": [
            "Model: TurkuNLP/bert-base-finnish-uncased-v1, initial learning rate = 2e-05, input size = 128, batch size = 16, epochs = 2\n",
            "Accuracy: 0.9406\n",
            "Weighted F-score: 0.8691\n",
            "Average accuracy: 0.9406, stdev: 0.0000\n",
            "Average weighted F-score: 0.8691, stdev: 0.0000\n",
            "              precision    recall  f1-score   support\n",
            "\n",
            "       anger     0.8852    0.8617    0.8733       188\n",
            "         joy     0.8442    0.8844    0.8638       147\n",
            "\n",
            "   micro avg     0.8665    0.8716    0.8690       335\n",
            "   macro avg     0.8647    0.8730    0.8686       335\n",
            "weighted avg     0.8672    0.8716    0.8691       335\n",
            " samples avg     0.2437    0.2437    0.2436       335\n",
            "\n",
            "Accuracy: 0.8562\n",
            "Weighted F-score: 0.7145\n",
            "Average accuracy: 0.8562, stdev: 0.0000\n",
            "Average weighted F-score: 0.7145, stdev: 0.0000\n",
            "              precision    recall  f1-score   support\n",
            "\n",
            "       anger     0.7160    0.6170    0.6629       188\n",
            "         joy     0.8000    0.7619    0.7805       147\n",
            "\n",
            "   micro avg     0.7550    0.6806    0.7159       335\n",
            "   macro avg     0.7580    0.6895    0.7217       335\n",
            "weighted avg     0.7529    0.6806    0.7145       335\n",
            " samples avg     0.1877    0.1902    0.1884       335\n",
            "\n"
          ],
          "name": "stdout"
        },
        {
          "output_type": "stream",
          "text": [
            "/usr/local/lib/python3.6/dist-packages/sklearn/metrics/_classification.py:1272: UndefinedMetricWarning: Precision and F-score are ill-defined and being set to 0.0 in samples with no predicted labels. Use `zero_division` parameter to control this behavior.\n",
            "  _warn_prf(average, modifier, msg_start, len(result))\n",
            "/usr/local/lib/python3.6/dist-packages/sklearn/metrics/_classification.py:1272: UndefinedMetricWarning: Recall and F-score are ill-defined and being set to 0.0 in samples with no true labels. Use `zero_division` parameter to control this behavior.\n",
            "  _warn_prf(average, modifier, msg_start, len(result))\n"
          ],
          "name": "stderr"
        }
      ]
    },
    {
      "cell_type": "code",
      "metadata": {
        "colab": {
          "base_uri": "https://localhost:8080/"
        },
        "id": "s-zKGDywGI7Y",
        "outputId": "cdb935bc-da43-4991-afd0-851de2b54ce3"
      },
      "source": [
        "# Evaluate with out-of-domain data\n",
        "\n",
        "import csv\n",
        "from sklearn.metrics import classification_report, confusion_matrix, ConfusionMatrixDisplay\n",
        "\n",
        "ood_texts = load_fields(twitter_and_s24_fn)[1][1:]\n",
        "\n",
        "ood_encodings = tokenizer(ood_texts, truncation=True, padding='longest', max_length=input_size)\n",
        "\n",
        "e_ood = [tf.constant(ood_encodings.data['input_ids']),\n",
        "         tf.constant(ood_encodings.data['attention_mask']),\n",
        "         tf.constant(ood_encodings.data['token_type_ids'])]\n",
        "\n",
        "def print_agreement_results(pred1, pred2):\n",
        "  accuracy = accuracy_score(pred1, pred2)\n",
        "  weighted_f1 = f1_score(pred1, pred2, average='weighted')\n",
        "  print(f\"Accuracy: {accuracy}\")\n",
        "  print(f\"Weighted F-score: {weighted_f1}\")\n",
        "  print(f\"Reverse F-score: {f1_score(pred2, pred1, average='weighted')}\")\n",
        "\n",
        "def list_labels(l):\n",
        "  return [i for i, v in enumerate(l) if v]\n",
        "\n",
        "def write_disagreement(texts, pred1, pred2):\n",
        "  incorrect = [t for t in zip(texts, pred1, pred2) if t[1] != t[2]]\n",
        "  print(incorrect[:5])\n",
        "  with open('/content/tdt_xed_disagreement_ood.tsv', 'wt') as file:\n",
        "    tsv_writer = csv.writer(file, delimiter='\\t')\n",
        "    tsv_writer.writerow(('text', 'tdt_neutrals', 'xed_neutrals'))\n",
        "    for t in incorrect:\n",
        "      tsv_writer.writerow(t)\n",
        "\n",
        "def write_all(texts, pred1, pred2):\n",
        "  all = [(text, p1[0], p1[1], p2[0], p2[1]) for text, p1, p2 in zip(texts, pred1, pred2)]\n",
        "  print(all[:5])\n",
        "  first = index_to_name[encoded_to_index[0]]\n",
        "  second = index_to_name[encoded_to_index[1]]\n",
        "  with open('/content/tdt_xed_probabilities_ood.tsv', 'wt') as file:\n",
        "    tsv_writer = csv.writer(file, delimiter='\\t')\n",
        "    tsv_writer.writerow(('text', 'tdt_neutral_'+first, 'tdt_neutral_'+second, 'xed_neutral_'+first, 'xed_neutral_'+second))\n",
        "    for t in all:\n",
        "      tsv_writer.writerow(t)\n",
        "\n",
        "runs_tdt = train_evaluate(t, train_label_vectors, e_ood, None, num_labels, 1)[0]\n",
        "runs_xed = train_evaluate(t_xed, xed_train_label_vectors, e_ood, None, num_labels, 1)[0]\n",
        "pred1 = (tf.math.sigmoid(runs_tdt) >= 0.5).numpy().tolist()\n",
        "pred2 = (tf.math.sigmoid(runs_xed) >= 0.5).numpy().tolist()\n",
        "list1 = [','.join(n) if n else 'neutral' for n in [[index_to_name[encoded_to_index[e]] for e in list_labels(l)] for l in pred1]]\n",
        "list2 = [','.join(n) if n else 'neutral' for n in [[index_to_name[encoded_to_index[e]] for e in list_labels(l)] for l in pred2]]\n",
        "\n",
        "print(f\"Model: {model_name}, initial learning rate = {init_lr}, input size = {input_size}, batch size = {batch_size_train}, epochs = {epochs}\")\n",
        "print_agreement_results(pred1, pred2)\n",
        "write_disagreement(ood_texts, list1, list2)\n",
        "write_all(ood_texts, tf.math.sigmoid(runs_tdt).numpy().tolist(), tf.math.sigmoid(runs_xed).numpy().tolist())"
      ],
      "execution_count": 7,
      "outputs": [
        {
          "output_type": "stream",
          "text": [
            "All model checkpoint layers were used when initializing TFBertForSequenceClassification.\n",
            "\n",
            "Some layers of TFBertForSequenceClassification were not initialized from the model checkpoint at TurkuNLP/bert-base-finnish-uncased-v1 and are newly initialized: ['classifier']\n",
            "You should probably TRAIN this model on a down-stream task to be able to use it for predictions and inference.\n",
            "The parameters `output_attentions`, `output_hidden_states` and `use_cache` cannot be updated when calling a model.They have to be set to True/False in the config object (i.e.: `config=XConfig.from_pretrained('name', output_attentions=True)`).\n",
            "The parameter `return_dict` cannot be set in graph mode and will always be set to `True`.\n"
          ],
          "name": "stderr"
        },
        {
          "output_type": "stream",
          "text": [
            "Epoch 1/2\n"
          ],
          "name": "stdout"
        },
        {
          "output_type": "stream",
          "text": [
            "The parameters `output_attentions`, `output_hidden_states` and `use_cache` cannot be updated when calling a model.They have to be set to True/False in the config object (i.e.: `config=XConfig.from_pretrained('name', output_attentions=True)`).\n",
            "The parameter `return_dict` cannot be set in graph mode and will always be set to `True`.\n"
          ],
          "name": "stderr"
        },
        {
          "output_type": "stream",
          "text": [
            "695/695 [==============================] - ETA: 0s - loss: 0.2788"
          ],
          "name": "stdout"
        },
        {
          "output_type": "stream",
          "text": [
            "The parameters `output_attentions`, `output_hidden_states` and `use_cache` cannot be updated when calling a model.They have to be set to True/False in the config object (i.e.: `config=XConfig.from_pretrained('name', output_attentions=True)`).\n",
            "The parameter `return_dict` cannot be set in graph mode and will always be set to `True`.\n"
          ],
          "name": "stderr"
        },
        {
          "output_type": "stream",
          "text": [
            "\b\b\b\b\b\b\b\b\b\b\b\b\b\b\b\b\b\b\b\b\b\b\b\b\b\b\b\b\b\b\b\b\b\b\b\b\b\b\b\b\b\b\b\b\b\b\b\b\b\b\b\b\b\b\b\b\b\b\b\b\b\b\b\b\b\r695/695 [==============================] - 328s 450ms/step - loss: 0.2786 - val_loss: 0.0000e+00\n",
            "Epoch 2/2\n",
            "695/695 [==============================] - 311s 447ms/step - loss: 0.0665 - val_loss: 0.0000e+00\n"
          ],
          "name": "stdout"
        },
        {
          "output_type": "stream",
          "text": [
            "The parameters `output_attentions`, `output_hidden_states` and `use_cache` cannot be updated when calling a model.They have to be set to True/False in the config object (i.e.: `config=XConfig.from_pretrained('name', output_attentions=True)`).\n",
            "The parameter `return_dict` cannot be set in graph mode and will always be set to `True`.\n",
            "All model checkpoint layers were used when initializing TFBertForSequenceClassification.\n",
            "\n",
            "Some layers of TFBertForSequenceClassification were not initialized from the model checkpoint at TurkuNLP/bert-base-finnish-uncased-v1 and are newly initialized: ['classifier']\n",
            "You should probably TRAIN this model on a down-stream task to be able to use it for predictions and inference.\n",
            "The parameters `output_attentions`, `output_hidden_states` and `use_cache` cannot be updated when calling a model.They have to be set to True/False in the config object (i.e.: `config=XConfig.from_pretrained('name', output_attentions=True)`).\n",
            "The parameter `return_dict` cannot be set in graph mode and will always be set to `True`.\n"
          ],
          "name": "stderr"
        },
        {
          "output_type": "stream",
          "text": [
            "Epoch 1/2\n"
          ],
          "name": "stdout"
        },
        {
          "output_type": "stream",
          "text": [
            "The parameters `output_attentions`, `output_hidden_states` and `use_cache` cannot be updated when calling a model.They have to be set to True/False in the config object (i.e.: `config=XConfig.from_pretrained('name', output_attentions=True)`).\n",
            "The parameter `return_dict` cannot be set in graph mode and will always be set to `True`.\n"
          ],
          "name": "stderr"
        },
        {
          "output_type": "stream",
          "text": [
            "695/695 [==============================] - ETA: 0s - loss: 0.3728"
          ],
          "name": "stdout"
        },
        {
          "output_type": "stream",
          "text": [
            "The parameters `output_attentions`, `output_hidden_states` and `use_cache` cannot be updated when calling a model.They have to be set to True/False in the config object (i.e.: `config=XConfig.from_pretrained('name', output_attentions=True)`).\n",
            "The parameter `return_dict` cannot be set in graph mode and will always be set to `True`.\n"
          ],
          "name": "stderr"
        },
        {
          "output_type": "stream",
          "text": [
            "\b\b\b\b\b\b\b\b\b\b\b\b\b\b\b\b\b\b\b\b\b\b\b\b\b\b\b\b\b\b\b\b\b\b\b\b\b\b\b\b\b\b\b\b\b\b\b\b\b\b\b\b\b\b\b\b\b\b\b\b\b\b\b\b\b\r695/695 [==============================] - 125s 158ms/step - loss: 0.3727 - val_loss: 0.0000e+00\n",
            "Epoch 2/2\n",
            "695/695 [==============================] - 108s 155ms/step - loss: 0.1587 - val_loss: 0.0000e+00\n"
          ],
          "name": "stdout"
        },
        {
          "output_type": "stream",
          "text": [
            "The parameters `output_attentions`, `output_hidden_states` and `use_cache` cannot be updated when calling a model.They have to be set to True/False in the config object (i.e.: `config=XConfig.from_pretrained('name', output_attentions=True)`).\n",
            "The parameter `return_dict` cannot be set in graph mode and will always be set to `True`.\n"
          ],
          "name": "stderr"
        },
        {
          "output_type": "stream",
          "text": [
            "Model: TurkuNLP/bert-base-finnish-uncased-v1, initial learning rate = 2e-05, input size = 128, batch size = 16, epochs = 2\n",
            "Accuracy: 0.6456086286594761\n",
            "Weighted F-score: 0.4392528362869333\n",
            "Reverse F-score: 0.4379080857786892\n",
            "[('vai onko taas, ettei heitä saa sakottaa, kun he tuovat imatralle niin paljon rahaa.......', 'neutral', 'anger'), ('Valitettavasti.', 'anger', 'neutral'), ('Ympäristötukea pitää myöntää sen mukaan, mitkä ovat tuen myöntämisen perusteet.', 'neutral', 'anger'), ('Perusteisiin tuskin kuuluu se, että joku tekee kauppoja suomalaisen (=Suomessa sijaitsevan) telakkateollisuuden kanssa.', 'neutral', 'anger'), ('Kaikki tuet vääristävät markkinoita, minkä vuoksi ne pitäisi pyrkiä kieltämään kansainvälisesti yhteisin sopimuksin.', 'neutral', 'anger')]\n",
            "[('No kuka hel-vetti sinnekin muka on menossa?', 0.8972923755645752, 0.00721206096932292, 0.8505796790122986, 0.007059789728373289), ('Eilen noin klo 18 poliisien siiviiliskoda ajeli tutkan kanssa pietarintietä edestakaisin rajalle ja takaisin ja useat vanjat paineli reipasta ylinopeutta yhtä ja kahta kaistaa sinnepäin, mutta ihmetyksekseni ei mitään reaktiota vaikka skoda ajeli vastaan heitä !!!', 0.02125672996044159, 0.004829229321330786, 0.37388622760772705, 0.11106357723474503), ('tietääkö kukaan onkohan vanjat saaneet täällä yhtään kertaa ylinopeussakkoja tai sakkoja yleensäkään ??', 0.028792880475521088, 0.0028033347334712744, 0.02625587396323681, 0.007963958196341991), ('vai onko taas, ettei heitä saa sakottaa, kun he tuovat imatralle niin paljon rahaa.......', 0.36881884932518005, 0.0060842144303023815, 0.9677274227142334, 0.046177104115486145), ('olen kyllä nähnyt useamman kerran kun suomi -autoja seisoo pietarintien tienposkessa poliisien \"jututettavina\".', 0.006238734349608421, 0.002239230088889599, 0.04669556766748428, 0.01146853156387806)]\n"
          ],
          "name": "stdout"
        }
      ]
    }
  ]
}