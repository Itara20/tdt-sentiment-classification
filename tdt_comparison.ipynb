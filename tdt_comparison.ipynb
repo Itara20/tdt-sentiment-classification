{
  "nbformat": 4,
  "nbformat_minor": 0,
  "metadata": {
    "colab": {
      "name": "tdt-comparison.ipynb",
      "provenance": []
    },
    "kernelspec": {
      "name": "python3",
      "display_name": "Python 3"
    },
    "accelerator": "GPU",
    "widgets": {
      "application/vnd.jupyter.widget-state+json": {
        "09a3168b666a4727885308c4e11ff654": {
          "model_module": "@jupyter-widgets/controls",
          "model_name": "HBoxModel",
          "state": {
            "_view_name": "HBoxView",
            "_dom_classes": [],
            "_model_name": "HBoxModel",
            "_view_module": "@jupyter-widgets/controls",
            "_model_module_version": "1.5.0",
            "_view_count": null,
            "_view_module_version": "1.5.0",
            "box_style": "",
            "layout": "IPY_MODEL_012856d4d43e478a9e832dc13e38a900",
            "_model_module": "@jupyter-widgets/controls",
            "children": [
              "IPY_MODEL_11f4f08bbc1e4bb3a769d4e09c239a4a",
              "IPY_MODEL_d87ea80d2e814d619b7b54911b3a0bf7"
            ]
          }
        },
        "012856d4d43e478a9e832dc13e38a900": {
          "model_module": "@jupyter-widgets/base",
          "model_name": "LayoutModel",
          "state": {
            "_view_name": "LayoutView",
            "grid_template_rows": null,
            "right": null,
            "justify_content": null,
            "_view_module": "@jupyter-widgets/base",
            "overflow": null,
            "_model_module_version": "1.2.0",
            "_view_count": null,
            "flex_flow": null,
            "width": null,
            "min_width": null,
            "border": null,
            "align_items": null,
            "bottom": null,
            "_model_module": "@jupyter-widgets/base",
            "top": null,
            "grid_column": null,
            "overflow_y": null,
            "overflow_x": null,
            "grid_auto_flow": null,
            "grid_area": null,
            "grid_template_columns": null,
            "flex": null,
            "_model_name": "LayoutModel",
            "justify_items": null,
            "grid_row": null,
            "max_height": null,
            "align_content": null,
            "visibility": null,
            "align_self": null,
            "height": null,
            "min_height": null,
            "padding": null,
            "grid_auto_rows": null,
            "grid_gap": null,
            "max_width": null,
            "order": null,
            "_view_module_version": "1.2.0",
            "grid_template_areas": null,
            "object_position": null,
            "object_fit": null,
            "grid_auto_columns": null,
            "margin": null,
            "display": null,
            "left": null
          }
        },
        "11f4f08bbc1e4bb3a769d4e09c239a4a": {
          "model_module": "@jupyter-widgets/controls",
          "model_name": "FloatProgressModel",
          "state": {
            "_view_name": "ProgressView",
            "style": "IPY_MODEL_1afff4b894544054bebf4900a321c856",
            "_dom_classes": [],
            "description": "Downloading: 100%",
            "_model_name": "FloatProgressModel",
            "bar_style": "success",
            "max": 433,
            "_view_module": "@jupyter-widgets/controls",
            "_model_module_version": "1.5.0",
            "value": 433,
            "_view_count": null,
            "_view_module_version": "1.5.0",
            "orientation": "horizontal",
            "min": 0,
            "description_tooltip": null,
            "_model_module": "@jupyter-widgets/controls",
            "layout": "IPY_MODEL_fa1f32819dfc46e8a373cc8ba0cac5b2"
          }
        },
        "d87ea80d2e814d619b7b54911b3a0bf7": {
          "model_module": "@jupyter-widgets/controls",
          "model_name": "HTMLModel",
          "state": {
            "_view_name": "HTMLView",
            "style": "IPY_MODEL_100dbb2369a44c2f80f7891e2029eb0a",
            "_dom_classes": [],
            "description": "",
            "_model_name": "HTMLModel",
            "placeholder": "​",
            "_view_module": "@jupyter-widgets/controls",
            "_model_module_version": "1.5.0",
            "value": " 433/433 [00:00&lt;00:00, 469B/s]",
            "_view_count": null,
            "_view_module_version": "1.5.0",
            "description_tooltip": null,
            "_model_module": "@jupyter-widgets/controls",
            "layout": "IPY_MODEL_d4458fabee844f4ca50241f7548ce77a"
          }
        },
        "1afff4b894544054bebf4900a321c856": {
          "model_module": "@jupyter-widgets/controls",
          "model_name": "ProgressStyleModel",
          "state": {
            "_view_name": "StyleView",
            "_model_name": "ProgressStyleModel",
            "description_width": "initial",
            "_view_module": "@jupyter-widgets/base",
            "_model_module_version": "1.5.0",
            "_view_count": null,
            "_view_module_version": "1.2.0",
            "bar_color": null,
            "_model_module": "@jupyter-widgets/controls"
          }
        },
        "fa1f32819dfc46e8a373cc8ba0cac5b2": {
          "model_module": "@jupyter-widgets/base",
          "model_name": "LayoutModel",
          "state": {
            "_view_name": "LayoutView",
            "grid_template_rows": null,
            "right": null,
            "justify_content": null,
            "_view_module": "@jupyter-widgets/base",
            "overflow": null,
            "_model_module_version": "1.2.0",
            "_view_count": null,
            "flex_flow": null,
            "width": null,
            "min_width": null,
            "border": null,
            "align_items": null,
            "bottom": null,
            "_model_module": "@jupyter-widgets/base",
            "top": null,
            "grid_column": null,
            "overflow_y": null,
            "overflow_x": null,
            "grid_auto_flow": null,
            "grid_area": null,
            "grid_template_columns": null,
            "flex": null,
            "_model_name": "LayoutModel",
            "justify_items": null,
            "grid_row": null,
            "max_height": null,
            "align_content": null,
            "visibility": null,
            "align_self": null,
            "height": null,
            "min_height": null,
            "padding": null,
            "grid_auto_rows": null,
            "grid_gap": null,
            "max_width": null,
            "order": null,
            "_view_module_version": "1.2.0",
            "grid_template_areas": null,
            "object_position": null,
            "object_fit": null,
            "grid_auto_columns": null,
            "margin": null,
            "display": null,
            "left": null
          }
        },
        "100dbb2369a44c2f80f7891e2029eb0a": {
          "model_module": "@jupyter-widgets/controls",
          "model_name": "DescriptionStyleModel",
          "state": {
            "_view_name": "StyleView",
            "_model_name": "DescriptionStyleModel",
            "description_width": "",
            "_view_module": "@jupyter-widgets/base",
            "_model_module_version": "1.5.0",
            "_view_count": null,
            "_view_module_version": "1.2.0",
            "_model_module": "@jupyter-widgets/controls"
          }
        },
        "d4458fabee844f4ca50241f7548ce77a": {
          "model_module": "@jupyter-widgets/base",
          "model_name": "LayoutModel",
          "state": {
            "_view_name": "LayoutView",
            "grid_template_rows": null,
            "right": null,
            "justify_content": null,
            "_view_module": "@jupyter-widgets/base",
            "overflow": null,
            "_model_module_version": "1.2.0",
            "_view_count": null,
            "flex_flow": null,
            "width": null,
            "min_width": null,
            "border": null,
            "align_items": null,
            "bottom": null,
            "_model_module": "@jupyter-widgets/base",
            "top": null,
            "grid_column": null,
            "overflow_y": null,
            "overflow_x": null,
            "grid_auto_flow": null,
            "grid_area": null,
            "grid_template_columns": null,
            "flex": null,
            "_model_name": "LayoutModel",
            "justify_items": null,
            "grid_row": null,
            "max_height": null,
            "align_content": null,
            "visibility": null,
            "align_self": null,
            "height": null,
            "min_height": null,
            "padding": null,
            "grid_auto_rows": null,
            "grid_gap": null,
            "max_width": null,
            "order": null,
            "_view_module_version": "1.2.0",
            "grid_template_areas": null,
            "object_position": null,
            "object_fit": null,
            "grid_auto_columns": null,
            "margin": null,
            "display": null,
            "left": null
          }
        },
        "76bec972ce164ec9af99eae27599714d": {
          "model_module": "@jupyter-widgets/controls",
          "model_name": "HBoxModel",
          "state": {
            "_view_name": "HBoxView",
            "_dom_classes": [],
            "_model_name": "HBoxModel",
            "_view_module": "@jupyter-widgets/controls",
            "_model_module_version": "1.5.0",
            "_view_count": null,
            "_view_module_version": "1.5.0",
            "box_style": "",
            "layout": "IPY_MODEL_aa9e591da4ec4da58588ef0c48d5f559",
            "_model_module": "@jupyter-widgets/controls",
            "children": [
              "IPY_MODEL_28eda611f77b4dc2938f3fcb212c1473",
              "IPY_MODEL_8356e1952b2941b38f15ca05ecb886d2"
            ]
          }
        },
        "aa9e591da4ec4da58588ef0c48d5f559": {
          "model_module": "@jupyter-widgets/base",
          "model_name": "LayoutModel",
          "state": {
            "_view_name": "LayoutView",
            "grid_template_rows": null,
            "right": null,
            "justify_content": null,
            "_view_module": "@jupyter-widgets/base",
            "overflow": null,
            "_model_module_version": "1.2.0",
            "_view_count": null,
            "flex_flow": null,
            "width": null,
            "min_width": null,
            "border": null,
            "align_items": null,
            "bottom": null,
            "_model_module": "@jupyter-widgets/base",
            "top": null,
            "grid_column": null,
            "overflow_y": null,
            "overflow_x": null,
            "grid_auto_flow": null,
            "grid_area": null,
            "grid_template_columns": null,
            "flex": null,
            "_model_name": "LayoutModel",
            "justify_items": null,
            "grid_row": null,
            "max_height": null,
            "align_content": null,
            "visibility": null,
            "align_self": null,
            "height": null,
            "min_height": null,
            "padding": null,
            "grid_auto_rows": null,
            "grid_gap": null,
            "max_width": null,
            "order": null,
            "_view_module_version": "1.2.0",
            "grid_template_areas": null,
            "object_position": null,
            "object_fit": null,
            "grid_auto_columns": null,
            "margin": null,
            "display": null,
            "left": null
          }
        },
        "28eda611f77b4dc2938f3fcb212c1473": {
          "model_module": "@jupyter-widgets/controls",
          "model_name": "FloatProgressModel",
          "state": {
            "_view_name": "ProgressView",
            "style": "IPY_MODEL_19dd989811754900bfa5917c06464c15",
            "_dom_classes": [],
            "description": "Downloading: 100%",
            "_model_name": "FloatProgressModel",
            "bar_style": "success",
            "max": 656459492,
            "_view_module": "@jupyter-widgets/controls",
            "_model_module_version": "1.5.0",
            "value": 656459492,
            "_view_count": null,
            "_view_module_version": "1.5.0",
            "orientation": "horizontal",
            "min": 0,
            "description_tooltip": null,
            "_model_module": "@jupyter-widgets/controls",
            "layout": "IPY_MODEL_9adf4f7a3b03410b8739a51c2f448c41"
          }
        },
        "8356e1952b2941b38f15ca05ecb886d2": {
          "model_module": "@jupyter-widgets/controls",
          "model_name": "HTMLModel",
          "state": {
            "_view_name": "HTMLView",
            "style": "IPY_MODEL_f9caf451082e4964bbbc06291d4e5334",
            "_dom_classes": [],
            "description": "",
            "_model_name": "HTMLModel",
            "placeholder": "​",
            "_view_module": "@jupyter-widgets/controls",
            "_model_module_version": "1.5.0",
            "value": " 656M/656M [00:18&lt;00:00, 34.9MB/s]",
            "_view_count": null,
            "_view_module_version": "1.5.0",
            "description_tooltip": null,
            "_model_module": "@jupyter-widgets/controls",
            "layout": "IPY_MODEL_1aefa2e95abd42ad945503d8d5e043b5"
          }
        },
        "19dd989811754900bfa5917c06464c15": {
          "model_module": "@jupyter-widgets/controls",
          "model_name": "ProgressStyleModel",
          "state": {
            "_view_name": "StyleView",
            "_model_name": "ProgressStyleModel",
            "description_width": "initial",
            "_view_module": "@jupyter-widgets/base",
            "_model_module_version": "1.5.0",
            "_view_count": null,
            "_view_module_version": "1.2.0",
            "bar_color": null,
            "_model_module": "@jupyter-widgets/controls"
          }
        },
        "9adf4f7a3b03410b8739a51c2f448c41": {
          "model_module": "@jupyter-widgets/base",
          "model_name": "LayoutModel",
          "state": {
            "_view_name": "LayoutView",
            "grid_template_rows": null,
            "right": null,
            "justify_content": null,
            "_view_module": "@jupyter-widgets/base",
            "overflow": null,
            "_model_module_version": "1.2.0",
            "_view_count": null,
            "flex_flow": null,
            "width": null,
            "min_width": null,
            "border": null,
            "align_items": null,
            "bottom": null,
            "_model_module": "@jupyter-widgets/base",
            "top": null,
            "grid_column": null,
            "overflow_y": null,
            "overflow_x": null,
            "grid_auto_flow": null,
            "grid_area": null,
            "grid_template_columns": null,
            "flex": null,
            "_model_name": "LayoutModel",
            "justify_items": null,
            "grid_row": null,
            "max_height": null,
            "align_content": null,
            "visibility": null,
            "align_self": null,
            "height": null,
            "min_height": null,
            "padding": null,
            "grid_auto_rows": null,
            "grid_gap": null,
            "max_width": null,
            "order": null,
            "_view_module_version": "1.2.0",
            "grid_template_areas": null,
            "object_position": null,
            "object_fit": null,
            "grid_auto_columns": null,
            "margin": null,
            "display": null,
            "left": null
          }
        },
        "f9caf451082e4964bbbc06291d4e5334": {
          "model_module": "@jupyter-widgets/controls",
          "model_name": "DescriptionStyleModel",
          "state": {
            "_view_name": "StyleView",
            "_model_name": "DescriptionStyleModel",
            "description_width": "",
            "_view_module": "@jupyter-widgets/base",
            "_model_module_version": "1.5.0",
            "_view_count": null,
            "_view_module_version": "1.2.0",
            "_model_module": "@jupyter-widgets/controls"
          }
        },
        "1aefa2e95abd42ad945503d8d5e043b5": {
          "model_module": "@jupyter-widgets/base",
          "model_name": "LayoutModel",
          "state": {
            "_view_name": "LayoutView",
            "grid_template_rows": null,
            "right": null,
            "justify_content": null,
            "_view_module": "@jupyter-widgets/base",
            "overflow": null,
            "_model_module_version": "1.2.0",
            "_view_count": null,
            "flex_flow": null,
            "width": null,
            "min_width": null,
            "border": null,
            "align_items": null,
            "bottom": null,
            "_model_module": "@jupyter-widgets/base",
            "top": null,
            "grid_column": null,
            "overflow_y": null,
            "overflow_x": null,
            "grid_auto_flow": null,
            "grid_area": null,
            "grid_template_columns": null,
            "flex": null,
            "_model_name": "LayoutModel",
            "justify_items": null,
            "grid_row": null,
            "max_height": null,
            "align_content": null,
            "visibility": null,
            "align_self": null,
            "height": null,
            "min_height": null,
            "padding": null,
            "grid_auto_rows": null,
            "grid_gap": null,
            "max_width": null,
            "order": null,
            "_view_module_version": "1.2.0",
            "grid_template_areas": null,
            "object_position": null,
            "object_fit": null,
            "grid_auto_columns": null,
            "margin": null,
            "display": null,
            "left": null
          }
        }
      }
    }
  },
  "cells": [
    {
      "cell_type": "markdown",
      "metadata": {
        "id": "95KlBy13ZkNJ"
      },
      "source": [
        "This notebook compares three different data configurations based on the TDT sentiment data set:\r\n",
        "\r\n",
        "\r\n",
        "1. Focus sentence only\r\n",
        "2. Left context + focus sentence\r\n",
        "3. Left context + focus sentence + right context\r\n",
        "\r\n",
        "In each case, TFBertForSequenceClassification from Huggingface Transformers is used as the model. With the non-contextual data, uncased FinBERT is used, while the contextual data configurations use cased FinBERT."
      ]
    },
    {
      "cell_type": "code",
      "metadata": {
        "id": "hoxXFC88nY7J"
      },
      "source": [
        "# Set the file paths here\r\n",
        "tdt_train_fn = '/content/tdt-sentiment-151020-train-clean.tsv'\r\n",
        "tdt_eval_fn = '/content/tdt-sentiment-151020-dev.tsv'\r\n",
        "tdt_unannotated_full_train_fn = '/content/tdt-train-texts.tsv'\r\n",
        "tdt_unannotated_full_eval_fn = '/content/tdt-dev-texts.tsv'"
      ],
      "execution_count": 1,
      "outputs": []
    },
    {
      "cell_type": "code",
      "metadata": {
        "id": "afWbsFHsU5kS"
      },
      "source": [
        "!pip install transformers"
      ],
      "execution_count": null,
      "outputs": []
    },
    {
      "cell_type": "code",
      "metadata": {
        "id": "R5EJjENmU3sk"
      },
      "source": [
        "# Choose model and set up input\r\n",
        "\r\n",
        "from transformers import BertTokenizerFast\r\n",
        "from sklearn.preprocessing import LabelEncoder\r\n",
        "from itertools import groupby\r\n",
        "import tensorflow as tf\r\n",
        "\r\n",
        "def transpose(l):\r\n",
        "  return [list(t) for t in zip(*l)]\r\n",
        "\r\n",
        "def load_fields(fn):\r\n",
        "  return transpose([l.rstrip('\\n').split('\\t') for l in open(fn).readlines()])\r\n",
        "\r\n",
        "train_id, train_texts, train_labels_raw = load_fields(tdt_train_fn)[:3]\r\n",
        "eval_id, eval_texts, eval_labels_raw = load_fields(tdt_eval_fn)[:3]\r\n",
        "\r\n",
        "group_train_id, group_train_texts = load_fields(tdt_unannotated_full_train_fn)[:2]\r\n",
        "group_eval_id, group_eval_texts = load_fields(tdt_unannotated_full_eval_fn)[:2]\r\n",
        "\r\n",
        "label_encoder = LabelEncoder()\r\n",
        "label_encoder.fit(train_labels_raw)\r\n",
        "train_labels = label_encoder.transform(train_labels_raw).tolist()\r\n",
        "eval_labels = label_encoder.transform(eval_labels_raw).tolist()\r\n",
        "num_labels = len(label_encoder.classes_)\r\n",
        "\r\n",
        "model_name_nc = \"TurkuNLP/bert-base-finnish-uncased-v1\"\r\n",
        "model_name_c = \"TurkuNLP/bert-base-finnish-cased-v1\"\r\n",
        "\r\n",
        "tokenizer_nc = BertTokenizerFast.from_pretrained(model_name_nc)\r\n",
        "tokenizer_c = BertTokenizerFast.from_pretrained(model_name_c)\r\n",
        "\r\n",
        "input_size_nc = 128\r\n",
        "input_size_c = 256\r\n",
        "\r\n",
        "train_encodings_nc = tokenizer_nc(train_texts, truncation=True, padding='longest', max_length=input_size_nc)\r\n",
        "eval_encodings_nc = tokenizer_nc(eval_texts, truncation=True, padding='longest', max_length=input_size_nc)\r\n",
        "train_encodings_c = list(zip([s.split('.', 1)[0] for s in group_train_id], tokenizer_c(group_train_texts, add_special_tokens=False)['input_ids']))\r\n",
        "eval_encodings_c = list(zip([s.split('.', 1)[0] for s in group_eval_id], tokenizer_c(group_eval_texts, add_special_tokens=False)['input_ids']))\r\n",
        "\r\n",
        "t = [tf.constant(train_encodings_nc.data['input_ids']),\r\n",
        "     tf.constant(train_encodings_nc.data['attention_mask']),\r\n",
        "     tf.constant(train_encodings_nc.data['token_type_ids'])]\r\n",
        "\r\n",
        "e = [tf.constant(eval_encodings_nc.data['input_ids']),\r\n",
        "     tf.constant(eval_encodings_nc.data['attention_mask']),\r\n",
        "     tf.constant(eval_encodings_nc.data['token_type_ids'])]"
      ],
      "execution_count": 4,
      "outputs": []
    },
    {
      "cell_type": "code",
      "metadata": {
        "id": "hQKG-5PyVYex"
      },
      "source": [
        "# Set up data with sentence id separating context from focus sentence\r\n",
        "\r\n",
        "def add_left_sep_context(ids, labels, encodings, input_size, tokenizer):\r\n",
        "  group_encodings = dict([(k, [v for _, v in list(g)]) for k, g in groupby(encodings, lambda x: x[0])])\r\n",
        "  contextualized = []\r\n",
        "  for id, label in zip(ids, labels):\r\n",
        "    group_id, n = id.split('.', 1)\r\n",
        "    i = int(n)-1\r\n",
        "    group = group_encodings[group_id]\r\n",
        "    prev_context = [e for l in group[:i] for e in l]\r\n",
        "    sentence_size = min(len(group[i]), input_size - 3)\r\n",
        "    context_size = max(input_size - sentence_size - 3, 0)\r\n",
        "    prev_context = prev_context[len(prev_context)-context_size:]\r\n",
        "    input = [tokenizer.cls_token_id] + prev_context + [tokenizer.sep_token_id] + group[i][:sentence_size] + [tokenizer.sep_token_id]\r\n",
        "    mask = [0] + [0]*len(prev_context) + [0] + [1]*sentence_size + [1]\r\n",
        "    contextualized.append((input, mask))\r\n",
        "  \r\n",
        "  return tuple(list(t) for t in zip(*contextualized))\r\n",
        "\r\n",
        "def add_full_sep_context(ids, labels, encodings, input_size, tokenizer):\r\n",
        "  group_encodings = dict([(k, [v for _, v in list(g)]) for k, g in groupby(encodings, lambda x: x[0])])\r\n",
        "  contextualized = []\r\n",
        "  for id, label in zip(ids, labels):\r\n",
        "    group_id, n = id.split('.', 1)\r\n",
        "    i = int(n)-1\r\n",
        "    group = group_encodings[group_id]\r\n",
        "    prev_context = [e for l in group[:i] for e in l]\r\n",
        "    fol_context = [e for l in group[i+1:] for e in l]\r\n",
        "    sentence_size = min(len(group[i]), input_size - 3)\r\n",
        "    context_size = max(input_size - sentence_size - 3, 0)\r\n",
        "    prev_context = prev_context[len(prev_context)-max(context_size-len(fol_context), context_size//2):]\r\n",
        "    fol_context = fol_context[:context_size-len(prev_context)]\r\n",
        "    input = [tokenizer.cls_token_id] + prev_context + [tokenizer.sep_token_id] + group[i][:sentence_size] + [tokenizer.sep_token_id] + fol_context\r\n",
        "    mask = [0] + [0]*len(prev_context) + [0] + [1]*sentence_size + [1] + [0]*len(fol_context)\r\n",
        "    contextualized.append((input, mask))\r\n",
        "  \r\n",
        "  return tuple(list(t) for t in zip(*contextualized))\r\n",
        "\r\n",
        "def pad(l, size):\r\n",
        "  return [s + [0]*(size - len(s)) for s in l]\r\n",
        "\r\n",
        "left_sep_train_context = add_left_sep_context(train_id, train_labels, train_encodings_c, input_size_c, tokenizer_c)\r\n",
        "left_sep_eval_context = add_left_sep_context(eval_id, eval_labels, eval_encodings_c, input_size_c, tokenizer_c)\r\n",
        "\r\n",
        "left_sep_train_attention_mask = pad([[1]*len(s) for s in left_sep_train_context[0]], input_size_c)\r\n",
        "left_sep_train_input = pad(left_sep_train_context[0], input_size_c)\r\n",
        "left_sep_train_mask = pad(left_sep_train_context[1], input_size_c)\r\n",
        "left_sep_eval_attention_mask = pad([[1]*len(s) for s in left_sep_eval_context[0]], input_size_c)\r\n",
        "left_sep_eval_input = pad(left_sep_eval_context[0], input_size_c)\r\n",
        "left_sep_eval_mask = pad(left_sep_eval_context[1], input_size_c)\r\n",
        "\r\n",
        "full_sep_train_context = add_full_sep_context(train_id, train_labels, train_encodings_c, input_size_c, tokenizer_c)\r\n",
        "full_sep_eval_context = add_full_sep_context(eval_id, eval_labels, eval_encodings_c, input_size_c, tokenizer_c)\r\n",
        "\r\n",
        "full_sep_train_attention_mask = pad([[1]*len(s) for s in full_sep_train_context[0]], input_size_c)\r\n",
        "full_sep_train_input = pad(full_sep_train_context[0], input_size_c)\r\n",
        "full_sep_train_mask = pad(full_sep_train_context[1], input_size_c)\r\n",
        "full_sep_eval_attention_mask = pad([[1]*len(s) for s in full_sep_eval_context[0]], input_size_c)\r\n",
        "full_sep_eval_input = pad(full_sep_eval_context[0], input_size_c)\r\n",
        "full_sep_eval_mask = pad(full_sep_eval_context[1], input_size_c)\r\n",
        "\r\n",
        "t_left_sep = [tf.constant(left_sep_train_input),\r\n",
        "              tf.constant(left_sep_train_attention_mask),\r\n",
        "              tf.constant(left_sep_train_mask)]\r\n",
        "\r\n",
        "e_left_sep = [tf.constant(left_sep_eval_input),\r\n",
        "              tf.constant(left_sep_eval_attention_mask),\r\n",
        "              tf.constant(left_sep_eval_mask)]\r\n",
        "\r\n",
        "t_full_sep = [tf.constant(full_sep_train_input),\r\n",
        "              tf.constant(full_sep_train_attention_mask),\r\n",
        "              tf.constant(full_sep_train_mask)]\r\n",
        "\r\n",
        "e_full_sep = [tf.constant(full_sep_eval_input),\r\n",
        "              tf.constant(full_sep_eval_attention_mask),\r\n",
        "              tf.constant(full_sep_eval_mask)]"
      ],
      "execution_count": 8,
      "outputs": []
    },
    {
      "cell_type": "code",
      "metadata": {
        "id": "dtJxiDBQVc9g"
      },
      "source": [
        "# Set up training\r\n",
        "\r\n",
        "from transformers import TFBertForSequenceClassification, optimization_tf\r\n",
        "\r\n",
        "class ReturnBestEarlyStopping(tf.keras.callbacks.EarlyStopping):\r\n",
        "  def __init__(self, **kwargs):\r\n",
        "    super(ReturnBestEarlyStopping, self).__init__(**kwargs)\r\n",
        "  \r\n",
        "  def on_train_end(self, logs=None):\r\n",
        "    if self.restore_best_weights:\r\n",
        "      self.model.set_weights(self.best_weights)\r\n",
        "\r\n",
        "init_lr = 2e-5\r\n",
        "epochs = 3\r\n",
        "batch_size_train = 16\r\n",
        "\r\n",
        "def train(model_name, t, train_labels, eval, num_labels, init_lr, epochs, batch_size_train):\r\n",
        "  size_train = len(train_labels)\r\n",
        "  steps_per_epoch = int(size_train/batch_size_train)\r\n",
        "  steps_train = steps_per_epoch*epochs\r\n",
        "  steps_warmup = int(epochs * size_train * 0.1 / batch_size_train)\r\n",
        "\r\n",
        "  model = TFBertForSequenceClassification.from_pretrained(model_name,\r\n",
        "                                                          num_labels=num_labels)\r\n",
        "  optimizer, _ = optimization_tf.create_optimizer(init_lr=init_lr,\r\n",
        "                                                  num_train_steps=steps_train,\r\n",
        "                                                  num_warmup_steps=steps_warmup,\r\n",
        "                                                  weight_decay_rate=0.01)\r\n",
        "  model.compile(optimizer=optimizer,\r\n",
        "                loss=model.compute_loss,\r\n",
        "                metrics=['sparse_categorical_accuracy'])\r\n",
        "  model.fit(t,\r\n",
        "            train_labels,\r\n",
        "            validation_data=eval,\r\n",
        "            batch_size=batch_size_train,\r\n",
        "            epochs=epochs,\r\n",
        "            callbacks=[ReturnBestEarlyStopping(monitor='val_sparse_categorical_accuracy', patience=2, restore_best_weights=True)])\r\n",
        "  return model"
      ],
      "execution_count": 13,
      "outputs": []
    },
    {
      "cell_type": "code",
      "metadata": {
        "id": "lfGZHQwiVdnh"
      },
      "source": [
        "# Set up evaluation\r\n",
        "\r\n",
        "from sklearn.metrics import classification_report, accuracy_score, f1_score, confusion_matrix, ConfusionMatrixDisplay\r\n",
        "import numpy as np\r\n",
        "\r\n",
        "def train_evaluate(runs, model_name, train_x, train_y, eval_x, eval_y, num_labels, init_lr, epochs, batch_size_train, run_count):\r\n",
        "  for i in range(run_count):\r\n",
        "    bert = train(model_name, train_x, train_y, (eval_x, eval_y), num_labels, init_lr, epochs, batch_size_train)\r\n",
        "    runs.append(bert.predict(eval_x)[0])\r\n",
        "\r\n",
        "def format_floats(l):\r\n",
        "  return ', '.join(f'{x:.4f}' for x in l)\r\n",
        "\r\n",
        "def print_results(runs, eval_labels):\r\n",
        "  accuracy = [accuracy_score(eval_labels, p.argmax(-1)) for p in runs]\r\n",
        "  weighted_f1 = [f1_score(eval_labels, p.argmax(-1), average='weighted') for p in runs]\r\n",
        "  print(f\"Accuracy: {format_floats(accuracy)}\")\r\n",
        "  print(f\"Weighted F-score: {format_floats(weighted_f1)}\")\r\n",
        "  print(f'Average accuracy: {np.mean(accuracy):.4f}, stdev: {np.std(accuracy):.4f}')\r\n",
        "  print(f'Average weighted F-score: {np.mean(weighted_f1):.4f}, stdev: {np.std(weighted_f1):.4f}')\r\n",
        "  max_i = accuracy.index(max(accuracy))\r\n",
        "  max_p = runs[max_i].argmax(-1)\r\n",
        "  ConfusionMatrixDisplay(confusion_matrix(eval_labels, max_p), label_encoder.classes_).plot()\r\n",
        "  print(classification_report(eval_labels, max_p, target_names=label_encoder.classes_, digits=4))"
      ],
      "execution_count": 14,
      "outputs": []
    },
    {
      "cell_type": "code",
      "metadata": {
        "id": "OftnVqOZd4il",
        "colab": {
          "base_uri": "https://localhost:8080/",
          "height": 573
        },
        "outputId": "03cc5c37-3aa2-46a5-a01c-3e692abfec39"
      },
      "source": [
        "# Evaluate noncontextual data\r\n",
        "\r\n",
        "runs_no_context = []\r\n",
        "train_evaluate(runs_no_context, model_name_nc, t, tf.constant(train_labels), e, tf.constant(eval_labels), num_labels, init_lr, epochs, batch_size_train, 7)\r\n",
        "print(f\"Model: {model_name_nc}, initial learning rate = {init_lr}, input size = {input_size_nc}, batch size = {batch_size_train}, epochs = {epochs}\")\r\n",
        "print_results(runs_no_context, eval_labels)"
      ],
      "execution_count": 17,
      "outputs": [
        {
          "output_type": "stream",
          "text": [
            "Model: TurkuNLP/bert-base-finnish-uncased-v1, initial learning rate = 2e-05, input size = 128, batch size = 16, epochs = 3\n",
            "Accuracy: 0.8874, 0.8831, 0.8857\n",
            "Weighted F-score: 0.8835, 0.8788, 0.8822\n",
            "Average accuracy: 0.8854, stdev: 0.0017\n",
            "Average weighted F-score: 0.8815, stdev: 0.0020\n",
            "              precision    recall  f1-score   support\n",
            "\n",
            "    negative     0.8265    0.6328    0.7168       128\n",
            "     neutral     0.9168    0.9582    0.9370       862\n",
            "       other     0.6842    0.6118    0.6460        85\n",
            "    positive     0.8396    0.8396    0.8396       106\n",
            "\n",
            "    accuracy                         0.8874      1181\n",
            "   macro avg     0.8168    0.7606    0.7849      1181\n",
            "weighted avg     0.8833    0.8874    0.8835      1181\n",
            "\n"
          ],
          "name": "stdout"
        },
        {
          "output_type": "display_data",
          "data": {
            "image/png": "[encoded data removed]",
            "text/plain": [
              "<Figure size 432x288 with 2 Axes>"
            ]
          },
          "metadata": {
            "tags": [],
            "needs_background": "light"
          }
        }
      ]
    },
    {
      "cell_type": "code",
      "metadata": {
        "colab": {
          "base_uri": "https://localhost:8080/",
          "height": 1000,
          "referenced_widgets": [
            "09a3168b666a4727885308c4e11ff654",
            "012856d4d43e478a9e832dc13e38a900",
            "11f4f08bbc1e4bb3a769d4e09c239a4a",
            "d87ea80d2e814d619b7b54911b3a0bf7",
            "1afff4b894544054bebf4900a321c856",
            "fa1f32819dfc46e8a373cc8ba0cac5b2",
            "100dbb2369a44c2f80f7891e2029eb0a",
            "d4458fabee844f4ca50241f7548ce77a",
            "76bec972ce164ec9af99eae27599714d",
            "aa9e591da4ec4da58588ef0c48d5f559",
            "28eda611f77b4dc2938f3fcb212c1473",
            "8356e1952b2941b38f15ca05ecb886d2",
            "19dd989811754900bfa5917c06464c15",
            "9adf4f7a3b03410b8739a51c2f448c41",
            "f9caf451082e4964bbbc06291d4e5334",
            "1aefa2e95abd42ad945503d8d5e043b5"
          ]
        },
        "id": "HMUnC_VvWE56",
        "outputId": "3110b062-2644-4ae4-f537-12a0e5c07e20"
      },
      "source": [
        "# Evaluate data with left context only\r\n",
        "\r\n",
        "runs_left_context = []\r\n",
        "train_evaluate(runs_left_context, model_name_c, t_left_sep, tf.constant(train_labels), e_left_sep, tf.constant(eval_labels), num_labels, init_lr, epochs, batch_size_train, 7)\r\n",
        "print(f\"Model: {model_name_c}, initial learning rate = {init_lr}, input size = {input_size_c}, batch size = {batch_size_train}, epochs = {epochs}\")\r\n",
        "print_results(runs_left_context, eval_labels)"
      ],
      "execution_count": 18,
      "outputs": [
        {
          "output_type": "display_data",
          "data": {
            "application/vnd.jupyter.widget-view+json": {
              "model_id": "09a3168b666a4727885308c4e11ff654",
              "version_minor": 0,
              "version_major": 2
            },
            "text/plain": [
              "HBox(children=(FloatProgress(value=0.0, description='Downloading', max=433.0, style=ProgressStyle(description_…"
            ]
          },
          "metadata": {
            "tags": []
          }
        },
        {
          "output_type": "stream",
          "text": [
            "\n"
          ],
          "name": "stdout"
        },
        {
          "output_type": "display_data",
          "data": {
            "application/vnd.jupyter.widget-view+json": {
              "model_id": "76bec972ce164ec9af99eae27599714d",
              "version_minor": 0,
              "version_major": 2
            },
            "text/plain": [
              "HBox(children=(FloatProgress(value=0.0, description='Downloading', max=656459492.0, style=ProgressStyle(descri…"
            ]
          },
          "metadata": {
            "tags": []
          }
        },
        {
          "output_type": "stream",
          "text": [
            "\n"
          ],
          "name": "stdout"
        },
        {
          "output_type": "stream",
          "text": [
            "All model checkpoint layers were used when initializing TFBertForSequenceClassification.\n",
            "\n",
            "Some layers of TFBertForSequenceClassification were not initialized from the model checkpoint at TurkuNLP/bert-base-finnish-cased-v1 and are newly initialized: ['classifier']\n",
            "You should probably TRAIN this model on a down-stream task to be able to use it for predictions and inference.\n",
            "The parameters `output_attentions`, `output_hidden_states` and `use_cache` cannot be updated when calling a model.They have to be set to True/False in the config object (i.e.: `config=XConfig.from_pretrained('name', output_attentions=True)`).\n",
            "The parameter `return_dict` cannot be set in graph mode and will always be set to `True`.\n"
          ],
          "name": "stderr"
        },
        {
          "output_type": "stream",
          "text": [
            "Epoch 1/3\n"
          ],
          "name": "stdout"
        },
        {
          "output_type": "stream",
          "text": [
            "The parameters `output_attentions`, `output_hidden_states` and `use_cache` cannot be updated when calling a model.They have to be set to True/False in the config object (i.e.: `config=XConfig.from_pretrained('name', output_attentions=True)`).\n",
            "The parameter `return_dict` cannot be set in graph mode and will always be set to `True`.\n"
          ],
          "name": "stderr"
        },
        {
          "output_type": "stream",
          "text": [
            "686/686 [==============================] - ETA: 0s - loss: 0.7494 - sparse_categorical_accuracy: 0.7549"
          ],
          "name": "stdout"
        },
        {
          "output_type": "stream",
          "text": [
            "The parameters `output_attentions`, `output_hidden_states` and `use_cache` cannot be updated when calling a model.They have to be set to True/False in the config object (i.e.: `config=XConfig.from_pretrained('name', output_attentions=True)`).\n",
            "The parameter `return_dict` cannot be set in graph mode and will always be set to `True`.\n"
          ],
          "name": "stderr"
        },
        {
          "output_type": "stream",
          "text": [
            "\b\b\b\b\b\b\b\b\b\b\b\b\b\b\b\b\b\b\b\b\b\b\b\b\b\b\b\b\b\b\b\b\b\b\b\b\b\b\b\b\b\b\b\b\b\b\b\b\b\b\b\b\b\b\b\b\b\b\b\b\b\b\b\b\b\b\b\b\b\b\b\b\b\b\b\b\b\b\b\b\b\b\b\b\b\b\b\b\b\b\b\b\b\b\b\b\b\b\b\b\b\b\b\r686/686 [==============================] - 647s 921ms/step - loss: 0.7491 - sparse_categorical_accuracy: 0.7550 - val_loss: 0.3345 - val_sparse_categorical_accuracy: 0.8823\n",
            "Epoch 2/3\n",
            "686/686 [==============================] - 635s 926ms/step - loss: 0.2299 - sparse_categorical_accuracy: 0.9251 - val_loss: 0.3277 - val_sparse_categorical_accuracy: 0.8798\n",
            "Epoch 3/3\n",
            "686/686 [==============================] - 636s 927ms/step - loss: 0.1016 - sparse_categorical_accuracy: 0.9728 - val_loss: 0.3653 - val_sparse_categorical_accuracy: 0.8789\n"
          ],
          "name": "stdout"
        },
        {
          "output_type": "stream",
          "text": [
            "The parameters `output_attentions`, `output_hidden_states` and `use_cache` cannot be updated when calling a model.They have to be set to True/False in the config object (i.e.: `config=XConfig.from_pretrained('name', output_attentions=True)`).\n",
            "The parameter `return_dict` cannot be set in graph mode and will always be set to `True`.\n"
          ],
          "name": "stderr"
        },
        {
          "output_type": "stream",
          "text": [
            "Model: TurkuNLP/bert-base-finnish-cased-v1, initial learning rate = 2e-05, input size = 256, batch size = 16, epochs = 3\n",
            "Accuracy: 0.8823\n",
            "Weighted F-score: 0.8807\n",
            "Average accuracy: 0.8823, stdev: 0.0000\n",
            "Average weighted F-score: 0.8807, stdev: 0.0000\n",
            "              precision    recall  f1-score   support\n",
            "\n",
            "    negative     0.7570    0.6328    0.6894       128\n",
            "     neutral     0.9317    0.9339    0.9328       862\n",
            "       other     0.7250    0.6824    0.7030        85\n",
            "    positive     0.7538    0.9245    0.8305       106\n",
            "\n",
            "    accuracy                         0.8823      1181\n",
            "   macro avg     0.7919    0.7934    0.7889      1181\n",
            "weighted avg     0.8819    0.8823    0.8807      1181\n",
            "\n"
          ],
          "name": "stdout"
        },
        {
          "output_type": "display_data",
          "data": {
            "image/png": "[encoded data removed]",
            "text/plain": [
              "<Figure size 432x288 with 2 Axes>"
            ]
          },
          "metadata": {
            "tags": [],
            "needs_background": "light"
          }
        }
      ]
    },
    {
      "cell_type": "code",
      "metadata": {
        "colab": {
          "base_uri": "https://localhost:8080/",
          "height": 924
        },
        "id": "sjmA82KhFJN3",
        "outputId": "1c379671-3f02-42dd-db54-b798507fc20d"
      },
      "source": [
        "# Evaluate data with both left and right context\r\n",
        "\r\n",
        "runs_full_context = []\r\n",
        "train_evaluate(runs_full_context, model_name_c, t_full_sep, tf.constant(train_labels), e_full_sep, tf.constant(eval_labels), num_labels, init_lr, epochs, batch_size_train, 7)\r\n",
        "print(f\"Model: {model_name_c}, initial learning rate = {init_lr}, input size = {input_size_c}, batch size = {batch_size_train}, epochs = {epochs}\")\r\n",
        "print_results(runs_full_context, eval_labels)"
      ],
      "execution_count": 19,
      "outputs": [
        {
          "output_type": "stream",
          "text": [
            "All model checkpoint layers were used when initializing TFBertForSequenceClassification.\n",
            "\n",
            "Some layers of TFBertForSequenceClassification were not initialized from the model checkpoint at TurkuNLP/bert-base-finnish-cased-v1 and are newly initialized: ['classifier']\n",
            "You should probably TRAIN this model on a down-stream task to be able to use it for predictions and inference.\n",
            "The parameters `output_attentions`, `output_hidden_states` and `use_cache` cannot be updated when calling a model.They have to be set to True/False in the config object (i.e.: `config=XConfig.from_pretrained('name', output_attentions=True)`).\n",
            "The parameter `return_dict` cannot be set in graph mode and will always be set to `True`.\n"
          ],
          "name": "stderr"
        },
        {
          "output_type": "stream",
          "text": [
            "Epoch 1/3\n"
          ],
          "name": "stdout"
        },
        {
          "output_type": "stream",
          "text": [
            "The parameters `output_attentions`, `output_hidden_states` and `use_cache` cannot be updated when calling a model.They have to be set to True/False in the config object (i.e.: `config=XConfig.from_pretrained('name', output_attentions=True)`).\n",
            "The parameter `return_dict` cannot be set in graph mode and will always be set to `True`.\n"
          ],
          "name": "stderr"
        },
        {
          "output_type": "stream",
          "text": [
            "686/686 [==============================] - ETA: 0s - loss: 0.7263 - sparse_categorical_accuracy: 0.7432"
          ],
          "name": "stdout"
        },
        {
          "output_type": "stream",
          "text": [
            "The parameters `output_attentions`, `output_hidden_states` and `use_cache` cannot be updated when calling a model.They have to be set to True/False in the config object (i.e.: `config=XConfig.from_pretrained('name', output_attentions=True)`).\n",
            "The parameter `return_dict` cannot be set in graph mode and will always be set to `True`.\n"
          ],
          "name": "stderr"
        },
        {
          "output_type": "stream",
          "text": [
            "\b\b\b\b\b\b\b\b\b\b\b\b\b\b\b\b\b\b\b\b\b\b\b\b\b\b\b\b\b\b\b\b\b\b\b\b\b\b\b\b\b\b\b\b\b\b\b\b\b\b\b\b\b\b\b\b\b\b\b\b\b\b\b\b\b\b\b\b\b\b\b\b\b\b\b\b\b\b\b\b\b\b\b\b\b\b\b\b\b\b\b\b\b\b\b\b\b\b\b\b\b\b\b\r686/686 [==============================] - 656s 935ms/step - loss: 0.7261 - sparse_categorical_accuracy: 0.7433 - val_loss: 0.3275 - val_sparse_categorical_accuracy: 0.8806\n",
            "Epoch 2/3\n",
            "686/686 [==============================] - 649s 946ms/step - loss: 0.2311 - sparse_categorical_accuracy: 0.9240 - val_loss: 0.3008 - val_sparse_categorical_accuracy: 0.8916\n",
            "Epoch 3/3\n",
            "686/686 [==============================] - 648s 944ms/step - loss: 0.0911 - sparse_categorical_accuracy: 0.9728 - val_loss: 0.3436 - val_sparse_categorical_accuracy: 0.8916\n"
          ],
          "name": "stdout"
        },
        {
          "output_type": "stream",
          "text": [
            "The parameters `output_attentions`, `output_hidden_states` and `use_cache` cannot be updated when calling a model.They have to be set to True/False in the config object (i.e.: `config=XConfig.from_pretrained('name', output_attentions=True)`).\n",
            "The parameter `return_dict` cannot be set in graph mode and will always be set to `True`.\n"
          ],
          "name": "stderr"
        },
        {
          "output_type": "stream",
          "text": [
            "Model: TurkuNLP/bert-base-finnish-cased-v1, initial learning rate = 2e-05, input size = 256, batch size = 16, epochs = 3\n",
            "Accuracy: 0.8916\n",
            "Weighted F-score: 0.8905\n",
            "Average accuracy: 0.8916, stdev: 0.0000\n",
            "Average weighted F-score: 0.8905, stdev: 0.0000\n",
            "              precision    recall  f1-score   support\n",
            "\n",
            "    negative     0.7652    0.6875    0.7243       128\n",
            "     neutral     0.9378    0.9443    0.9410       862\n",
            "       other     0.6951    0.6706    0.6826        85\n",
            "    positive     0.8103    0.8868    0.8468       106\n",
            "\n",
            "    accuracy                         0.8916      1181\n",
            "   macro avg     0.8021    0.7973    0.7987      1181\n",
            "weighted avg     0.8902    0.8916    0.8905      1181\n",
            "\n"
          ],
          "name": "stdout"
        },
        {
          "output_type": "display_data",
          "data": {
            "image/png": "[encoded data removed]",
            "text/plain": [
              "<Figure size 432x288 with 2 Axes>"
            ]
          },
          "metadata": {
            "tags": [],
            "needs_background": "light"
          }
        }
      ]
    }
  ]
}