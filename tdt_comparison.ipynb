{
  "nbformat": 4,
  "nbformat_minor": 0,
  "metadata": {
    "colab": {
      "name": "tdt-comparison.ipynb",
      "provenance": [],
      "collapsed_sections": []
    },
    "kernelspec": {
      "name": "python3",
      "display_name": "Python 3"
    },
    "accelerator": "GPU",
    "widgets": {
      "application/vnd.jupyter.widget-state+json": {
        "e1af151cfcbe4e3b8485aeeec513f45d": {
          "model_module": "@jupyter-widgets/controls",
          "model_name": "HBoxModel",
          "state": {
            "_view_name": "HBoxView",
            "_dom_classes": [],
            "_model_name": "HBoxModel",
            "_view_module": "@jupyter-widgets/controls",
            "_model_module_version": "1.5.0",
            "_view_count": null,
            "_view_module_version": "1.5.0",
            "box_style": "",
            "layout": "IPY_MODEL_c647de7693d44bc084accbaab68e9334",
            "_model_module": "@jupyter-widgets/controls",
            "children": [
              "IPY_MODEL_cf0dd10dd11b438a8aeafafefeb2e28e",
              "IPY_MODEL_6c90c65d99c74102aa982bfbcfc27e85"
            ]
          }
        },
        "c647de7693d44bc084accbaab68e9334": {
          "model_module": "@jupyter-widgets/base",
          "model_name": "LayoutModel",
          "state": {
            "_view_name": "LayoutView",
            "grid_template_rows": null,
            "right": null,
            "justify_content": null,
            "_view_module": "@jupyter-widgets/base",
            "overflow": null,
            "_model_module_version": "1.2.0",
            "_view_count": null,
            "flex_flow": null,
            "width": null,
            "min_width": null,
            "border": null,
            "align_items": null,
            "bottom": null,
            "_model_module": "@jupyter-widgets/base",
            "top": null,
            "grid_column": null,
            "overflow_y": null,
            "overflow_x": null,
            "grid_auto_flow": null,
            "grid_area": null,
            "grid_template_columns": null,
            "flex": null,
            "_model_name": "LayoutModel",
            "justify_items": null,
            "grid_row": null,
            "max_height": null,
            "align_content": null,
            "visibility": null,
            "align_self": null,
            "height": null,
            "min_height": null,
            "padding": null,
            "grid_auto_rows": null,
            "grid_gap": null,
            "max_width": null,
            "order": null,
            "_view_module_version": "1.2.0",
            "grid_template_areas": null,
            "object_position": null,
            "object_fit": null,
            "grid_auto_columns": null,
            "margin": null,
            "display": null,
            "left": null
          }
        },
        "cf0dd10dd11b438a8aeafafefeb2e28e": {
          "model_module": "@jupyter-widgets/controls",
          "model_name": "FloatProgressModel",
          "state": {
            "_view_name": "ProgressView",
            "style": "IPY_MODEL_b6acafe6a8fd4f219d74d1ea7e289278",
            "_dom_classes": [],
            "description": "Downloading: 100%",
            "_model_name": "FloatProgressModel",
            "bar_style": "success",
            "max": 433,
            "_view_module": "@jupyter-widgets/controls",
            "_model_module_version": "1.5.0",
            "value": 433,
            "_view_count": null,
            "_view_module_version": "1.5.0",
            "orientation": "horizontal",
            "min": 0,
            "description_tooltip": null,
            "_model_module": "@jupyter-widgets/controls",
            "layout": "IPY_MODEL_36702c762c9f49f0afec82910eefc99c"
          }
        },
        "6c90c65d99c74102aa982bfbcfc27e85": {
          "model_module": "@jupyter-widgets/controls",
          "model_name": "HTMLModel",
          "state": {
            "_view_name": "HTMLView",
            "style": "IPY_MODEL_e22f9d32781244e0aa73756677b128a0",
            "_dom_classes": [],
            "description": "",
            "_model_name": "HTMLModel",
            "placeholder": "​",
            "_view_module": "@jupyter-widgets/controls",
            "_model_module_version": "1.5.0",
            "value": " 433/433 [00:01&lt;00:00, 413B/s]",
            "_view_count": null,
            "_view_module_version": "1.5.0",
            "description_tooltip": null,
            "_model_module": "@jupyter-widgets/controls",
            "layout": "IPY_MODEL_38b5ae5576574db3a308cd0ef794e579"
          }
        },
        "b6acafe6a8fd4f219d74d1ea7e289278": {
          "model_module": "@jupyter-widgets/controls",
          "model_name": "ProgressStyleModel",
          "state": {
            "_view_name": "StyleView",
            "_model_name": "ProgressStyleModel",
            "description_width": "initial",
            "_view_module": "@jupyter-widgets/base",
            "_model_module_version": "1.5.0",
            "_view_count": null,
            "_view_module_version": "1.2.0",
            "bar_color": null,
            "_model_module": "@jupyter-widgets/controls"
          }
        },
        "36702c762c9f49f0afec82910eefc99c": {
          "model_module": "@jupyter-widgets/base",
          "model_name": "LayoutModel",
          "state": {
            "_view_name": "LayoutView",
            "grid_template_rows": null,
            "right": null,
            "justify_content": null,
            "_view_module": "@jupyter-widgets/base",
            "overflow": null,
            "_model_module_version": "1.2.0",
            "_view_count": null,
            "flex_flow": null,
            "width": null,
            "min_width": null,
            "border": null,
            "align_items": null,
            "bottom": null,
            "_model_module": "@jupyter-widgets/base",
            "top": null,
            "grid_column": null,
            "overflow_y": null,
            "overflow_x": null,
            "grid_auto_flow": null,
            "grid_area": null,
            "grid_template_columns": null,
            "flex": null,
            "_model_name": "LayoutModel",
            "justify_items": null,
            "grid_row": null,
            "max_height": null,
            "align_content": null,
            "visibility": null,
            "align_self": null,
            "height": null,
            "min_height": null,
            "padding": null,
            "grid_auto_rows": null,
            "grid_gap": null,
            "max_width": null,
            "order": null,
            "_view_module_version": "1.2.0",
            "grid_template_areas": null,
            "object_position": null,
            "object_fit": null,
            "grid_auto_columns": null,
            "margin": null,
            "display": null,
            "left": null
          }
        },
        "e22f9d32781244e0aa73756677b128a0": {
          "model_module": "@jupyter-widgets/controls",
          "model_name": "DescriptionStyleModel",
          "state": {
            "_view_name": "StyleView",
            "_model_name": "DescriptionStyleModel",
            "description_width": "",
            "_view_module": "@jupyter-widgets/base",
            "_model_module_version": "1.5.0",
            "_view_count": null,
            "_view_module_version": "1.2.0",
            "_model_module": "@jupyter-widgets/controls"
          }
        },
        "38b5ae5576574db3a308cd0ef794e579": {
          "model_module": "@jupyter-widgets/base",
          "model_name": "LayoutModel",
          "state": {
            "_view_name": "LayoutView",
            "grid_template_rows": null,
            "right": null,
            "justify_content": null,
            "_view_module": "@jupyter-widgets/base",
            "overflow": null,
            "_model_module_version": "1.2.0",
            "_view_count": null,
            "flex_flow": null,
            "width": null,
            "min_width": null,
            "border": null,
            "align_items": null,
            "bottom": null,
            "_model_module": "@jupyter-widgets/base",
            "top": null,
            "grid_column": null,
            "overflow_y": null,
            "overflow_x": null,
            "grid_auto_flow": null,
            "grid_area": null,
            "grid_template_columns": null,
            "flex": null,
            "_model_name": "LayoutModel",
            "justify_items": null,
            "grid_row": null,
            "max_height": null,
            "align_content": null,
            "visibility": null,
            "align_self": null,
            "height": null,
            "min_height": null,
            "padding": null,
            "grid_auto_rows": null,
            "grid_gap": null,
            "max_width": null,
            "order": null,
            "_view_module_version": "1.2.0",
            "grid_template_areas": null,
            "object_position": null,
            "object_fit": null,
            "grid_auto_columns": null,
            "margin": null,
            "display": null,
            "left": null
          }
        },
        "e19fdfcfd42149d78e1c250d524aa9fe": {
          "model_module": "@jupyter-widgets/controls",
          "model_name": "HBoxModel",
          "state": {
            "_view_name": "HBoxView",
            "_dom_classes": [],
            "_model_name": "HBoxModel",
            "_view_module": "@jupyter-widgets/controls",
            "_model_module_version": "1.5.0",
            "_view_count": null,
            "_view_module_version": "1.5.0",
            "box_style": "",
            "layout": "IPY_MODEL_ff8a057df7e34527830cf531de30c46d",
            "_model_module": "@jupyter-widgets/controls",
            "children": [
              "IPY_MODEL_916c52eb6b314edd8d08e7b3254046f4",
              "IPY_MODEL_58a8265b40a14c249894134efd9772ab"
            ]
          }
        },
        "ff8a057df7e34527830cf531de30c46d": {
          "model_module": "@jupyter-widgets/base",
          "model_name": "LayoutModel",
          "state": {
            "_view_name": "LayoutView",
            "grid_template_rows": null,
            "right": null,
            "justify_content": null,
            "_view_module": "@jupyter-widgets/base",
            "overflow": null,
            "_model_module_version": "1.2.0",
            "_view_count": null,
            "flex_flow": null,
            "width": null,
            "min_width": null,
            "border": null,
            "align_items": null,
            "bottom": null,
            "_model_module": "@jupyter-widgets/base",
            "top": null,
            "grid_column": null,
            "overflow_y": null,
            "overflow_x": null,
            "grid_auto_flow": null,
            "grid_area": null,
            "grid_template_columns": null,
            "flex": null,
            "_model_name": "LayoutModel",
            "justify_items": null,
            "grid_row": null,
            "max_height": null,
            "align_content": null,
            "visibility": null,
            "align_self": null,
            "height": null,
            "min_height": null,
            "padding": null,
            "grid_auto_rows": null,
            "grid_gap": null,
            "max_width": null,
            "order": null,
            "_view_module_version": "1.2.0",
            "grid_template_areas": null,
            "object_position": null,
            "object_fit": null,
            "grid_auto_columns": null,
            "margin": null,
            "display": null,
            "left": null
          }
        },
        "916c52eb6b314edd8d08e7b3254046f4": {
          "model_module": "@jupyter-widgets/controls",
          "model_name": "FloatProgressModel",
          "state": {
            "_view_name": "ProgressView",
            "style": "IPY_MODEL_a5c08754cf7247279d8e8c10966f53d8",
            "_dom_classes": [],
            "description": "Downloading: 100%",
            "_model_name": "FloatProgressModel",
            "bar_style": "success",
            "max": 656459492,
            "_view_module": "@jupyter-widgets/controls",
            "_model_module_version": "1.5.0",
            "value": 656459492,
            "_view_count": null,
            "_view_module_version": "1.5.0",
            "orientation": "horizontal",
            "min": 0,
            "description_tooltip": null,
            "_model_module": "@jupyter-widgets/controls",
            "layout": "IPY_MODEL_ce98375190b34880a2dd648d25474aa7"
          }
        },
        "58a8265b40a14c249894134efd9772ab": {
          "model_module": "@jupyter-widgets/controls",
          "model_name": "HTMLModel",
          "state": {
            "_view_name": "HTMLView",
            "style": "IPY_MODEL_e7c85b8d0ace428f856db6ced63d736b",
            "_dom_classes": [],
            "description": "",
            "_model_name": "HTMLModel",
            "placeholder": "​",
            "_view_module": "@jupyter-widgets/controls",
            "_model_module_version": "1.5.0",
            "value": " 656M/656M [00:17&lt;00:00, 38.4MB/s]",
            "_view_count": null,
            "_view_module_version": "1.5.0",
            "description_tooltip": null,
            "_model_module": "@jupyter-widgets/controls",
            "layout": "IPY_MODEL_b148bfb5ce6444b39e3116f2704a671b"
          }
        },
        "a5c08754cf7247279d8e8c10966f53d8": {
          "model_module": "@jupyter-widgets/controls",
          "model_name": "ProgressStyleModel",
          "state": {
            "_view_name": "StyleView",
            "_model_name": "ProgressStyleModel",
            "description_width": "initial",
            "_view_module": "@jupyter-widgets/base",
            "_model_module_version": "1.5.0",
            "_view_count": null,
            "_view_module_version": "1.2.0",
            "bar_color": null,
            "_model_module": "@jupyter-widgets/controls"
          }
        },
        "ce98375190b34880a2dd648d25474aa7": {
          "model_module": "@jupyter-widgets/base",
          "model_name": "LayoutModel",
          "state": {
            "_view_name": "LayoutView",
            "grid_template_rows": null,
            "right": null,
            "justify_content": null,
            "_view_module": "@jupyter-widgets/base",
            "overflow": null,
            "_model_module_version": "1.2.0",
            "_view_count": null,
            "flex_flow": null,
            "width": null,
            "min_width": null,
            "border": null,
            "align_items": null,
            "bottom": null,
            "_model_module": "@jupyter-widgets/base",
            "top": null,
            "grid_column": null,
            "overflow_y": null,
            "overflow_x": null,
            "grid_auto_flow": null,
            "grid_area": null,
            "grid_template_columns": null,
            "flex": null,
            "_model_name": "LayoutModel",
            "justify_items": null,
            "grid_row": null,
            "max_height": null,
            "align_content": null,
            "visibility": null,
            "align_self": null,
            "height": null,
            "min_height": null,
            "padding": null,
            "grid_auto_rows": null,
            "grid_gap": null,
            "max_width": null,
            "order": null,
            "_view_module_version": "1.2.0",
            "grid_template_areas": null,
            "object_position": null,
            "object_fit": null,
            "grid_auto_columns": null,
            "margin": null,
            "display": null,
            "left": null
          }
        },
        "e7c85b8d0ace428f856db6ced63d736b": {
          "model_module": "@jupyter-widgets/controls",
          "model_name": "DescriptionStyleModel",
          "state": {
            "_view_name": "StyleView",
            "_model_name": "DescriptionStyleModel",
            "description_width": "",
            "_view_module": "@jupyter-widgets/base",
            "_model_module_version": "1.5.0",
            "_view_count": null,
            "_view_module_version": "1.2.0",
            "_model_module": "@jupyter-widgets/controls"
          }
        },
        "b148bfb5ce6444b39e3116f2704a671b": {
          "model_module": "@jupyter-widgets/base",
          "model_name": "LayoutModel",
          "state": {
            "_view_name": "LayoutView",
            "grid_template_rows": null,
            "right": null,
            "justify_content": null,
            "_view_module": "@jupyter-widgets/base",
            "overflow": null,
            "_model_module_version": "1.2.0",
            "_view_count": null,
            "flex_flow": null,
            "width": null,
            "min_width": null,
            "border": null,
            "align_items": null,
            "bottom": null,
            "_model_module": "@jupyter-widgets/base",
            "top": null,
            "grid_column": null,
            "overflow_y": null,
            "overflow_x": null,
            "grid_auto_flow": null,
            "grid_area": null,
            "grid_template_columns": null,
            "flex": null,
            "_model_name": "LayoutModel",
            "justify_items": null,
            "grid_row": null,
            "max_height": null,
            "align_content": null,
            "visibility": null,
            "align_self": null,
            "height": null,
            "min_height": null,
            "padding": null,
            "grid_auto_rows": null,
            "grid_gap": null,
            "max_width": null,
            "order": null,
            "_view_module_version": "1.2.0",
            "grid_template_areas": null,
            "object_position": null,
            "object_fit": null,
            "grid_auto_columns": null,
            "margin": null,
            "display": null,
            "left": null
          }
        }
      }
    }
  },
  "cells": [
    {
      "cell_type": "markdown",
      "metadata": {
        "id": "95KlBy13ZkNJ"
      },
      "source": [
        "This notebook compares four different data and model configurations on the TDT sentiment data set:\r\n",
        "\r\n",
        "\r\n",
        "1. Focus sentence only (mBERT)\r\n",
        "2. Focus sentence only (FinBERT)\r\n",
        "3. Left context + focus sentence (FinBERT)\r\n",
        "4. Left context + focus sentence + right context (FinBERT)\r\n",
        "\r\n",
        "In each case, TFBertForSequenceClassification from Huggingface Transformers is used as the model. With the non-contextual data, uncased models are used, while the contextual data configurations use cased FinBERT."
      ]
    },
    {
      "cell_type": "code",
      "metadata": {
        "id": "hoxXFC88nY7J"
      },
      "source": [
        "# Set the file paths here\r\n",
        "tdt_train_fn = '/content/tdt-sentiment-151020-train-clean.tsv'\r\n",
        "tdt_eval_fn = '/content/tdt-sentiment-151020-dev.tsv'\r\n",
        "tdt_unannotated_full_train_fn = '/content/tdt-train-texts.tsv'\r\n",
        "tdt_unannotated_full_eval_fn = '/content/tdt-dev-texts.tsv'"
      ],
      "execution_count": 9,
      "outputs": []
    },
    {
      "cell_type": "code",
      "metadata": {
        "id": "afWbsFHsU5kS"
      },
      "source": [
        "!pip install transformers"
      ],
      "execution_count": null,
      "outputs": []
    },
    {
      "cell_type": "code",
      "metadata": {
        "id": "R5EJjENmU3sk"
      },
      "source": [
        "# Read files and set up noncontextual input\r\n",
        "\r\n",
        "from transformers import BertTokenizerFast\r\n",
        "from sklearn.preprocessing import LabelEncoder\r\n",
        "from itertools import groupby\r\n",
        "import tensorflow as tf\r\n",
        "\r\n",
        "def transpose(l):\r\n",
        "  return [list(t) for t in zip(*l)]\r\n",
        "\r\n",
        "def load_fields(fn):\r\n",
        "  return transpose([l.rstrip('\\n').split('\\t') for l in open(fn).readlines()])\r\n",
        "\r\n",
        "train_id, train_texts, train_labels_raw = load_fields(tdt_train_fn)[:3]\r\n",
        "eval_id, eval_texts, eval_labels_raw = load_fields(tdt_eval_fn)[:3]\r\n",
        "\r\n",
        "group_train_id, group_train_texts = load_fields(tdt_unannotated_full_train_fn)[:2]\r\n",
        "group_eval_id, group_eval_texts = load_fields(tdt_unannotated_full_eval_fn)[:2]\r\n",
        "\r\n",
        "label_encoder = LabelEncoder()\r\n",
        "label_encoder.fit(train_labels_raw)\r\n",
        "train_labels = label_encoder.transform(train_labels_raw).tolist()\r\n",
        "eval_labels = label_encoder.transform(eval_labels_raw).tolist()\r\n",
        "num_labels = len(label_encoder.classes_)\r\n",
        "\r\n",
        "model_name_ml = \"bert-base-multilingual-uncased\"\r\n",
        "model_name_nc = \"TurkuNLP/bert-base-finnish-uncased-v1\"\r\n",
        "model_name_c = \"TurkuNLP/bert-base-finnish-cased-v1\"\r\n",
        "\r\n",
        "tokenizer_ml = BertTokenizerFast.from_pretrained(model_name_ml)\r\n",
        "tokenizer_nc = BertTokenizerFast.from_pretrained(model_name_nc)\r\n",
        "tokenizer_c = BertTokenizerFast.from_pretrained(model_name_c)\r\n",
        "\r\n",
        "input_size_nc = 128\r\n",
        "input_size_c = 256\r\n",
        "\r\n",
        "train_encodings_ml = tokenizer_ml(train_texts, truncation=True, padding='longest', max_length=input_size_nc)\r\n",
        "eval_encodings_ml = tokenizer_ml(eval_texts, truncation=True, padding='longest', max_length=input_size_nc)\r\n",
        "train_encodings_nc = tokenizer_nc(train_texts, truncation=True, padding='longest', max_length=input_size_nc)\r\n",
        "eval_encodings_nc = tokenizer_nc(eval_texts, truncation=True, padding='longest', max_length=input_size_nc)\r\n",
        "train_encodings_c = list(zip([s.split('.', 1)[0] for s in group_train_id], tokenizer_c(group_train_texts, add_special_tokens=False)['input_ids']))\r\n",
        "eval_encodings_c = list(zip([s.split('.', 1)[0] for s in group_eval_id], tokenizer_c(group_eval_texts, add_special_tokens=False)['input_ids']))\r\n",
        "\r\n",
        "t_ml = [tf.constant(train_encodings_ml.data[s]) for s in ['input_ids', 'attention_mask', 'token_type_ids']]\r\n",
        "e_ml = [tf.constant(eval_encodings_ml.data[s]) for s in ['input_ids', 'attention_mask', 'token_type_ids']]\r\n",
        "\r\n",
        "t_nc = [tf.constant(train_encodings_nc.data[s]) for s in ['input_ids', 'attention_mask', 'token_type_ids']]\r\n",
        "e_nc = [tf.constant(eval_encodings_nc.data[s]) for s in ['input_ids', 'attention_mask', 'token_type_ids']]"
      ],
      "execution_count": 10,
      "outputs": []
    },
    {
      "cell_type": "code",
      "metadata": {
        "id": "hQKG-5PyVYex"
      },
      "source": [
        "# Set up contextual input\r\n",
        "\r\n",
        "def add_left_sep_context(ids, labels, encodings, input_size, tokenizer):\r\n",
        "  group_encodings = dict([(k, [v for _, v in list(g)]) for k, g in groupby(encodings, lambda x: x[0])])\r\n",
        "  contextualized = []\r\n",
        "  for id, label in zip(ids, labels):\r\n",
        "    group_id, n = id.split('.', 1)\r\n",
        "    i = int(n)-1\r\n",
        "    group = group_encodings[group_id]\r\n",
        "    prev_context = [e for l in group[:i] for e in l]\r\n",
        "    sentence_size = min(len(group[i]), input_size - 3)\r\n",
        "    context_size = max(input_size - sentence_size - 3, 0)\r\n",
        "    prev_context = prev_context[len(prev_context)-context_size:]\r\n",
        "    input = [tokenizer.cls_token_id] + prev_context + [tokenizer.sep_token_id] + group[i][:sentence_size] + [tokenizer.sep_token_id]\r\n",
        "    mask = [0] + [0]*len(prev_context) + [0] + [1]*sentence_size + [1]\r\n",
        "    contextualized.append((input, mask))\r\n",
        "  \r\n",
        "  return tuple(list(t) for t in zip(*contextualized))\r\n",
        "\r\n",
        "def add_full_sep_context(ids, labels, encodings, input_size, tokenizer):\r\n",
        "  group_encodings = dict([(k, [v for _, v in list(g)]) for k, g in groupby(encodings, lambda x: x[0])])\r\n",
        "  contextualized = []\r\n",
        "  for id, label in zip(ids, labels):\r\n",
        "    group_id, n = id.split('.', 1)\r\n",
        "    i = int(n)-1\r\n",
        "    group = group_encodings[group_id]\r\n",
        "    prev_context = [e for l in group[:i] for e in l]\r\n",
        "    fol_context = [e for l in group[i+1:] for e in l]\r\n",
        "    sentence_size = min(len(group[i]), input_size - 3)\r\n",
        "    context_size = max(input_size - sentence_size - 3, 0)\r\n",
        "    prev_context = prev_context[len(prev_context)-max(context_size-len(fol_context), context_size//2):]\r\n",
        "    fol_context = fol_context[:context_size-len(prev_context)]\r\n",
        "    input = [tokenizer.cls_token_id] + prev_context + [tokenizer.sep_token_id] + group[i][:sentence_size] + [tokenizer.sep_token_id] + fol_context\r\n",
        "    mask = [0] + [0]*len(prev_context) + [0] + [1]*sentence_size + [1] + [0]*len(fol_context)\r\n",
        "    contextualized.append((input, mask))\r\n",
        "  \r\n",
        "  return tuple(list(t) for t in zip(*contextualized))\r\n",
        "\r\n",
        "def pad(l, size):\r\n",
        "  return [s + [0]*(size - len(s)) for s in l]\r\n",
        "\r\n",
        "left_sep_train_context = add_left_sep_context(train_id, train_labels, train_encodings_c, input_size_c, tokenizer_c)\r\n",
        "left_sep_eval_context = add_left_sep_context(eval_id, eval_labels, eval_encodings_c, input_size_c, tokenizer_c)\r\n",
        "\r\n",
        "left_sep_train_attention_mask = pad([[1]*len(s) for s in left_sep_train_context[0]], input_size_c)\r\n",
        "left_sep_train_input = pad(left_sep_train_context[0], input_size_c)\r\n",
        "left_sep_train_mask = pad(left_sep_train_context[1], input_size_c)\r\n",
        "left_sep_eval_attention_mask = pad([[1]*len(s) for s in left_sep_eval_context[0]], input_size_c)\r\n",
        "left_sep_eval_input = pad(left_sep_eval_context[0], input_size_c)\r\n",
        "left_sep_eval_mask = pad(left_sep_eval_context[1], input_size_c)\r\n",
        "\r\n",
        "full_sep_train_context = add_full_sep_context(train_id, train_labels, train_encodings_c, input_size_c, tokenizer_c)\r\n",
        "full_sep_eval_context = add_full_sep_context(eval_id, eval_labels, eval_encodings_c, input_size_c, tokenizer_c)\r\n",
        "\r\n",
        "full_sep_train_attention_mask = pad([[1]*len(s) for s in full_sep_train_context[0]], input_size_c)\r\n",
        "full_sep_train_input = pad(full_sep_train_context[0], input_size_c)\r\n",
        "full_sep_train_mask = pad(full_sep_train_context[1], input_size_c)\r\n",
        "full_sep_eval_attention_mask = pad([[1]*len(s) for s in full_sep_eval_context[0]], input_size_c)\r\n",
        "full_sep_eval_input = pad(full_sep_eval_context[0], input_size_c)\r\n",
        "full_sep_eval_mask = pad(full_sep_eval_context[1], input_size_c)\r\n",
        "\r\n",
        "t_left_sep = [tf.constant(left_sep_train_input),\r\n",
        "              tf.constant(left_sep_train_attention_mask),\r\n",
        "              tf.constant(left_sep_train_mask)]\r\n",
        "\r\n",
        "e_left_sep = [tf.constant(left_sep_eval_input),\r\n",
        "              tf.constant(left_sep_eval_attention_mask),\r\n",
        "              tf.constant(left_sep_eval_mask)]\r\n",
        "\r\n",
        "t_full_sep = [tf.constant(full_sep_train_input),\r\n",
        "              tf.constant(full_sep_train_attention_mask),\r\n",
        "              tf.constant(full_sep_train_mask)]\r\n",
        "\r\n",
        "e_full_sep = [tf.constant(full_sep_eval_input),\r\n",
        "              tf.constant(full_sep_eval_attention_mask),\r\n",
        "              tf.constant(full_sep_eval_mask)]"
      ],
      "execution_count": 11,
      "outputs": []
    },
    {
      "cell_type": "code",
      "metadata": {
        "id": "dtJxiDBQVc9g"
      },
      "source": [
        "# Set up training\r\n",
        "\r\n",
        "from transformers import TFBertForSequenceClassification, optimization_tf\r\n",
        "\r\n",
        "class ReturnBestEarlyStopping(tf.keras.callbacks.EarlyStopping):\r\n",
        "  def __init__(self, **kwargs):\r\n",
        "    super(ReturnBestEarlyStopping, self).__init__(**kwargs)\r\n",
        "  \r\n",
        "  def on_train_end(self, logs=None):\r\n",
        "    if self.restore_best_weights:\r\n",
        "      self.model.set_weights(self.best_weights)\r\n",
        "\r\n",
        "init_lr_ml = 2e-5\r\n",
        "epochs_ml = 5\r\n",
        "init_lr_nc = 2e-5\r\n",
        "epochs_nc = 3\r\n",
        "init_lr_c = 2e-5\r\n",
        "epochs_c = 3\r\n",
        "batch_size_train = 16\r\n",
        "\r\n",
        "def train(model_name, t, train_labels, eval, num_labels, init_lr, epochs, batch_size_train):\r\n",
        "  size_train = len(train_labels)\r\n",
        "  steps_per_epoch = int(size_train/batch_size_train)\r\n",
        "  steps_train = steps_per_epoch*epochs\r\n",
        "  steps_warmup = int(epochs * size_train * 0.1 / batch_size_train)\r\n",
        "\r\n",
        "  model = TFBertForSequenceClassification.from_pretrained(model_name,\r\n",
        "                                                          num_labels=num_labels)\r\n",
        "  optimizer, _ = optimization_tf.create_optimizer(init_lr=init_lr,\r\n",
        "                                                  num_train_steps=steps_train,\r\n",
        "                                                  num_warmup_steps=steps_warmup,\r\n",
        "                                                  weight_decay_rate=0.01)\r\n",
        "  model.compile(optimizer=optimizer,\r\n",
        "                loss=model.compute_loss,\r\n",
        "                metrics=['sparse_categorical_accuracy'])\r\n",
        "  model.fit(t,\r\n",
        "            train_labels,\r\n",
        "            validation_data=eval,\r\n",
        "            batch_size=batch_size_train,\r\n",
        "            epochs=epochs,\r\n",
        "            callbacks=[ReturnBestEarlyStopping(monitor='val_sparse_categorical_accuracy', patience=4, restore_best_weights=True)])\r\n",
        "  return model"
      ],
      "execution_count": 12,
      "outputs": []
    },
    {
      "cell_type": "code",
      "metadata": {
        "id": "lfGZHQwiVdnh"
      },
      "source": [
        "# Set up evaluation\r\n",
        "\r\n",
        "from sklearn.metrics import classification_report, accuracy_score, f1_score, confusion_matrix, ConfusionMatrixDisplay\r\n",
        "import numpy as np\r\n",
        "\r\n",
        "def train_evaluate(runs, model_name, train_x, train_y, eval_x, eval_y, num_labels, init_lr, epochs, batch_size_train, run_count):\r\n",
        "  for i in range(run_count):\r\n",
        "    bert = train(model_name, train_x, train_y, (eval_x, eval_y), num_labels, init_lr, epochs, batch_size_train)\r\n",
        "    runs.append(bert.predict(eval_x)[0])\r\n",
        "\r\n",
        "def format_floats(l):\r\n",
        "  return ', '.join(f'{x:.4f}' for x in l)\r\n",
        "\r\n",
        "def print_results(runs, eval_labels):\r\n",
        "  accuracy = [accuracy_score(eval_labels, p.argmax(-1)) for p in runs]\r\n",
        "  weighted_f1 = [f1_score(eval_labels, p.argmax(-1), average='weighted') for p in runs]\r\n",
        "  print(f\"Accuracy: {format_floats(accuracy)}\")\r\n",
        "  print(f\"Weighted F-score: {format_floats(weighted_f1)}\")\r\n",
        "  print(f'Average accuracy: {np.mean(accuracy):.4f}, stdev: {np.std(accuracy):.4f}')\r\n",
        "  print(f'Average weighted F-score: {np.mean(weighted_f1):.4f}, stdev: {np.std(weighted_f1):.4f}')\r\n",
        "  max_i = accuracy.index(max(accuracy))\r\n",
        "  max_p = runs[max_i].argmax(-1)\r\n",
        "  ConfusionMatrixDisplay(confusion_matrix(eval_labels, max_p), label_encoder.classes_).plot()\r\n",
        "  print(classification_report(eval_labels, max_p, target_names=label_encoder.classes_, digits=4))"
      ],
      "execution_count": 13,
      "outputs": []
    },
    {
      "cell_type": "code",
      "metadata": {
        "colab": {
          "base_uri": "https://localhost:8080/",
          "height": 1000
        },
        "id": "uQFNaHjSQ2RN",
        "outputId": "f7bc9c75-1eed-4890-dc2d-951a0f8da24d"
      },
      "source": [
        "# Evaluate noncontextual data with mBERT\r\n",
        "\r\n",
        "runs_multilingual = []\r\n",
        "train_evaluate(runs_multilingual, model_name_ml, t_ml, tf.constant(train_labels), e_ml, tf.constant(eval_labels), num_labels, init_lr_ml, epochs_ml, batch_size_train, 5)\r\n",
        "print(f\"Model: {model_name_ml}, initial learning rate = {init_lr_ml}, input size = {input_size_nc}, batch size = {batch_size_train}, epochs = {epochs_ml}\")\r\n",
        "print_results(runs_multilingual, eval_labels)"
      ],
      "execution_count": null,
      "outputs": [
        {
          "output_type": "stream",
          "text": [
            "All model checkpoint layers were used when initializing TFBertForSequenceClassification.\n",
            "\n",
            "Some layers of TFBertForSequenceClassification were not initialized from the model checkpoint at bert-base-multilingual-uncased and are newly initialized: ['classifier']\n",
            "You should probably TRAIN this model on a down-stream task to be able to use it for predictions and inference.\n",
            "The parameters `output_attentions`, `output_hidden_states` and `use_cache` cannot be updated when calling a model.They have to be set to True/False in the config object (i.e.: `config=XConfig.from_pretrained('name', output_attentions=True)`).\n",
            "The parameter `return_dict` cannot be set in graph mode and will always be set to `True`.\n"
          ],
          "name": "stderr"
        },
        {
          "output_type": "stream",
          "text": [
            "Epoch 1/5\n"
          ],
          "name": "stdout"
        },
        {
          "output_type": "stream",
          "text": [
            "The parameters `output_attentions`, `output_hidden_states` and `use_cache` cannot be updated when calling a model.They have to be set to True/False in the config object (i.e.: `config=XConfig.from_pretrained('name', output_attentions=True)`).\n",
            "The parameter `return_dict` cannot be set in graph mode and will always be set to `True`.\n"
          ],
          "name": "stderr"
        },
        {
          "output_type": "stream",
          "text": [
            "686/686 [==============================] - ETA: 0s - loss: 0.9204 - sparse_categorical_accuracy: 0.7129"
          ],
          "name": "stdout"
        },
        {
          "output_type": "stream",
          "text": [
            "The parameters `output_attentions`, `output_hidden_states` and `use_cache` cannot be updated when calling a model.They have to be set to True/False in the config object (i.e.: `config=XConfig.from_pretrained('name', output_attentions=True)`).\n",
            "The parameter `return_dict` cannot be set in graph mode and will always be set to `True`.\n"
          ],
          "name": "stderr"
        },
        {
          "output_type": "stream",
          "text": [
            "\b\b\b\b\b\b\b\b\b\b\b\b\b\b\b\b\b\b\b\b\b\b\b\b\b\b\b\b\b\b\b\b\b\b\b\b\b\b\b\b\b\b\b\b\b\b\b\b\b\b\b\b\b\b\b\b\b\b\b\b\b\b\b\b\b\b\b\b\b\b\b\b\b\b\b\b\b\b\b\b\b\b\b\b\b\b\b\b\b\b\b\b\b\b\b\b\b\b\b\b\b\b\b\r686/686 [==============================] - 229s 306ms/step - loss: 0.9202 - sparse_categorical_accuracy: 0.7129 - val_loss: 0.6778 - val_sparse_categorical_accuracy: 0.7384\n",
            "Epoch 2/5\n",
            "686/686 [==============================] - 206s 301ms/step - loss: 0.5590 - sparse_categorical_accuracy: 0.7868 - val_loss: 0.6174 - val_sparse_categorical_accuracy: 0.7765\n",
            "Epoch 3/5\n",
            "686/686 [==============================] - 206s 300ms/step - loss: 0.3625 - sparse_categorical_accuracy: 0.8724 - val_loss: 0.6920 - val_sparse_categorical_accuracy: 0.7739\n",
            "Epoch 4/5\n",
            "686/686 [==============================] - 206s 301ms/step - loss: 0.2300 - sparse_categorical_accuracy: 0.9199 - val_loss: 0.7723 - val_sparse_categorical_accuracy: 0.7917\n",
            "Epoch 5/5\n",
            "686/686 [==============================] - 206s 300ms/step - loss: 0.1303 - sparse_categorical_accuracy: 0.9596 - val_loss: 0.8314 - val_sparse_categorical_accuracy: 0.7807\n"
          ],
          "name": "stdout"
        },
        {
          "output_type": "stream",
          "text": [
            "The parameters `output_attentions`, `output_hidden_states` and `use_cache` cannot be updated when calling a model.They have to be set to True/False in the config object (i.e.: `config=XConfig.from_pretrained('name', output_attentions=True)`).\n",
            "The parameter `return_dict` cannot be set in graph mode and will always be set to `True`.\n",
            "All model checkpoint layers were used when initializing TFBertForSequenceClassification.\n",
            "\n",
            "Some layers of TFBertForSequenceClassification were not initialized from the model checkpoint at bert-base-multilingual-uncased and are newly initialized: ['classifier']\n",
            "You should probably TRAIN this model on a down-stream task to be able to use it for predictions and inference.\n",
            "The parameters `output_attentions`, `output_hidden_states` and `use_cache` cannot be updated when calling a model.They have to be set to True/False in the config object (i.e.: `config=XConfig.from_pretrained('name', output_attentions=True)`).\n",
            "The parameter `return_dict` cannot be set in graph mode and will always be set to `True`.\n"
          ],
          "name": "stderr"
        },
        {
          "output_type": "stream",
          "text": [
            "Epoch 1/5\n"
          ],
          "name": "stdout"
        },
        {
          "output_type": "stream",
          "text": [
            "The parameters `output_attentions`, `output_hidden_states` and `use_cache` cannot be updated when calling a model.They have to be set to True/False in the config object (i.e.: `config=XConfig.from_pretrained('name', output_attentions=True)`).\n",
            "The parameter `return_dict` cannot be set in graph mode and will always be set to `True`.\n"
          ],
          "name": "stderr"
        },
        {
          "output_type": "stream",
          "text": [
            "686/686 [==============================] - ETA: 0s - loss: 0.9943 - sparse_categorical_accuracy: 0.6113"
          ],
          "name": "stdout"
        },
        {
          "output_type": "stream",
          "text": [
            "The parameters `output_attentions`, `output_hidden_states` and `use_cache` cannot be updated when calling a model.They have to be set to True/False in the config object (i.e.: `config=XConfig.from_pretrained('name', output_attentions=True)`).\n",
            "The parameter `return_dict` cannot be set in graph mode and will always be set to `True`.\n"
          ],
          "name": "stderr"
        },
        {
          "output_type": "stream",
          "text": [
            "\b\b\b\b\b\b\b\b\b\b\b\b\b\b\b\b\b\b\b\b\b\b\b\b\b\b\b\b\b\b\b\b\b\b\b\b\b\b\b\b\b\b\b\b\b\b\b\b\b\b\b\b\b\b\b\b\b\b\b\b\b\b\b\b\b\b\b\b\b\b\b\b\b\b\b\b\b\b\b\b\b\b\b\b\b\b\b\b\b\b\b\b\b\b\b\b\b\b\b\b\b\b\b\r686/686 [==============================] - 227s 305ms/step - loss: 0.9941 - sparse_categorical_accuracy: 0.6115 - val_loss: 0.7206 - val_sparse_categorical_accuracy: 0.7290\n",
            "Epoch 2/5\n",
            "686/686 [==============================] - 205s 298ms/step - loss: 0.6105 - sparse_categorical_accuracy: 0.7678 - val_loss: 0.6482 - val_sparse_categorical_accuracy: 0.7604\n",
            "Epoch 3/5\n",
            "686/686 [==============================] - 206s 300ms/step - loss: 0.4203 - sparse_categorical_accuracy: 0.8398 - val_loss: 0.7022 - val_sparse_categorical_accuracy: 0.7790\n",
            "Epoch 4/5\n",
            "686/686 [==============================] - 206s 300ms/step - loss: 0.2769 - sparse_categorical_accuracy: 0.9019 - val_loss: 0.7944 - val_sparse_categorical_accuracy: 0.7765\n",
            "Epoch 5/5\n",
            "686/686 [==============================] - 206s 300ms/step - loss: 0.1810 - sparse_categorical_accuracy: 0.9392 - val_loss: 0.8860 - val_sparse_categorical_accuracy: 0.7849\n"
          ],
          "name": "stdout"
        },
        {
          "output_type": "stream",
          "text": [
            "The parameters `output_attentions`, `output_hidden_states` and `use_cache` cannot be updated when calling a model.They have to be set to True/False in the config object (i.e.: `config=XConfig.from_pretrained('name', output_attentions=True)`).\n",
            "The parameter `return_dict` cannot be set in graph mode and will always be set to `True`.\n",
            "All model checkpoint layers were used when initializing TFBertForSequenceClassification.\n",
            "\n",
            "Some layers of TFBertForSequenceClassification were not initialized from the model checkpoint at bert-base-multilingual-uncased and are newly initialized: ['classifier']\n",
            "You should probably TRAIN this model on a down-stream task to be able to use it for predictions and inference.\n",
            "The parameters `output_attentions`, `output_hidden_states` and `use_cache` cannot be updated when calling a model.They have to be set to True/False in the config object (i.e.: `config=XConfig.from_pretrained('name', output_attentions=True)`).\n",
            "The parameter `return_dict` cannot be set in graph mode and will always be set to `True`.\n"
          ],
          "name": "stderr"
        },
        {
          "output_type": "stream",
          "text": [
            "Epoch 1/5\n"
          ],
          "name": "stdout"
        },
        {
          "output_type": "stream",
          "text": [
            "The parameters `output_attentions`, `output_hidden_states` and `use_cache` cannot be updated when calling a model.They have to be set to True/False in the config object (i.e.: `config=XConfig.from_pretrained('name', output_attentions=True)`).\n",
            "The parameter `return_dict` cannot be set in graph mode and will always be set to `True`.\n"
          ],
          "name": "stderr"
        },
        {
          "output_type": "stream",
          "text": [
            "686/686 [==============================] - ETA: 0s - loss: 0.9267 - sparse_categorical_accuracy: 0.7116"
          ],
          "name": "stdout"
        },
        {
          "output_type": "stream",
          "text": [
            "The parameters `output_attentions`, `output_hidden_states` and `use_cache` cannot be updated when calling a model.They have to be set to True/False in the config object (i.e.: `config=XConfig.from_pretrained('name', output_attentions=True)`).\n",
            "The parameter `return_dict` cannot be set in graph mode and will always be set to `True`.\n"
          ],
          "name": "stderr"
        },
        {
          "output_type": "stream",
          "text": [
            "\b\b\b\b\b\b\b\b\b\b\b\b\b\b\b\b\b\b\b\b\b\b\b\b\b\b\b\b\b\b\b\b\b\b\b\b\b\b\b\b\b\b\b\b\b\b\b\b\b\b\b\b\b\b\b\b\b\b\b\b\b\b\b\b\b\b\b\b\b\b\b\b\b\b\b\b\b\b\b\b\b\b\b\b\b\b\b\b\b\b\b\b\b\b\b\b\b\b\b\b\b\b\b\r686/686 [==============================] - 228s 305ms/step - loss: 0.9265 - sparse_categorical_accuracy: 0.7116 - val_loss: 0.6341 - val_sparse_categorical_accuracy: 0.7671\n",
            "Epoch 2/5\n",
            "686/686 [==============================] - 206s 300ms/step - loss: 0.5542 - sparse_categorical_accuracy: 0.7918 - val_loss: 0.5976 - val_sparse_categorical_accuracy: 0.7832\n",
            "Epoch 3/5\n",
            "686/686 [==============================] - 206s 300ms/step - loss: 0.3659 - sparse_categorical_accuracy: 0.8681 - val_loss: 0.6272 - val_sparse_categorical_accuracy: 0.7798\n",
            "Epoch 4/5\n",
            "686/686 [==============================] - 206s 301ms/step - loss: 0.2076 - sparse_categorical_accuracy: 0.9326 - val_loss: 0.7844 - val_sparse_categorical_accuracy: 0.7892\n",
            "Epoch 5/5\n",
            "686/686 [==============================] - 206s 300ms/step - loss: 0.1307 - sparse_categorical_accuracy: 0.9591 - val_loss: 0.8546 - val_sparse_categorical_accuracy: 0.7782\n"
          ],
          "name": "stdout"
        },
        {
          "output_type": "stream",
          "text": [
            "The parameters `output_attentions`, `output_hidden_states` and `use_cache` cannot be updated when calling a model.They have to be set to True/False in the config object (i.e.: `config=XConfig.from_pretrained('name', output_attentions=True)`).\n",
            "The parameter `return_dict` cannot be set in graph mode and will always be set to `True`.\n",
            "All model checkpoint layers were used when initializing TFBertForSequenceClassification.\n",
            "\n",
            "Some layers of TFBertForSequenceClassification were not initialized from the model checkpoint at bert-base-multilingual-uncased and are newly initialized: ['classifier']\n",
            "You should probably TRAIN this model on a down-stream task to be able to use it for predictions and inference.\n",
            "The parameters `output_attentions`, `output_hidden_states` and `use_cache` cannot be updated when calling a model.They have to be set to True/False in the config object (i.e.: `config=XConfig.from_pretrained('name', output_attentions=True)`).\n",
            "The parameter `return_dict` cannot be set in graph mode and will always be set to `True`.\n"
          ],
          "name": "stderr"
        },
        {
          "output_type": "stream",
          "text": [
            "Epoch 1/5\n"
          ],
          "name": "stdout"
        },
        {
          "output_type": "stream",
          "text": [
            "The parameters `output_attentions`, `output_hidden_states` and `use_cache` cannot be updated when calling a model.They have to be set to True/False in the config object (i.e.: `config=XConfig.from_pretrained('name', output_attentions=True)`).\n",
            "The parameter `return_dict` cannot be set in graph mode and will always be set to `True`.\n"
          ],
          "name": "stderr"
        },
        {
          "output_type": "stream",
          "text": [
            "686/686 [==============================] - ETA: 0s - loss: 0.9315 - sparse_categorical_accuracy: 0.6699"
          ],
          "name": "stdout"
        },
        {
          "output_type": "stream",
          "text": [
            "The parameters `output_attentions`, `output_hidden_states` and `use_cache` cannot be updated when calling a model.They have to be set to True/False in the config object (i.e.: `config=XConfig.from_pretrained('name', output_attentions=True)`).\n",
            "The parameter `return_dict` cannot be set in graph mode and will always be set to `True`.\n"
          ],
          "name": "stderr"
        },
        {
          "output_type": "stream",
          "text": [
            "\b\b\b\b\b\b\b\b\b\b\b\b\b\b\b\b\b\b\b\b\b\b\b\b\b\b\b\b\b\b\b\b\b\b\b\b\b\b\b\b\b\b\b\b\b\b\b\b\b\b\b\b\b\b\b\b\b\b\b\b\b\b\b\b\b\b\b\b\b\b\b\b\b\b\b\b\b\b\b\b\b\b\b\b\b\b\b\b\b\b\b\b\b\b\b\b\b\b\b\b\b\b\b\r686/686 [==============================] - 227s 305ms/step - loss: 0.9313 - sparse_categorical_accuracy: 0.6700 - val_loss: 0.6438 - val_sparse_categorical_accuracy: 0.7333\n",
            "Epoch 2/5\n",
            "686/686 [==============================] - 206s 301ms/step - loss: 0.5439 - sparse_categorical_accuracy: 0.7891 - val_loss: 0.6046 - val_sparse_categorical_accuracy: 0.7959\n",
            "Epoch 3/5\n",
            "686/686 [==============================] - 206s 300ms/step - loss: 0.3505 - sparse_categorical_accuracy: 0.8733 - val_loss: 0.6089 - val_sparse_categorical_accuracy: 0.8002\n",
            "Epoch 4/5\n",
            "686/686 [==============================] - 206s 300ms/step - loss: 0.2157 - sparse_categorical_accuracy: 0.9297 - val_loss: 0.7106 - val_sparse_categorical_accuracy: 0.7875\n",
            "Epoch 5/5\n",
            "686/686 [==============================] - 205s 299ms/step - loss: 0.1400 - sparse_categorical_accuracy: 0.9563 - val_loss: 0.8006 - val_sparse_categorical_accuracy: 0.7993\n"
          ],
          "name": "stdout"
        },
        {
          "output_type": "stream",
          "text": [
            "The parameters `output_attentions`, `output_hidden_states` and `use_cache` cannot be updated when calling a model.They have to be set to True/False in the config object (i.e.: `config=XConfig.from_pretrained('name', output_attentions=True)`).\n",
            "The parameter `return_dict` cannot be set in graph mode and will always be set to `True`.\n",
            "All model checkpoint layers were used when initializing TFBertForSequenceClassification.\n",
            "\n",
            "Some layers of TFBertForSequenceClassification were not initialized from the model checkpoint at bert-base-multilingual-uncased and are newly initialized: ['classifier']\n",
            "You should probably TRAIN this model on a down-stream task to be able to use it for predictions and inference.\n",
            "The parameters `output_attentions`, `output_hidden_states` and `use_cache` cannot be updated when calling a model.They have to be set to True/False in the config object (i.e.: `config=XConfig.from_pretrained('name', output_attentions=True)`).\n",
            "The parameter `return_dict` cannot be set in graph mode and will always be set to `True`.\n"
          ],
          "name": "stderr"
        },
        {
          "output_type": "stream",
          "text": [
            "Epoch 1/5\n"
          ],
          "name": "stdout"
        },
        {
          "output_type": "stream",
          "text": [
            "The parameters `output_attentions`, `output_hidden_states` and `use_cache` cannot be updated when calling a model.They have to be set to True/False in the config object (i.e.: `config=XConfig.from_pretrained('name', output_attentions=True)`).\n",
            "The parameter `return_dict` cannot be set in graph mode and will always be set to `True`.\n"
          ],
          "name": "stderr"
        },
        {
          "output_type": "stream",
          "text": [
            "686/686 [==============================] - ETA: 0s - loss: 0.9339 - sparse_categorical_accuracy: 0.5994"
          ],
          "name": "stdout"
        },
        {
          "output_type": "stream",
          "text": [
            "The parameters `output_attentions`, `output_hidden_states` and `use_cache` cannot be updated when calling a model.They have to be set to True/False in the config object (i.e.: `config=XConfig.from_pretrained('name', output_attentions=True)`).\n",
            "The parameter `return_dict` cannot be set in graph mode and will always be set to `True`.\n"
          ],
          "name": "stderr"
        },
        {
          "output_type": "stream",
          "text": [
            "\b\b\b\b\b\b\b\b\b\b\b\b\b\b\b\b\b\b\b\b\b\b\b\b\b\b\b\b\b\b\b\b\b\b\b\b\b\b\b\b\b\b\b\b\b\b\b\b\b\b\b\b\b\b\b\b\b\b\b\b\b\b\b\b\b\b\b\b\b\b\b\b\b\b\b\b\b\b\b\b\b\b\b\b\b\b\b\b\b\b\b\b\b\b\b\b\b\b\b\b\b\b\b\r686/686 [==============================] - 226s 304ms/step - loss: 0.9337 - sparse_categorical_accuracy: 0.5996 - val_loss: 0.6174 - val_sparse_categorical_accuracy: 0.7646\n",
            "Epoch 2/5\n",
            "686/686 [==============================] - 205s 300ms/step - loss: 0.5458 - sparse_categorical_accuracy: 0.7956 - val_loss: 0.6184 - val_sparse_categorical_accuracy: 0.7858\n",
            "Epoch 3/5\n",
            "686/686 [==============================] - 206s 301ms/step - loss: 0.3532 - sparse_categorical_accuracy: 0.8733 - val_loss: 0.6684 - val_sparse_categorical_accuracy: 0.7883\n",
            "Epoch 4/5\n",
            "686/686 [==============================] - 206s 300ms/step - loss: 0.2078 - sparse_categorical_accuracy: 0.9308 - val_loss: 0.7802 - val_sparse_categorical_accuracy: 0.7900\n",
            "Epoch 5/5\n",
            "686/686 [==============================] - 205s 299ms/step - loss: 0.1222 - sparse_categorical_accuracy: 0.9634 - val_loss: 0.8532 - val_sparse_categorical_accuracy: 0.7934\n"
          ],
          "name": "stdout"
        },
        {
          "output_type": "stream",
          "text": [
            "The parameters `output_attentions`, `output_hidden_states` and `use_cache` cannot be updated when calling a model.They have to be set to True/False in the config object (i.e.: `config=XConfig.from_pretrained('name', output_attentions=True)`).\n",
            "The parameter `return_dict` cannot be set in graph mode and will always be set to `True`.\n"
          ],
          "name": "stderr"
        },
        {
          "output_type": "stream",
          "text": [
            "Model: bert-base-multilingual-uncased, initial learning rate = 2e-05, input size = 128, batch size = 16, epochs = 5\n",
            "Accuracy: 0.7917, 0.7849, 0.7892, 0.8002, 0.7934\n",
            "Weighted F-score: 0.7752, 0.7681, 0.7702, 0.7897, 0.7789\n",
            "Average accuracy: 0.7919, stdev: 0.0050\n",
            "Average weighted F-score: 0.7764, stdev: 0.0076\n",
            "              precision    recall  f1-score   support\n",
            "\n",
            "    negative     0.5464    0.4141    0.4711       128\n",
            "     neutral     0.8649    0.9281    0.8954       862\n",
            "       other     0.5309    0.5059    0.5181        85\n",
            "    positive     0.6282    0.4623    0.5326       106\n",
            "\n",
            "    accuracy                         0.8002      1181\n",
            "   macro avg     0.6426    0.5776    0.6043      1181\n",
            "weighted avg     0.7851    0.8002    0.7897      1181\n",
            "\n"
          ],
          "name": "stdout"
        },
        {
          "output_type": "display_data",
          "data": {
            "image/png": "[encoded data removed]",
            "text/plain": [
              "<Figure size 432x288 with 2 Axes>"
            ]
          },
          "metadata": {
            "tags": [],
            "needs_background": "light"
          }
        }
      ]
    },
    {
      "cell_type": "code",
      "metadata": {
        "id": "OftnVqOZd4il",
        "colab": {
          "base_uri": "https://localhost:8080/",
          "height": 1000
        },
        "outputId": "a2fbe69e-d08b-4ac0-ebd8-0bf05ef149b8"
      },
      "source": [
        "# Evaluate noncontextual data with FinBERT\r\n",
        "\r\n",
        "runs_no_context = []\r\n",
        "train_evaluate(runs_no_context, model_name_nc, t_nc, tf.constant(train_labels), e_nc, tf.constant(eval_labels), num_labels, init_lr_nc, epochs_nc, batch_size_train, 7)\r\n",
        "print(f\"Model: {model_name_nc}, initial learning rate = {init_lr_nc}, input size = {input_size_nc}, batch size = {batch_size_train}, epochs = {epochs_nc}\")\r\n",
        "print_results(runs_no_context, eval_labels)"
      ],
      "execution_count": null,
      "outputs": [
        {
          "output_type": "stream",
          "text": [
            "All model checkpoint layers were used when initializing TFBertForSequenceClassification.\n",
            "\n",
            "Some layers of TFBertForSequenceClassification were not initialized from the model checkpoint at TurkuNLP/bert-base-finnish-uncased-v1 and are newly initialized: ['classifier']\n",
            "You should probably TRAIN this model on a down-stream task to be able to use it for predictions and inference.\n",
            "The parameters `output_attentions`, `output_hidden_states` and `use_cache` cannot be updated when calling a model.They have to be set to True/False in the config object (i.e.: `config=XConfig.from_pretrained('name', output_attentions=True)`).\n",
            "The parameter `return_dict` cannot be set in graph mode and will always be set to `True`.\n"
          ],
          "name": "stderr"
        },
        {
          "output_type": "stream",
          "text": [
            "Epoch 1/3\n"
          ],
          "name": "stdout"
        },
        {
          "output_type": "stream",
          "text": [
            "The parameters `output_attentions`, `output_hidden_states` and `use_cache` cannot be updated when calling a model.They have to be set to True/False in the config object (i.e.: `config=XConfig.from_pretrained('name', output_attentions=True)`).\n",
            "The parameter `return_dict` cannot be set in graph mode and will always be set to `True`.\n"
          ],
          "name": "stderr"
        },
        {
          "output_type": "stream",
          "text": [
            "686/686 [==============================] - ETA: 0s - loss: 0.7735 - sparse_categorical_accuracy: 0.6957"
          ],
          "name": "stdout"
        },
        {
          "output_type": "stream",
          "text": [
            "The parameters `output_attentions`, `output_hidden_states` and `use_cache` cannot be updated when calling a model.They have to be set to True/False in the config object (i.e.: `config=XConfig.from_pretrained('name', output_attentions=True)`).\n",
            "The parameter `return_dict` cannot be set in graph mode and will always be set to `True`.\n"
          ],
          "name": "stderr"
        },
        {
          "output_type": "stream",
          "text": [
            "\b\b\b\b\b\b\b\b\b\b\b\b\b\b\b\b\b\b\b\b\b\b\b\b\b\b\b\b\b\b\b\b\b\b\b\b\b\b\b\b\b\b\b\b\b\b\b\b\b\b\b\b\b\b\b\b\b\b\b\b\b\b\b\b\b\b\b\b\b\b\b\b\b\b\b\b\b\b\b\b\b\b\b\b\b\b\b\b\b\b\b\b\b\b\b\b\b\b\b\b\b\b\b\r686/686 [==============================] - 221s 293ms/step - loss: 0.7732 - sparse_categorical_accuracy: 0.6959 - val_loss: 0.3642 - val_sparse_categorical_accuracy: 0.8654\n",
            "Epoch 2/3\n",
            "686/686 [==============================] - 198s 289ms/step - loss: 0.2551 - sparse_categorical_accuracy: 0.9130 - val_loss: 0.3222 - val_sparse_categorical_accuracy: 0.8831\n",
            "Epoch 3/3\n",
            "686/686 [==============================] - 198s 289ms/step - loss: 0.1207 - sparse_categorical_accuracy: 0.9633 - val_loss: 0.3715 - val_sparse_categorical_accuracy: 0.8840\n"
          ],
          "name": "stdout"
        },
        {
          "output_type": "stream",
          "text": [
            "The parameters `output_attentions`, `output_hidden_states` and `use_cache` cannot be updated when calling a model.They have to be set to True/False in the config object (i.e.: `config=XConfig.from_pretrained('name', output_attentions=True)`).\n",
            "The parameter `return_dict` cannot be set in graph mode and will always be set to `True`.\n",
            "All model checkpoint layers were used when initializing TFBertForSequenceClassification.\n",
            "\n",
            "Some layers of TFBertForSequenceClassification were not initialized from the model checkpoint at TurkuNLP/bert-base-finnish-uncased-v1 and are newly initialized: ['classifier']\n",
            "You should probably TRAIN this model on a down-stream task to be able to use it for predictions and inference.\n",
            "The parameters `output_attentions`, `output_hidden_states` and `use_cache` cannot be updated when calling a model.They have to be set to True/False in the config object (i.e.: `config=XConfig.from_pretrained('name', output_attentions=True)`).\n",
            "The parameter `return_dict` cannot be set in graph mode and will always be set to `True`.\n"
          ],
          "name": "stderr"
        },
        {
          "output_type": "stream",
          "text": [
            "Epoch 1/3\n"
          ],
          "name": "stdout"
        },
        {
          "output_type": "stream",
          "text": [
            "The parameters `output_attentions`, `output_hidden_states` and `use_cache` cannot be updated when calling a model.They have to be set to True/False in the config object (i.e.: `config=XConfig.from_pretrained('name', output_attentions=True)`).\n",
            "The parameter `return_dict` cannot be set in graph mode and will always be set to `True`.\n"
          ],
          "name": "stderr"
        },
        {
          "output_type": "stream",
          "text": [
            "686/686 [==============================] - ETA: 0s - loss: 0.7952 - sparse_categorical_accuracy: 0.6708"
          ],
          "name": "stdout"
        },
        {
          "output_type": "stream",
          "text": [
            "The parameters `output_attentions`, `output_hidden_states` and `use_cache` cannot be updated when calling a model.They have to be set to True/False in the config object (i.e.: `config=XConfig.from_pretrained('name', output_attentions=True)`).\n",
            "The parameter `return_dict` cannot be set in graph mode and will always be set to `True`.\n"
          ],
          "name": "stderr"
        },
        {
          "output_type": "stream",
          "text": [
            "\b\b\b\b\b\b\b\b\b\b\b\b\b\b\b\b\b\b\b\b\b\b\b\b\b\b\b\b\b\b\b\b\b\b\b\b\b\b\b\b\b\b\b\b\b\b\b\b\b\b\b\b\b\b\b\b\b\b\b\b\b\b\b\b\b\b\b\b\b\b\b\b\b\b\b\b\b\b\b\b\b\b\b\b\b\b\b\b\b\b\b\b\b\b\b\b\b\b\b\b\b\b\b\r686/686 [==============================] - 216s 291ms/step - loss: 0.7949 - sparse_categorical_accuracy: 0.6710 - val_loss: 0.3833 - val_sparse_categorical_accuracy: 0.8662\n",
            "Epoch 2/3\n",
            "686/686 [==============================] - 196s 285ms/step - loss: 0.2392 - sparse_categorical_accuracy: 0.9209 - val_loss: 0.3486 - val_sparse_categorical_accuracy: 0.8798\n",
            "Epoch 3/3\n",
            "686/686 [==============================] - 196s 285ms/step - loss: 0.1158 - sparse_categorical_accuracy: 0.9652 - val_loss: 0.3865 - val_sparse_categorical_accuracy: 0.8798\n"
          ],
          "name": "stdout"
        },
        {
          "output_type": "stream",
          "text": [
            "The parameters `output_attentions`, `output_hidden_states` and `use_cache` cannot be updated when calling a model.They have to be set to True/False in the config object (i.e.: `config=XConfig.from_pretrained('name', output_attentions=True)`).\n",
            "The parameter `return_dict` cannot be set in graph mode and will always be set to `True`.\n",
            "All model checkpoint layers were used when initializing TFBertForSequenceClassification.\n",
            "\n",
            "Some layers of TFBertForSequenceClassification were not initialized from the model checkpoint at TurkuNLP/bert-base-finnish-uncased-v1 and are newly initialized: ['classifier']\n",
            "You should probably TRAIN this model on a down-stream task to be able to use it for predictions and inference.\n",
            "The parameters `output_attentions`, `output_hidden_states` and `use_cache` cannot be updated when calling a model.They have to be set to True/False in the config object (i.e.: `config=XConfig.from_pretrained('name', output_attentions=True)`).\n",
            "The parameter `return_dict` cannot be set in graph mode and will always be set to `True`.\n"
          ],
          "name": "stderr"
        },
        {
          "output_type": "stream",
          "text": [
            "Epoch 1/3\n"
          ],
          "name": "stdout"
        },
        {
          "output_type": "stream",
          "text": [
            "The parameters `output_attentions`, `output_hidden_states` and `use_cache` cannot be updated when calling a model.They have to be set to True/False in the config object (i.e.: `config=XConfig.from_pretrained('name', output_attentions=True)`).\n",
            "The parameter `return_dict` cannot be set in graph mode and will always be set to `True`.\n"
          ],
          "name": "stderr"
        },
        {
          "output_type": "stream",
          "text": [
            "686/686 [==============================] - ETA: 0s - loss: 0.7844 - sparse_categorical_accuracy: 0.6983"
          ],
          "name": "stdout"
        },
        {
          "output_type": "stream",
          "text": [
            "The parameters `output_attentions`, `output_hidden_states` and `use_cache` cannot be updated when calling a model.They have to be set to True/False in the config object (i.e.: `config=XConfig.from_pretrained('name', output_attentions=True)`).\n",
            "The parameter `return_dict` cannot be set in graph mode and will always be set to `True`.\n"
          ],
          "name": "stderr"
        },
        {
          "output_type": "stream",
          "text": [
            "\b\b\b\b\b\b\b\b\b\b\b\b\b\b\b\b\b\b\b\b\b\b\b\b\b\b\b\b\b\b\b\b\b\b\b\b\b\b\b\b\b\b\b\b\b\b\b\b\b\b\b\b\b\b\b\b\b\b\b\b\b\b\b\b\b\b\b\b\b\b\b\b\b\b\b\b\b\b\b\b\b\b\b\b\b\b\b\b\b\b\b\b\b\b\b\b\b\b\b\b\b\b\b\r686/686 [==============================] - 216s 290ms/step - loss: 0.7841 - sparse_categorical_accuracy: 0.6984 - val_loss: 0.3562 - val_sparse_categorical_accuracy: 0.8679\n",
            "Epoch 2/3\n",
            "686/686 [==============================] - 195s 285ms/step - loss: 0.2646 - sparse_categorical_accuracy: 0.9110 - val_loss: 0.3204 - val_sparse_categorical_accuracy: 0.8865\n",
            "Epoch 3/3\n",
            "686/686 [==============================] - 195s 285ms/step - loss: 0.1132 - sparse_categorical_accuracy: 0.9684 - val_loss: 0.3774 - val_sparse_categorical_accuracy: 0.8874\n"
          ],
          "name": "stdout"
        },
        {
          "output_type": "stream",
          "text": [
            "The parameters `output_attentions`, `output_hidden_states` and `use_cache` cannot be updated when calling a model.They have to be set to True/False in the config object (i.e.: `config=XConfig.from_pretrained('name', output_attentions=True)`).\n",
            "The parameter `return_dict` cannot be set in graph mode and will always be set to `True`.\n",
            "All model checkpoint layers were used when initializing TFBertForSequenceClassification.\n",
            "\n",
            "Some layers of TFBertForSequenceClassification were not initialized from the model checkpoint at TurkuNLP/bert-base-finnish-uncased-v1 and are newly initialized: ['classifier']\n",
            "You should probably TRAIN this model on a down-stream task to be able to use it for predictions and inference.\n",
            "The parameters `output_attentions`, `output_hidden_states` and `use_cache` cannot be updated when calling a model.They have to be set to True/False in the config object (i.e.: `config=XConfig.from_pretrained('name', output_attentions=True)`).\n",
            "The parameter `return_dict` cannot be set in graph mode and will always be set to `True`.\n"
          ],
          "name": "stderr"
        },
        {
          "output_type": "stream",
          "text": [
            "Epoch 1/3\n"
          ],
          "name": "stdout"
        },
        {
          "output_type": "stream",
          "text": [
            "The parameters `output_attentions`, `output_hidden_states` and `use_cache` cannot be updated when calling a model.They have to be set to True/False in the config object (i.e.: `config=XConfig.from_pretrained('name', output_attentions=True)`).\n",
            "The parameter `return_dict` cannot be set in graph mode and will always be set to `True`.\n"
          ],
          "name": "stderr"
        },
        {
          "output_type": "stream",
          "text": [
            "686/686 [==============================] - ETA: 0s - loss: 0.7966 - sparse_categorical_accuracy: 0.6819"
          ],
          "name": "stdout"
        },
        {
          "output_type": "stream",
          "text": [
            "The parameters `output_attentions`, `output_hidden_states` and `use_cache` cannot be updated when calling a model.They have to be set to True/False in the config object (i.e.: `config=XConfig.from_pretrained('name', output_attentions=True)`).\n",
            "The parameter `return_dict` cannot be set in graph mode and will always be set to `True`.\n"
          ],
          "name": "stderr"
        },
        {
          "output_type": "stream",
          "text": [
            "\b\b\b\b\b\b\b\b\b\b\b\b\b\b\b\b\b\b\b\b\b\b\b\b\b\b\b\b\b\b\b\b\b\b\b\b\b\b\b\b\b\b\b\b\b\b\b\b\b\b\b\b\b\b\b\b\b\b\b\b\b\b\b\b\b\b\b\b\b\b\b\b\b\b\b\b\b\b\b\b\b\b\b\b\b\b\b\b\b\b\b\b\b\b\b\b\b\b\b\b\b\b\b\r686/686 [==============================] - 216s 291ms/step - loss: 0.7962 - sparse_categorical_accuracy: 0.6821 - val_loss: 0.3518 - val_sparse_categorical_accuracy: 0.8772\n",
            "Epoch 2/3\n",
            "686/686 [==============================] - 195s 285ms/step - loss: 0.2538 - sparse_categorical_accuracy: 0.9164 - val_loss: 0.3327 - val_sparse_categorical_accuracy: 0.8823\n",
            "Epoch 3/3\n",
            "686/686 [==============================] - 195s 284ms/step - loss: 0.1011 - sparse_categorical_accuracy: 0.9706 - val_loss: 0.3853 - val_sparse_categorical_accuracy: 0.8738\n"
          ],
          "name": "stdout"
        },
        {
          "output_type": "stream",
          "text": [
            "The parameters `output_attentions`, `output_hidden_states` and `use_cache` cannot be updated when calling a model.They have to be set to True/False in the config object (i.e.: `config=XConfig.from_pretrained('name', output_attentions=True)`).\n",
            "The parameter `return_dict` cannot be set in graph mode and will always be set to `True`.\n",
            "All model checkpoint layers were used when initializing TFBertForSequenceClassification.\n",
            "\n",
            "Some layers of TFBertForSequenceClassification were not initialized from the model checkpoint at TurkuNLP/bert-base-finnish-uncased-v1 and are newly initialized: ['classifier']\n",
            "You should probably TRAIN this model on a down-stream task to be able to use it for predictions and inference.\n",
            "The parameters `output_attentions`, `output_hidden_states` and `use_cache` cannot be updated when calling a model.They have to be set to True/False in the config object (i.e.: `config=XConfig.from_pretrained('name', output_attentions=True)`).\n",
            "The parameter `return_dict` cannot be set in graph mode and will always be set to `True`.\n"
          ],
          "name": "stderr"
        },
        {
          "output_type": "stream",
          "text": [
            "Epoch 1/3\n"
          ],
          "name": "stdout"
        },
        {
          "output_type": "stream",
          "text": [
            "The parameters `output_attentions`, `output_hidden_states` and `use_cache` cannot be updated when calling a model.They have to be set to True/False in the config object (i.e.: `config=XConfig.from_pretrained('name', output_attentions=True)`).\n",
            "The parameter `return_dict` cannot be set in graph mode and will always be set to `True`.\n"
          ],
          "name": "stderr"
        },
        {
          "output_type": "stream",
          "text": [
            "686/686 [==============================] - ETA: 0s - loss: 0.7301 - sparse_categorical_accuracy: 0.7557"
          ],
          "name": "stdout"
        },
        {
          "output_type": "stream",
          "text": [
            "The parameters `output_attentions`, `output_hidden_states` and `use_cache` cannot be updated when calling a model.They have to be set to True/False in the config object (i.e.: `config=XConfig.from_pretrained('name', output_attentions=True)`).\n",
            "The parameter `return_dict` cannot be set in graph mode and will always be set to `True`.\n"
          ],
          "name": "stderr"
        },
        {
          "output_type": "stream",
          "text": [
            "\b\b\b\b\b\b\b\b\b\b\b\b\b\b\b\b\b\b\b\b\b\b\b\b\b\b\b\b\b\b\b\b\b\b\b\b\b\b\b\b\b\b\b\b\b\b\b\b\b\b\b\b\b\b\b\b\b\b\b\b\b\b\b\b\b\b\b\b\b\b\b\b\b\b\b\b\b\b\b\b\b\b\b\b\b\b\b\b\b\b\b\b\b\b\b\b\b\b\b\b\b\b\b\r686/686 [==============================] - 215s 290ms/step - loss: 0.7299 - sparse_categorical_accuracy: 0.7558 - val_loss: 0.3427 - val_sparse_categorical_accuracy: 0.8747\n",
            "Epoch 2/3\n",
            "686/686 [==============================] - 195s 284ms/step - loss: 0.2399 - sparse_categorical_accuracy: 0.9160 - val_loss: 0.3268 - val_sparse_categorical_accuracy: 0.8764\n",
            "Epoch 3/3\n",
            "686/686 [==============================] - 195s 284ms/step - loss: 0.0971 - sparse_categorical_accuracy: 0.9720 - val_loss: 0.3859 - val_sparse_categorical_accuracy: 0.8798\n"
          ],
          "name": "stdout"
        },
        {
          "output_type": "stream",
          "text": [
            "The parameters `output_attentions`, `output_hidden_states` and `use_cache` cannot be updated when calling a model.They have to be set to True/False in the config object (i.e.: `config=XConfig.from_pretrained('name', output_attentions=True)`).\n",
            "The parameter `return_dict` cannot be set in graph mode and will always be set to `True`.\n",
            "All model checkpoint layers were used when initializing TFBertForSequenceClassification.\n",
            "\n",
            "Some layers of TFBertForSequenceClassification were not initialized from the model checkpoint at TurkuNLP/bert-base-finnish-uncased-v1 and are newly initialized: ['classifier']\n",
            "You should probably TRAIN this model on a down-stream task to be able to use it for predictions and inference.\n",
            "The parameters `output_attentions`, `output_hidden_states` and `use_cache` cannot be updated when calling a model.They have to be set to True/False in the config object (i.e.: `config=XConfig.from_pretrained('name', output_attentions=True)`).\n",
            "The parameter `return_dict` cannot be set in graph mode and will always be set to `True`.\n"
          ],
          "name": "stderr"
        },
        {
          "output_type": "stream",
          "text": [
            "Epoch 1/3\n"
          ],
          "name": "stdout"
        },
        {
          "output_type": "stream",
          "text": [
            "The parameters `output_attentions`, `output_hidden_states` and `use_cache` cannot be updated when calling a model.They have to be set to True/False in the config object (i.e.: `config=XConfig.from_pretrained('name', output_attentions=True)`).\n",
            "The parameter `return_dict` cannot be set in graph mode and will always be set to `True`.\n"
          ],
          "name": "stderr"
        },
        {
          "output_type": "stream",
          "text": [
            "686/686 [==============================] - ETA: 0s - loss: 0.7157 - sparse_categorical_accuracy: 0.7826"
          ],
          "name": "stdout"
        },
        {
          "output_type": "stream",
          "text": [
            "The parameters `output_attentions`, `output_hidden_states` and `use_cache` cannot be updated when calling a model.They have to be set to True/False in the config object (i.e.: `config=XConfig.from_pretrained('name', output_attentions=True)`).\n",
            "The parameter `return_dict` cannot be set in graph mode and will always be set to `True`.\n"
          ],
          "name": "stderr"
        },
        {
          "output_type": "stream",
          "text": [
            "\b\b\b\b\b\b\b\b\b\b\b\b\b\b\b\b\b\b\b\b\b\b\b\b\b\b\b\b\b\b\b\b\b\b\b\b\b\b\b\b\b\b\b\b\b\b\b\b\b\b\b\b\b\b\b\b\b\b\b\b\b\b\b\b\b\b\b\b\b\b\b\b\b\b\b\b\b\b\b\b\b\b\b\b\b\b\b\b\b\b\b\b\b\b\b\b\b\b\b\b\b\b\b\r686/686 [==============================] - 215s 290ms/step - loss: 0.7154 - sparse_categorical_accuracy: 0.7826 - val_loss: 0.3489 - val_sparse_categorical_accuracy: 0.8747\n",
            "Epoch 2/3\n",
            "686/686 [==============================] - 195s 284ms/step - loss: 0.2583 - sparse_categorical_accuracy: 0.9139 - val_loss: 0.3528 - val_sparse_categorical_accuracy: 0.8755\n",
            "Epoch 3/3\n",
            "686/686 [==============================] - 195s 284ms/step - loss: 0.1370 - sparse_categorical_accuracy: 0.9588 - val_loss: 0.3741 - val_sparse_categorical_accuracy: 0.8831\n"
          ],
          "name": "stdout"
        },
        {
          "output_type": "stream",
          "text": [
            "The parameters `output_attentions`, `output_hidden_states` and `use_cache` cannot be updated when calling a model.They have to be set to True/False in the config object (i.e.: `config=XConfig.from_pretrained('name', output_attentions=True)`).\n",
            "The parameter `return_dict` cannot be set in graph mode and will always be set to `True`.\n",
            "All model checkpoint layers were used when initializing TFBertForSequenceClassification.\n",
            "\n",
            "Some layers of TFBertForSequenceClassification were not initialized from the model checkpoint at TurkuNLP/bert-base-finnish-uncased-v1 and are newly initialized: ['classifier']\n",
            "You should probably TRAIN this model on a down-stream task to be able to use it for predictions and inference.\n",
            "The parameters `output_attentions`, `output_hidden_states` and `use_cache` cannot be updated when calling a model.They have to be set to True/False in the config object (i.e.: `config=XConfig.from_pretrained('name', output_attentions=True)`).\n",
            "The parameter `return_dict` cannot be set in graph mode and will always be set to `True`.\n"
          ],
          "name": "stderr"
        },
        {
          "output_type": "stream",
          "text": [
            "Epoch 1/3\n"
          ],
          "name": "stdout"
        },
        {
          "output_type": "stream",
          "text": [
            "The parameters `output_attentions`, `output_hidden_states` and `use_cache` cannot be updated when calling a model.They have to be set to True/False in the config object (i.e.: `config=XConfig.from_pretrained('name', output_attentions=True)`).\n",
            "The parameter `return_dict` cannot be set in graph mode and will always be set to `True`.\n"
          ],
          "name": "stderr"
        },
        {
          "output_type": "stream",
          "text": [
            "686/686 [==============================] - ETA: 0s - loss: 0.7635 - sparse_categorical_accuracy: 0.7129"
          ],
          "name": "stdout"
        },
        {
          "output_type": "stream",
          "text": [
            "The parameters `output_attentions`, `output_hidden_states` and `use_cache` cannot be updated when calling a model.They have to be set to True/False in the config object (i.e.: `config=XConfig.from_pretrained('name', output_attentions=True)`).\n",
            "The parameter `return_dict` cannot be set in graph mode and will always be set to `True`.\n"
          ],
          "name": "stderr"
        },
        {
          "output_type": "stream",
          "text": [
            "\b\b\b\b\b\b\b\b\b\b\b\b\b\b\b\b\b\b\b\b\b\b\b\b\b\b\b\b\b\b\b\b\b\b\b\b\b\b\b\b\b\b\b\b\b\b\b\b\b\b\b\b\b\b\b\b\b\b\b\b\b\b\b\b\b\b\b\b\b\b\b\b\b\b\b\b\b\b\b\b\b\b\b\b\b\b\b\b\b\b\b\b\b\b\b\b\b\b\b\b\b\b\b\r686/686 [==============================] - 215s 290ms/step - loss: 0.7632 - sparse_categorical_accuracy: 0.7130 - val_loss: 0.3422 - val_sparse_categorical_accuracy: 0.8831\n",
            "Epoch 2/3\n",
            "686/686 [==============================] - 195s 284ms/step - loss: 0.2565 - sparse_categorical_accuracy: 0.9140 - val_loss: 0.3280 - val_sparse_categorical_accuracy: 0.8789\n",
            "Epoch 3/3\n",
            "686/686 [==============================] - 195s 284ms/step - loss: 0.1119 - sparse_categorical_accuracy: 0.9669 - val_loss: 0.3558 - val_sparse_categorical_accuracy: 0.8815\n"
          ],
          "name": "stdout"
        },
        {
          "output_type": "stream",
          "text": [
            "The parameters `output_attentions`, `output_hidden_states` and `use_cache` cannot be updated when calling a model.They have to be set to True/False in the config object (i.e.: `config=XConfig.from_pretrained('name', output_attentions=True)`).\n",
            "The parameter `return_dict` cannot be set in graph mode and will always be set to `True`.\n"
          ],
          "name": "stderr"
        },
        {
          "output_type": "stream",
          "text": [
            "Model: TurkuNLP/bert-base-finnish-uncased-v1, initial learning rate = 2e-05, input size = 128, batch size = 16, epochs = 3\n",
            "Accuracy: 0.8840, 0.8798, 0.8874, 0.8823, 0.8798, 0.8831, 0.8831\n",
            "Weighted F-score: 0.8801, 0.8752, 0.8833, 0.8783, 0.8759, 0.8803, 0.8798\n",
            "Average accuracy: 0.8828, stdev: 0.0024\n",
            "Average weighted F-score: 0.8790, stdev: 0.0026\n",
            "              precision    recall  f1-score   support\n",
            "\n",
            "    negative     0.8280    0.6016    0.6968       128\n",
            "     neutral     0.9181    0.9629    0.9400       862\n",
            "       other     0.6627    0.6471    0.6548        85\n",
            "    positive     0.8515    0.8113    0.8309       106\n",
            "\n",
            "    accuracy                         0.8874      1181\n",
            "   macro avg     0.8151    0.7557    0.7806      1181\n",
            "weighted avg     0.8840    0.8874    0.8833      1181\n",
            "\n"
          ],
          "name": "stdout"
        },
        {
          "output_type": "display_data",
          "data": {
            "image/png": "[encoded data removed]",
            "text/plain": [
              "<Figure size 432x288 with 2 Axes>"
            ]
          },
          "metadata": {
            "tags": [],
            "needs_background": "light"
          }
        }
      ]
    },
    {
      "cell_type": "code",
      "metadata": {
        "colab": {
          "base_uri": "https://localhost:8080/",
          "height": 1000,
          "referenced_widgets": [
            "e1af151cfcbe4e3b8485aeeec513f45d",
            "c647de7693d44bc084accbaab68e9334",
            "cf0dd10dd11b438a8aeafafefeb2e28e",
            "6c90c65d99c74102aa982bfbcfc27e85",
            "b6acafe6a8fd4f219d74d1ea7e289278",
            "36702c762c9f49f0afec82910eefc99c",
            "e22f9d32781244e0aa73756677b128a0",
            "38b5ae5576574db3a308cd0ef794e579",
            "e19fdfcfd42149d78e1c250d524aa9fe",
            "ff8a057df7e34527830cf531de30c46d",
            "916c52eb6b314edd8d08e7b3254046f4",
            "58a8265b40a14c249894134efd9772ab",
            "a5c08754cf7247279d8e8c10966f53d8",
            "ce98375190b34880a2dd648d25474aa7",
            "e7c85b8d0ace428f856db6ced63d736b",
            "b148bfb5ce6444b39e3116f2704a671b"
          ]
        },
        "id": "HMUnC_VvWE56",
        "outputId": "e1ee7bbb-c246-49cd-f915-ffefc2f17ee2"
      },
      "source": [
        "# Evaluate data with left context only\r\n",
        "\r\n",
        "runs_left_context = []\r\n",
        "train_evaluate(runs_left_context, model_name_c, t_left_sep, tf.constant(train_labels), e_left_sep, tf.constant(eval_labels), num_labels, init_lr_c, epochs_c, batch_size_train, 5)\r\n",
        "print(f\"Model: {model_name_c}, initial learning rate = {init_lr_c}, input size = {input_size_c}, batch size = {batch_size_train}, epochs = {epochs_c}\")\r\n",
        "print_results(runs_left_context, eval_labels)"
      ],
      "execution_count": 9,
      "outputs": [
        {
          "output_type": "display_data",
          "data": {
            "application/vnd.jupyter.widget-view+json": {
              "model_id": "e1af151cfcbe4e3b8485aeeec513f45d",
              "version_minor": 0,
              "version_major": 2
            },
            "text/plain": [
              "HBox(children=(FloatProgress(value=0.0, description='Downloading', max=433.0, style=ProgressStyle(description_…"
            ]
          },
          "metadata": {
            "tags": []
          }
        },
        {
          "output_type": "stream",
          "text": [
            "\n"
          ],
          "name": "stdout"
        },
        {
          "output_type": "display_data",
          "data": {
            "application/vnd.jupyter.widget-view+json": {
              "model_id": "e19fdfcfd42149d78e1c250d524aa9fe",
              "version_minor": 0,
              "version_major": 2
            },
            "text/plain": [
              "HBox(children=(FloatProgress(value=0.0, description='Downloading', max=656459492.0, style=ProgressStyle(descri…"
            ]
          },
          "metadata": {
            "tags": []
          }
        },
        {
          "output_type": "stream",
          "text": [
            "\n"
          ],
          "name": "stdout"
        },
        {
          "output_type": "stream",
          "text": [
            "All model checkpoint layers were used when initializing TFBertForSequenceClassification.\n",
            "\n",
            "Some layers of TFBertForSequenceClassification were not initialized from the model checkpoint at TurkuNLP/bert-base-finnish-cased-v1 and are newly initialized: ['classifier']\n",
            "You should probably TRAIN this model on a down-stream task to be able to use it for predictions and inference.\n",
            "The parameters `output_attentions`, `output_hidden_states` and `use_cache` cannot be updated when calling a model.They have to be set to True/False in the config object (i.e.: `config=XConfig.from_pretrained('name', output_attentions=True)`).\n",
            "The parameter `return_dict` cannot be set in graph mode and will always be set to `True`.\n"
          ],
          "name": "stderr"
        },
        {
          "output_type": "stream",
          "text": [
            "Epoch 1/3\n"
          ],
          "name": "stdout"
        },
        {
          "output_type": "stream",
          "text": [
            "The parameters `output_attentions`, `output_hidden_states` and `use_cache` cannot be updated when calling a model.They have to be set to True/False in the config object (i.e.: `config=XConfig.from_pretrained('name', output_attentions=True)`).\n",
            "The parameter `return_dict` cannot be set in graph mode and will always be set to `True`.\n"
          ],
          "name": "stderr"
        },
        {
          "output_type": "stream",
          "text": [
            "686/686 [==============================] - ETA: 0s - loss: 0.7851 - sparse_categorical_accuracy: 0.6960"
          ],
          "name": "stdout"
        },
        {
          "output_type": "stream",
          "text": [
            "The parameters `output_attentions`, `output_hidden_states` and `use_cache` cannot be updated when calling a model.They have to be set to True/False in the config object (i.e.: `config=XConfig.from_pretrained('name', output_attentions=True)`).\n",
            "The parameter `return_dict` cannot be set in graph mode and will always be set to `True`.\n"
          ],
          "name": "stderr"
        },
        {
          "output_type": "stream",
          "text": [
            "\b\b\b\b\b\b\b\b\b\b\b\b\b\b\b\b\b\b\b\b\b\b\b\b\b\b\b\b\b\b\b\b\b\b\b\b\b\b\b\b\b\b\b\b\b\b\b\b\b\b\b\b\b\b\b\b\b\b\b\b\b\b\b\b\b\b\b\b\b\b\b\b\b\b\b\b\b\b\b\b\b\b\b\b\b\b\b\b\b\b\b\b\b\b\b\b\b\b\b\b\b\b\b\r686/686 [==============================] - 389s 540ms/step - loss: 0.7848 - sparse_categorical_accuracy: 0.6961 - val_loss: 0.3469 - val_sparse_categorical_accuracy: 0.8747\n",
            "Epoch 2/3\n",
            "686/686 [==============================] - 367s 535ms/step - loss: 0.2425 - sparse_categorical_accuracy: 0.9154 - val_loss: 0.3189 - val_sparse_categorical_accuracy: 0.8848\n",
            "Epoch 3/3\n",
            "686/686 [==============================] - 366s 533ms/step - loss: 0.0929 - sparse_categorical_accuracy: 0.9742 - val_loss: 0.3649 - val_sparse_categorical_accuracy: 0.8899\n"
          ],
          "name": "stdout"
        },
        {
          "output_type": "stream",
          "text": [
            "The parameters `output_attentions`, `output_hidden_states` and `use_cache` cannot be updated when calling a model.They have to be set to True/False in the config object (i.e.: `config=XConfig.from_pretrained('name', output_attentions=True)`).\n",
            "The parameter `return_dict` cannot be set in graph mode and will always be set to `True`.\n",
            "All model checkpoint layers were used when initializing TFBertForSequenceClassification.\n",
            "\n",
            "Some layers of TFBertForSequenceClassification were not initialized from the model checkpoint at TurkuNLP/bert-base-finnish-cased-v1 and are newly initialized: ['classifier']\n",
            "You should probably TRAIN this model on a down-stream task to be able to use it for predictions and inference.\n",
            "The parameters `output_attentions`, `output_hidden_states` and `use_cache` cannot be updated when calling a model.They have to be set to True/False in the config object (i.e.: `config=XConfig.from_pretrained('name', output_attentions=True)`).\n",
            "The parameter `return_dict` cannot be set in graph mode and will always be set to `True`.\n"
          ],
          "name": "stderr"
        },
        {
          "output_type": "stream",
          "text": [
            "Epoch 1/3\n"
          ],
          "name": "stdout"
        },
        {
          "output_type": "stream",
          "text": [
            "The parameters `output_attentions`, `output_hidden_states` and `use_cache` cannot be updated when calling a model.They have to be set to True/False in the config object (i.e.: `config=XConfig.from_pretrained('name', output_attentions=True)`).\n",
            "The parameter `return_dict` cannot be set in graph mode and will always be set to `True`.\n"
          ],
          "name": "stderr"
        },
        {
          "output_type": "stream",
          "text": [
            "686/686 [==============================] - ETA: 0s - loss: 0.7287 - sparse_categorical_accuracy: 0.7706"
          ],
          "name": "stdout"
        },
        {
          "output_type": "stream",
          "text": [
            "The parameters `output_attentions`, `output_hidden_states` and `use_cache` cannot be updated when calling a model.They have to be set to True/False in the config object (i.e.: `config=XConfig.from_pretrained('name', output_attentions=True)`).\n",
            "The parameter `return_dict` cannot be set in graph mode and will always be set to `True`.\n"
          ],
          "name": "stderr"
        },
        {
          "output_type": "stream",
          "text": [
            "\b\b\b\b\b\b\b\b\b\b\b\b\b\b\b\b\b\b\b\b\b\b\b\b\b\b\b\b\b\b\b\b\b\b\b\b\b\b\b\b\b\b\b\b\b\b\b\b\b\b\b\b\b\b\b\b\b\b\b\b\b\b\b\b\b\b\b\b\b\b\b\b\b\b\b\b\b\b\b\b\b\b\b\b\b\b\b\b\b\b\b\b\b\b\b\b\b\b\b\b\b\b\b\r686/686 [==============================] - 385s 538ms/step - loss: 0.7284 - sparse_categorical_accuracy: 0.7707 - val_loss: 0.3508 - val_sparse_categorical_accuracy: 0.8721\n",
            "Epoch 2/3\n",
            "686/686 [==============================] - 367s 535ms/step - loss: 0.2295 - sparse_categorical_accuracy: 0.9206 - val_loss: 0.3182 - val_sparse_categorical_accuracy: 0.8831\n",
            "Epoch 3/3\n",
            "686/686 [==============================] - 367s 535ms/step - loss: 0.0871 - sparse_categorical_accuracy: 0.9764 - val_loss: 0.3495 - val_sparse_categorical_accuracy: 0.8908\n"
          ],
          "name": "stdout"
        },
        {
          "output_type": "stream",
          "text": [
            "The parameters `output_attentions`, `output_hidden_states` and `use_cache` cannot be updated when calling a model.They have to be set to True/False in the config object (i.e.: `config=XConfig.from_pretrained('name', output_attentions=True)`).\n",
            "The parameter `return_dict` cannot be set in graph mode and will always be set to `True`.\n",
            "All model checkpoint layers were used when initializing TFBertForSequenceClassification.\n",
            "\n",
            "Some layers of TFBertForSequenceClassification were not initialized from the model checkpoint at TurkuNLP/bert-base-finnish-cased-v1 and are newly initialized: ['classifier']\n",
            "You should probably TRAIN this model on a down-stream task to be able to use it for predictions and inference.\n",
            "The parameters `output_attentions`, `output_hidden_states` and `use_cache` cannot be updated when calling a model.They have to be set to True/False in the config object (i.e.: `config=XConfig.from_pretrained('name', output_attentions=True)`).\n",
            "The parameter `return_dict` cannot be set in graph mode and will always be set to `True`.\n"
          ],
          "name": "stderr"
        },
        {
          "output_type": "stream",
          "text": [
            "Epoch 1/3\n"
          ],
          "name": "stdout"
        },
        {
          "output_type": "stream",
          "text": [
            "The parameters `output_attentions`, `output_hidden_states` and `use_cache` cannot be updated when calling a model.They have to be set to True/False in the config object (i.e.: `config=XConfig.from_pretrained('name', output_attentions=True)`).\n",
            "The parameter `return_dict` cannot be set in graph mode and will always be set to `True`.\n"
          ],
          "name": "stderr"
        },
        {
          "output_type": "stream",
          "text": [
            "686/686 [==============================] - ETA: 0s - loss: 0.7853 - sparse_categorical_accuracy: 0.6942"
          ],
          "name": "stdout"
        },
        {
          "output_type": "stream",
          "text": [
            "The parameters `output_attentions`, `output_hidden_states` and `use_cache` cannot be updated when calling a model.They have to be set to True/False in the config object (i.e.: `config=XConfig.from_pretrained('name', output_attentions=True)`).\n",
            "The parameter `return_dict` cannot be set in graph mode and will always be set to `True`.\n"
          ],
          "name": "stderr"
        },
        {
          "output_type": "stream",
          "text": [
            "\b\b\b\b\b\b\b\b\b\b\b\b\b\b\b\b\b\b\b\b\b\b\b\b\b\b\b\b\b\b\b\b\b\b\b\b\b\b\b\b\b\b\b\b\b\b\b\b\b\b\b\b\b\b\b\b\b\b\b\b\b\b\b\b\b\b\b\b\b\b\b\b\b\b\b\b\b\b\b\b\b\b\b\b\b\b\b\b\b\b\b\b\b\b\b\b\b\b\b\b\b\b\b\r686/686 [==============================] - 386s 538ms/step - loss: 0.7849 - sparse_categorical_accuracy: 0.6943 - val_loss: 0.3215 - val_sparse_categorical_accuracy: 0.8747\n",
            "Epoch 2/3\n",
            "686/686 [==============================] - 366s 534ms/step - loss: 0.2397 - sparse_categorical_accuracy: 0.9207 - val_loss: 0.3115 - val_sparse_categorical_accuracy: 0.8789\n",
            "Epoch 3/3\n",
            "686/686 [==============================] - 367s 535ms/step - loss: 0.1029 - sparse_categorical_accuracy: 0.9709 - val_loss: 0.3275 - val_sparse_categorical_accuracy: 0.8831\n"
          ],
          "name": "stdout"
        },
        {
          "output_type": "stream",
          "text": [
            "The parameters `output_attentions`, `output_hidden_states` and `use_cache` cannot be updated when calling a model.They have to be set to True/False in the config object (i.e.: `config=XConfig.from_pretrained('name', output_attentions=True)`).\n",
            "The parameter `return_dict` cannot be set in graph mode and will always be set to `True`.\n",
            "All model checkpoint layers were used when initializing TFBertForSequenceClassification.\n",
            "\n",
            "Some layers of TFBertForSequenceClassification were not initialized from the model checkpoint at TurkuNLP/bert-base-finnish-cased-v1 and are newly initialized: ['classifier']\n",
            "You should probably TRAIN this model on a down-stream task to be able to use it for predictions and inference.\n",
            "The parameters `output_attentions`, `output_hidden_states` and `use_cache` cannot be updated when calling a model.They have to be set to True/False in the config object (i.e.: `config=XConfig.from_pretrained('name', output_attentions=True)`).\n",
            "The parameter `return_dict` cannot be set in graph mode and will always be set to `True`.\n"
          ],
          "name": "stderr"
        },
        {
          "output_type": "stream",
          "text": [
            "Epoch 1/3\n"
          ],
          "name": "stdout"
        },
        {
          "output_type": "stream",
          "text": [
            "The parameters `output_attentions`, `output_hidden_states` and `use_cache` cannot be updated when calling a model.They have to be set to True/False in the config object (i.e.: `config=XConfig.from_pretrained('name', output_attentions=True)`).\n",
            "The parameter `return_dict` cannot be set in graph mode and will always be set to `True`.\n"
          ],
          "name": "stderr"
        },
        {
          "output_type": "stream",
          "text": [
            "686/686 [==============================] - ETA: 0s - loss: 0.7650 - sparse_categorical_accuracy: 0.7245"
          ],
          "name": "stdout"
        },
        {
          "output_type": "stream",
          "text": [
            "The parameters `output_attentions`, `output_hidden_states` and `use_cache` cannot be updated when calling a model.They have to be set to True/False in the config object (i.e.: `config=XConfig.from_pretrained('name', output_attentions=True)`).\n",
            "The parameter `return_dict` cannot be set in graph mode and will always be set to `True`.\n"
          ],
          "name": "stderr"
        },
        {
          "output_type": "stream",
          "text": [
            "\b\b\b\b\b\b\b\b\b\b\b\b\b\b\b\b\b\b\b\b\b\b\b\b\b\b\b\b\b\b\b\b\b\b\b\b\b\b\b\b\b\b\b\b\b\b\b\b\b\b\b\b\b\b\b\b\b\b\b\b\b\b\b\b\b\b\b\b\b\b\b\b\b\b\b\b\b\b\b\b\b\b\b\b\b\b\b\b\b\b\b\b\b\b\b\b\b\b\b\b\b\b\b\r686/686 [==============================] - 389s 541ms/step - loss: 0.7647 - sparse_categorical_accuracy: 0.7246 - val_loss: 0.3155 - val_sparse_categorical_accuracy: 0.8874\n",
            "Epoch 2/3\n",
            "686/686 [==============================] - 369s 538ms/step - loss: 0.2351 - sparse_categorical_accuracy: 0.9224 - val_loss: 0.3203 - val_sparse_categorical_accuracy: 0.8764\n",
            "Epoch 3/3\n",
            "686/686 [==============================] - 370s 539ms/step - loss: 0.0988 - sparse_categorical_accuracy: 0.9713 - val_loss: 0.3545 - val_sparse_categorical_accuracy: 0.8823\n"
          ],
          "name": "stdout"
        },
        {
          "output_type": "stream",
          "text": [
            "The parameters `output_attentions`, `output_hidden_states` and `use_cache` cannot be updated when calling a model.They have to be set to True/False in the config object (i.e.: `config=XConfig.from_pretrained('name', output_attentions=True)`).\n",
            "The parameter `return_dict` cannot be set in graph mode and will always be set to `True`.\n",
            "All model checkpoint layers were used when initializing TFBertForSequenceClassification.\n",
            "\n",
            "Some layers of TFBertForSequenceClassification were not initialized from the model checkpoint at TurkuNLP/bert-base-finnish-cased-v1 and are newly initialized: ['classifier']\n",
            "You should probably TRAIN this model on a down-stream task to be able to use it for predictions and inference.\n",
            "The parameters `output_attentions`, `output_hidden_states` and `use_cache` cannot be updated when calling a model.They have to be set to True/False in the config object (i.e.: `config=XConfig.from_pretrained('name', output_attentions=True)`).\n",
            "The parameter `return_dict` cannot be set in graph mode and will always be set to `True`.\n"
          ],
          "name": "stderr"
        },
        {
          "output_type": "stream",
          "text": [
            "Epoch 1/3\n"
          ],
          "name": "stdout"
        },
        {
          "output_type": "stream",
          "text": [
            "The parameters `output_attentions`, `output_hidden_states` and `use_cache` cannot be updated when calling a model.They have to be set to True/False in the config object (i.e.: `config=XConfig.from_pretrained('name', output_attentions=True)`).\n",
            "The parameter `return_dict` cannot be set in graph mode and will always be set to `True`.\n"
          ],
          "name": "stderr"
        },
        {
          "output_type": "stream",
          "text": [
            "686/686 [==============================] - ETA: 0s - loss: 0.7406 - sparse_categorical_accuracy: 0.7644"
          ],
          "name": "stdout"
        },
        {
          "output_type": "stream",
          "text": [
            "The parameters `output_attentions`, `output_hidden_states` and `use_cache` cannot be updated when calling a model.They have to be set to True/False in the config object (i.e.: `config=XConfig.from_pretrained('name', output_attentions=True)`).\n",
            "The parameter `return_dict` cannot be set in graph mode and will always be set to `True`.\n"
          ],
          "name": "stderr"
        },
        {
          "output_type": "stream",
          "text": [
            "\b\b\b\b\b\b\b\b\b\b\b\b\b\b\b\b\b\b\b\b\b\b\b\b\b\b\b\b\b\b\b\b\b\b\b\b\b\b\b\b\b\b\b\b\b\b\b\b\b\b\b\b\b\b\b\b\b\b\b\b\b\b\b\b\b\b\b\b\b\b\b\b\b\b\b\b\b\b\b\b\b\b\b\b\b\b\b\b\b\b\b\b\b\b\b\b\b\b\b\b\b\b\b\r686/686 [==============================] - 391s 543ms/step - loss: 0.7403 - sparse_categorical_accuracy: 0.7645 - val_loss: 0.3121 - val_sparse_categorical_accuracy: 0.8840\n",
            "Epoch 2/3\n",
            "686/686 [==============================] - 369s 538ms/step - loss: 0.2447 - sparse_categorical_accuracy: 0.9190 - val_loss: 0.3198 - val_sparse_categorical_accuracy: 0.8806\n",
            "Epoch 3/3\n",
            "686/686 [==============================] - 369s 539ms/step - loss: 0.1001 - sparse_categorical_accuracy: 0.9718 - val_loss: 0.3585 - val_sparse_categorical_accuracy: 0.8781\n"
          ],
          "name": "stdout"
        },
        {
          "output_type": "stream",
          "text": [
            "The parameters `output_attentions`, `output_hidden_states` and `use_cache` cannot be updated when calling a model.They have to be set to True/False in the config object (i.e.: `config=XConfig.from_pretrained('name', output_attentions=True)`).\n",
            "The parameter `return_dict` cannot be set in graph mode and will always be set to `True`.\n"
          ],
          "name": "stderr"
        },
        {
          "output_type": "stream",
          "text": [
            "Model: TurkuNLP/bert-base-finnish-cased-v1, initial learning rate = 2e-05, input size = 256, batch size = 16, epochs = 3\n",
            "Accuracy: 0.8899, 0.8908, 0.8831, 0.8874, 0.8840\n",
            "Weighted F-score: 0.8863, 0.8881, 0.8803, 0.8852, 0.8802\n",
            "Average accuracy: 0.8870, stdev: 0.0031\n",
            "Average weighted F-score: 0.8840, stdev: 0.0032\n",
            "              precision    recall  f1-score   support\n",
            "\n",
            "    negative     0.8211    0.6094    0.6996       128\n",
            "     neutral     0.9262    0.9606    0.9431       862\n",
            "       other     0.6421    0.7176    0.6778        85\n",
            "    positive     0.8763    0.8019    0.8374       106\n",
            "\n",
            "    accuracy                         0.8908      1181\n",
            "   macro avg     0.8164    0.7724    0.7895      1181\n",
            "weighted avg     0.8899    0.8908    0.8881      1181\n",
            "\n"
          ],
          "name": "stdout"
        },
        {
          "output_type": "display_data",
          "data": {
            "image/png": "[encoded data removed]",
            "text/plain": [
              "<Figure size 432x288 with 2 Axes>"
            ]
          },
          "metadata": {
            "tags": [],
            "needs_background": "light"
          }
        }
      ]
    },
    {
      "cell_type": "code",
      "metadata": {
        "colab": {
          "base_uri": "https://localhost:8080/",
          "height": 573
        },
        "id": "sjmA82KhFJN3",
        "outputId": "6ecb51ff-d0a7-4a4a-b415-aea99cd5de7e"
      },
      "source": [
        "# Evaluate data with both left and right context\r\n",
        "\r\n",
        "runs_full_context = []\r\n",
        "train_evaluate(runs_full_context, model_name_c, t_full_sep, tf.constant(train_labels), e_full_sep, tf.constant(eval_labels), num_labels, init_lr_c, epochs_c, batch_size_train, 5)\r\n",
        "print(f\"Model: {model_name_c}, initial learning rate = {init_lr_c}, input size = {input_size_c}, batch size = {batch_size_train}, epochs = {epochs_c}\")\r\n",
        "print_results(runs_full_context, eval_labels)"
      ],
      "execution_count": 16,
      "outputs": [
        {
          "output_type": "stream",
          "text": [
            "Model: TurkuNLP/bert-base-finnish-cased-v1, initial learning rate = 2e-05, input size = 256, batch size = 16, epochs = 3\n",
            "Accuracy: 0.8908, 0.8959, 0.8908, 0.8848, 0.8916\n",
            "Weighted F-score: 0.8865, 0.8926, 0.8865, 0.8833, 0.8883\n",
            "Average accuracy: 0.8908, stdev: 0.0035\n",
            "Average weighted F-score: 0.8874, stdev: 0.0030\n",
            "              precision    recall  f1-score   support\n",
            "\n",
            "    negative     0.8300    0.6484    0.7281       128\n",
            "     neutral     0.9226    0.9675    0.9445       862\n",
            "       other     0.6977    0.7059    0.7018        85\n",
            "    positive     0.8901    0.7642    0.8223       106\n",
            "\n",
            "    accuracy                         0.8959      1181\n",
            "   macro avg     0.8351    0.7715    0.7992      1181\n",
            "weighted avg     0.8934    0.8959    0.8926      1181\n",
            "\n"
          ],
          "name": "stdout"
        },
        {
          "output_type": "display_data",
          "data": {
            "image/png": "[encoded data removed]",
            "text/plain": [
              "<Figure size 432x288 with 2 Axes>"
            ]
          },
          "metadata": {
            "tags": [],
            "needs_background": "light"
          }
        }
      ]
    }
  ]
}
