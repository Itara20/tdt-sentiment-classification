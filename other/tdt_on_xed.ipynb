{
  "nbformat": 4,
  "nbformat_minor": 0,
  "metadata": {
    "colab": {
      "name": "tdt-on-xed.ipynb",
      "provenance": [],
      "collapsed_sections": []
    },
    "kernelspec": {
      "name": "python3",
      "display_name": "Python 3"
    },
    "accelerator": "GPU"
  },
  "cells": [
    {
      "cell_type": "markdown",
      "metadata": {
        "id": "rU2U6IKJ_UuM"
      },
      "source": [
        "Add training examples from TDT to XED, then evaluate performance on XED data. This was not found to improve performance."
      ]
    },
    {
      "cell_type": "code",
      "metadata": {
        "id": "h70qXG95_Qqs"
      },
      "source": [
        "# Set the file paths here\r\n",
        "tdt_train_fn = '/content/tdt-sentiment-151020-train-clean.tsv'\r\n",
        "xed_nonneutrals_fn = '/content/fi-annotated.tsv'\r\n",
        "xed_neutrals_fn = '/content/neu_fi.txt'"
      ],
      "execution_count": 1,
      "outputs": []
    },
    {
      "cell_type": "code",
      "metadata": {
        "id": "K8YhC8nALJ4J"
      },
      "source": [
        "!pip install transformers"
      ],
      "execution_count": null,
      "outputs": []
    },
    {
      "cell_type": "code",
      "metadata": {
        "id": "59QQjJrHLYYm"
      },
      "source": [
        "# Choose model and set up input\n",
        "\n",
        "from sklearn.model_selection import train_test_split\n",
        "from transformers import BertTokenizerFast\n",
        "import tensorflow as tf\n",
        "\n",
        "def transpose(l):\n",
        "  return [list(t) for t in zip(*l)]\n",
        "\n",
        "def load_fields(fn):\n",
        "  return transpose([l.rstrip('\\n').split('\\t') for l in open(fn).readlines()])\n",
        "\n",
        "tdt_train_texts, tdt_train_labels_raw = load_fields(tdt_train_fn)[1:3]\n",
        "\n",
        "tdt_train_labels_binary = [1 if s == 'neutral' else 0 for s in tdt_train_labels_raw]\n",
        "\n",
        "neutral_texts = load_fields(xed_neutrals_fn)[1]\n",
        "neutral_labels_binary = [1]*len(neutral_texts)\n",
        "nonneutral_texts = load_fields(xed_nonneutrals_fn)[0]\n",
        "nonneutral_labels_binary = [0]*len(nonneutral_texts)\n",
        "\n",
        "xed_texts = neutral_texts + nonneutral_texts\n",
        "xed_labels_binary = neutral_labels_binary + nonneutral_labels_binary\n",
        "\n",
        "xed_train_texts, xed_eval_texts, xed_train_labels_binary, xed_eval_labels_binary = train_test_split(xed_texts, xed_labels_binary, test_size=0.2)\n",
        "\n",
        "#model_name = \"TurkuNLP/bert-base-finnish-cased-v1\"\n",
        "model_name = \"TurkuNLP/bert-base-finnish-uncased-v1\"\n",
        "\n",
        "tokenizer = BertTokenizerFast.from_pretrained(model_name)\n",
        "\n",
        "input_size = 64\n",
        "\n",
        "eval_encodings = tokenizer(xed_eval_texts, truncation=True, padding='longest', max_length=input_size)"
      ],
      "execution_count": 3,
      "outputs": []
    },
    {
      "cell_type": "code",
      "metadata": {
        "id": "COcKOq0iP2Vz"
      },
      "source": [
        "# Set up training\n",
        "from transformers import TFBertForSequenceClassification, optimization_tf\n",
        "from math import inf\n",
        "\n",
        "e = [tf.constant(eval_encodings.data['input_ids']),\n",
        "     tf.constant(eval_encodings.data['attention_mask']),\n",
        "     tf.constant(eval_encodings.data['token_type_ids'])]\n",
        "\n",
        "init_lr = 2e-5\n",
        "\n",
        "epochs = 2\n",
        "batch_size_train = 16\n",
        "batch_size_eval = 16\n",
        "\n",
        "def train(model, t, train_labels, eval):\n",
        "  size_train = len(train_labels)\n",
        "  steps_per_epoch = int(size_train/batch_size_train)\n",
        "  steps_train = steps_per_epoch*epochs\n",
        "  steps_warmup = int(epochs * size_train * 0.1 / batch_size_train)\n",
        "  optimizer, _ = optimization_tf.create_optimizer(init_lr=init_lr,\n",
        "                                                  num_train_steps=steps_train,\n",
        "                                                  num_warmup_steps=steps_warmup,\n",
        "                                                  weight_decay_rate=0.01)\n",
        "  model.compile(optimizer=optimizer, loss=model.compute_loss, metrics=['sparse_categorical_accuracy'])\n",
        "  model.fit(t,\n",
        "            train_labels,\n",
        "            validation_data=eval,\n",
        "            batch_size=batch_size_train,\n",
        "            epochs=epochs,\n",
        "            callbacks=[tf.keras.callbacks.EarlyStopping(monitor='val_sparse_categorical_accuracy', patience=100, restore_best_weights=True)])\n",
        "  return model"
      ],
      "execution_count": 4,
      "outputs": []
    },
    {
      "cell_type": "code",
      "metadata": {
        "id": "DYj52gMvP6Tq",
        "colab": {
          "base_uri": "https://localhost:8080/",
          "height": 1000
        },
        "outputId": "b4076fd6-4800-4335-8c83-1bc4cac37339"
      },
      "source": [
        "%matplotlib inline\n",
        "import matplotlib.pyplot as plt\n",
        "import numpy as np\n",
        "from collections import defaultdict\n",
        "from sklearn.metrics import accuracy_score, f1_score, roc_curve, auc\n",
        "from sklearn.utils.extmath import softmax\n",
        "\n",
        "d = defaultdict(list)\n",
        "for text, label in zip(tdt_train_texts, tdt_train_labels_raw):\n",
        "  d[label].append(text)\n",
        "\n",
        "train_texts_positive = xed_train_texts + d['positive']\n",
        "train_labels_positive = xed_train_labels_binary + [0]*len(d['positive'])\n",
        "\n",
        "train_texts_negative = xed_train_texts + d['negative']\n",
        "train_labels_negative = xed_train_labels_binary + [0]*len(d['negative'])\n",
        "\n",
        "tdt_nonneutral = d['positive'] + d['negative'] + d['other']\n",
        "train_texts_nonneutral = xed_train_texts + tdt_nonneutral\n",
        "train_labels_nonneutral = xed_train_labels_binary + [0]*len(tdt_nonneutral)\n",
        "\n",
        "train_texts_neutral = xed_train_texts + d['neutral']\n",
        "train_labels_neutral = xed_train_labels_binary + [0]*len(d['neutral'])\n",
        "\n",
        "xed_tdt_texts = xed_train_texts + tdt_train_texts\n",
        "xed_tdt_labels_binary = xed_train_labels_binary + tdt_train_labels_binary\n",
        "\n",
        "train_encodings_xed = tokenizer(xed_train_texts, truncation=True, padding='longest', max_length=input_size)\n",
        "train_encodings_xed_tdt = tokenizer(xed_tdt_texts, truncation=True, padding='longest', max_length=input_size)\n",
        "train_encodings_positive = tokenizer(train_texts_positive, truncation=True, padding='longest', max_length=input_size)\n",
        "train_encodings_negative = tokenizer(train_texts_negative, truncation=True, padding='longest', max_length=input_size)\n",
        "train_encodings_nonneutral = tokenizer(train_texts_nonneutral, truncation=True, padding='longest', max_length=input_size)\n",
        "train_encodings_neutral = tokenizer(train_texts_neutral, truncation=True, padding='longest', max_length=input_size)\n",
        "\n",
        "t_xed = [tf.constant(train_encodings_xed.data['input_ids']),\n",
        "         tf.constant(train_encodings_xed.data['attention_mask']),\n",
        "         tf.constant(train_encodings_xed.data['token_type_ids'])]\n",
        "\n",
        "t_xed_tdt = [tf.constant(train_encodings_xed_tdt.data['input_ids']),\n",
        "             tf.constant(train_encodings_xed_tdt.data['attention_mask']),\n",
        "             tf.constant(train_encodings_xed_tdt.data['token_type_ids'])]\n",
        "\n",
        "t_positive = [tf.constant(train_encodings_positive.data['input_ids']),\n",
        "              tf.constant(train_encodings_positive.data['attention_mask']),\n",
        "              tf.constant(train_encodings_positive.data['token_type_ids'])]\n",
        "\n",
        "t_negative = [tf.constant(train_encodings_negative.data['input_ids']),\n",
        "              tf.constant(train_encodings_negative.data['attention_mask']),\n",
        "              tf.constant(train_encodings_negative.data['token_type_ids'])]\n",
        "\n",
        "t_nonneutral = [tf.constant(train_encodings_nonneutral.data['input_ids']),\n",
        "                tf.constant(train_encodings_nonneutral.data['attention_mask']),\n",
        "                tf.constant(train_encodings_nonneutral.data['token_type_ids'])]\n",
        "\n",
        "t_neutral = [tf.constant(train_encodings_neutral.data['input_ids']),\n",
        "             tf.constant(train_encodings_neutral.data['attention_mask']),\n",
        "             tf.constant(train_encodings_neutral.data['token_type_ids'])]\n",
        "\n",
        "def train_evaluate(train_x, train_y, eval_x, eval_y, run_count):\n",
        "  num_labels = 2\n",
        "  runs = []\n",
        "  for i in range(run_count):\n",
        "    bert = TFBertForSequenceClassification.from_pretrained(model_name,\n",
        "                                                          num_labels=num_labels)\n",
        "    bert = train(bert, train_x, train_y, (eval_x, eval_y))\n",
        "    runs.append(bert.predict(eval_x)[0])\n",
        "  return runs\n",
        "\n",
        "train_lists = [(t_xed, tf.constant(xed_train_labels_binary), 'XED only'),\n",
        "               (t_xed_tdt, tf.constant(xed_tdt_labels_binary), 'XED+TDT')]\n",
        "               (t_positive, tf.constant(train_labels_positive), 'XED + Positive TDT'),\n",
        "               (t_negative, tf.constant(train_labels_negative), 'XED + Negative TDT'),\n",
        "               (t_nonneutral, tf.constant(train_labels_nonneutral), 'XED + Non-neutral TDT'),\n",
        "               (t_neutral, tf.constant(train_labels_neutral), 'XED + Neutral TDT')]\n",
        "\n",
        "eval_binary = tf.constant(xed_eval_labels_binary)\n",
        "\n",
        "run_lists = [(train_evaluate(train_x, train_y, e, eval_binary, 3), name) for (train_x, train_y, name) in train_lists]\n",
        "\n",
        "plt.figure(figsize=(8, 8))\n",
        "\n",
        "def format_floats(l):\n",
        "  return ', '.join(f'{x:.4f}' for x in l)\n",
        "\n",
        "print(f\"Model: {model_name}, initial learning rate = {init_lr}, input size = {input_size}, batch size = {batch_size_train}, epochs = {epochs}\\n\")\n",
        "\n",
        "for preds, name in run_lists:\n",
        "  accuracy = [accuracy_score(eval_binary, p.argmax(-1)) for p in preds]\n",
        "  weighted_f1 = [f1_score(eval_binary, p.argmax(-1), average='weighted') for p in preds]\n",
        "  roc = [roc_curve(eval_binary, softmax(p)[:,1]) for p in preds]\n",
        "  aucs = [auc(fpr, tpr) for fpr, tpr, _ in roc]\n",
        "  max_i = aucs.index(max(aucs))\n",
        "  print(f'Statistics for {name}')\n",
        "  print('Accuracy: ', format_floats(accuracy))\n",
        "  print('Weighted F-score: ', format_floats(weighted_f1))\n",
        "  print('ROC AUC: ', format_floats(aucs))\n",
        "  print(f'Average accuracy: {np.mean(accuracy):.4f}, standard deviation: {np.std(accuracy):.4f}')\n",
        "  print(f'Average weighted F-score: {np.mean(weighted_f1):.4f}, standard deviation: {np.std(weighted_f1):.4f}')\n",
        "  print(f'Average ROC AUC: {np.mean(aucs):.4f}, standard deviation: {np.std(aucs):.4f}')\n",
        "  print()\n",
        "  fpr, tpr, _ = roc[max_i]\n",
        "  plt.plot(fpr, tpr, label=f'{name} (Area = {aucs[max_i]:.4f})')\n",
        "\n",
        "plt.xlabel('False Positive Rate')\n",
        "plt.ylabel('True Positive Rate')\n",
        "plt.legend(loc='lower right')\n",
        "plt.show()"
      ],
      "execution_count": 5,
      "outputs": [
        {
          "output_type": "stream",
          "text": [
            "All model checkpoint layers were used when initializing TFBertForSequenceClassification.\n",
            "\n",
            "Some layers of TFBertForSequenceClassification were not initialized from the model checkpoint at TurkuNLP/bert-base-finnish-uncased-v1 and are newly initialized: ['classifier']\n",
            "You should probably TRAIN this model on a down-stream task to be able to use it for predictions and inference.\n"
          ],
          "name": "stderr"
        },
        {
          "output_type": "stream",
          "text": [
            "Epoch 1/2\n",
            "WARNING:tensorflow:AutoGraph could not transform <bound method Socket.send of <zmq.sugar.socket.Socket object at 0x7f9ea5fb45f8>> and will run it as-is.\n",
            "Please report this to the TensorFlow team. When filing the bug, set the verbosity to 10 (on Linux, `export AUTOGRAPH_VERBOSITY=10`) and attach the full output.\n",
            "Cause: <cyfunction Socket.send at 0x7f9ebd802e58> is not a module, class, method, function, traceback, frame, or code object\n",
            "To silence this warning, decorate the function with @tf.autograph.experimental.do_not_convert\n",
            "WARNING: AutoGraph could not transform <bound method Socket.send of <zmq.sugar.socket.Socket object at 0x7f9ea5fb45f8>> and will run it as-is.\n",
            "Please report this to the TensorFlow team. When filing the bug, set the verbosity to 10 (on Linux, `export AUTOGRAPH_VERBOSITY=10`) and attach the full output.\n",
            "Cause: <cyfunction Socket.send at 0x7f9ebd802e58> is not a module, class, method, function, traceback, frame, or code object\n",
            "To silence this warning, decorate the function with @tf.autograph.experimental.do_not_convert\n"
          ],
          "name": "stdout"
        },
        {
          "output_type": "stream",
          "text": [
            "The parameters `output_attentions`, `output_hidden_states` and `use_cache` cannot be updated when calling a model.They have to be set to True/False in the config object (i.e.: `config=XConfig.from_pretrained('name', output_attentions=True)`).\n"
          ],
          "name": "stderr"
        },
        {
          "output_type": "stream",
          "text": [
            "WARNING:tensorflow:AutoGraph could not transform <function wrap at 0x7f9ebb1918c8> and will run it as-is.\n",
            "Cause: while/else statement not yet supported\n",
            "To silence this warning, decorate the function with @tf.autograph.experimental.do_not_convert\n"
          ],
          "name": "stdout"
        },
        {
          "output_type": "stream",
          "text": [
            "The parameter `return_dict` cannot be set in graph mode and will always be set to `True`.\n"
          ],
          "name": "stderr"
        },
        {
          "output_type": "stream",
          "text": [
            "WARNING: AutoGraph could not transform <function wrap at 0x7f9ebb1918c8> and will run it as-is.\n",
            "Cause: while/else statement not yet supported\n",
            "To silence this warning, decorate the function with @tf.autograph.experimental.do_not_convert\n"
          ],
          "name": "stdout"
        },
        {
          "output_type": "stream",
          "text": [
            "The parameters `output_attentions`, `output_hidden_states` and `use_cache` cannot be updated when calling a model.They have to be set to True/False in the config object (i.e.: `config=XConfig.from_pretrained('name', output_attentions=True)`).\n",
            "The parameter `return_dict` cannot be set in graph mode and will always be set to `True`.\n"
          ],
          "name": "stderr"
        },
        {
          "output_type": "stream",
          "text": [
            "1263/1263 [==============================] - ETA: 0s - loss: 0.5645 - sparse_categorical_accuracy: 0.6776"
          ],
          "name": "stdout"
        },
        {
          "output_type": "stream",
          "text": [
            "The parameters `output_attentions`, `output_hidden_states` and `use_cache` cannot be updated when calling a model.They have to be set to True/False in the config object (i.e.: `config=XConfig.from_pretrained('name', output_attentions=True)`).\n",
            "The parameter `return_dict` cannot be set in graph mode and will always be set to `True`.\n"
          ],
          "name": "stderr"
        },
        {
          "output_type": "stream",
          "text": [
            "\b\b\b\b\b\b\b\b\b\b\b\b\b\b\b\b\b\b\b\b\b\b\b\b\b\b\b\b\b\b\b\b\b\b\b\b\b\b\b\b\b\b\b\b\b\b\b\b\b\b\b\b\b\b\b\b\b\b\b\b\b\b\b\b\b\b\b\b\b\b\b\b\b\b\b\b\b\b\b\b\b\b\b\b\b\b\b\b\b\b\b\b\b\b\b\b\b\b\b\b\b\b\b\b\b\r1263/1263 [==============================] - 329s 228ms/step - loss: 0.5645 - sparse_categorical_accuracy: 0.6777 - val_loss: 0.4630 - val_sparse_categorical_accuracy: 0.7641\n",
            "Epoch 2/2\n",
            "1263/1263 [==============================] - 286s 226ms/step - loss: 0.3939 - sparse_categorical_accuracy: 0.8096 - val_loss: 0.4835 - val_sparse_categorical_accuracy: 0.7596\n"
          ],
          "name": "stdout"
        },
        {
          "output_type": "stream",
          "text": [
            "The parameters `output_attentions`, `output_hidden_states` and `use_cache` cannot be updated when calling a model.They have to be set to True/False in the config object (i.e.: `config=XConfig.from_pretrained('name', output_attentions=True)`).\n",
            "The parameter `return_dict` cannot be set in graph mode and will always be set to `True`.\n",
            "All model checkpoint layers were used when initializing TFBertForSequenceClassification.\n",
            "\n",
            "Some layers of TFBertForSequenceClassification were not initialized from the model checkpoint at TurkuNLP/bert-base-finnish-uncased-v1 and are newly initialized: ['classifier']\n",
            "You should probably TRAIN this model on a down-stream task to be able to use it for predictions and inference.\n",
            "The parameters `output_attentions`, `output_hidden_states` and `use_cache` cannot be updated when calling a model.They have to be set to True/False in the config object (i.e.: `config=XConfig.from_pretrained('name', output_attentions=True)`).\n",
            "The parameter `return_dict` cannot be set in graph mode and will always be set to `True`.\n"
          ],
          "name": "stderr"
        },
        {
          "output_type": "stream",
          "text": [
            "Epoch 1/2\n"
          ],
          "name": "stdout"
        },
        {
          "output_type": "stream",
          "text": [
            "The parameters `output_attentions`, `output_hidden_states` and `use_cache` cannot be updated when calling a model.They have to be set to True/False in the config object (i.e.: `config=XConfig.from_pretrained('name', output_attentions=True)`).\n",
            "The parameter `return_dict` cannot be set in graph mode and will always be set to `True`.\n"
          ],
          "name": "stderr"
        },
        {
          "output_type": "stream",
          "text": [
            "1949/1949 [==============================] - ETA: 0s - loss: 0.5322 - sparse_categorical_accuracy: 0.7057"
          ],
          "name": "stdout"
        },
        {
          "output_type": "stream",
          "text": [
            "The parameters `output_attentions`, `output_hidden_states` and `use_cache` cannot be updated when calling a model.They have to be set to True/False in the config object (i.e.: `config=XConfig.from_pretrained('name', output_attentions=True)`).\n",
            "The parameter `return_dict` cannot be set in graph mode and will always be set to `True`.\n"
          ],
          "name": "stderr"
        },
        {
          "output_type": "stream",
          "text": [
            "\b\b\b\b\b\b\b\b\b\b\b\b\b\b\b\b\b\b\b\b\b\b\b\b\b\b\b\b\b\b\b\b\b\b\b\b\b\b\b\b\b\b\b\b\b\b\b\b\b\b\b\b\b\b\b\b\b\b\b\b\b\b\b\b\b\b\b\b\b\b\b\b\b\b\b\b\b\b\b\b\b\b\b\b\b\b\b\b\b\b\b\b\b\b\b\b\b\b\b\b\b\b\b\b\b\r1949/1949 [==============================] - 526s 262ms/step - loss: 0.5322 - sparse_categorical_accuracy: 0.7057 - val_loss: 0.4736 - val_sparse_categorical_accuracy: 0.7619\n",
            "Epoch 2/2\n",
            "1949/1949 [==============================] - 508s 260ms/step - loss: 0.3356 - sparse_categorical_accuracy: 0.8453 - val_loss: 0.4974 - val_sparse_categorical_accuracy: 0.7538\n"
          ],
          "name": "stdout"
        },
        {
          "output_type": "stream",
          "text": [
            "The parameters `output_attentions`, `output_hidden_states` and `use_cache` cannot be updated when calling a model.They have to be set to True/False in the config object (i.e.: `config=XConfig.from_pretrained('name', output_attentions=True)`).\n",
            "The parameter `return_dict` cannot be set in graph mode and will always be set to `True`.\n"
          ],
          "name": "stderr"
        },
        {
          "output_type": "stream",
          "text": [
            "Model: TurkuNLP/bert-base-finnish-uncased-v1, initial learning rate = 2e-05, input size = 64, batch size = 16, epochs = 2\n",
            "\n",
            "Statistics for XED only\n",
            "Accuracy:  0.7596\n",
            "Weighted F-score:  0.7582\n",
            "ROC AUC:  0.8531\n",
            "Average accuracy: 0.7596, standard deviation: 0.0000\n",
            "Average weighted F-score: 0.7582, standard deviation: 0.0000\n",
            "Average ROC AUC: 0.8531, standard deviation: 0.0000\n",
            "\n",
            "Statistics for XED+TDT\n",
            "Accuracy:  0.7538\n",
            "Weighted F-score:  0.7526\n",
            "ROC AUC:  0.8455\n",
            "Average accuracy: 0.7538, standard deviation: 0.0000\n",
            "Average weighted F-score: 0.7526, standard deviation: 0.0000\n",
            "Average ROC AUC: 0.8455, standard deviation: 0.0000\n",
            "\n"
          ],
          "name": "stdout"
        },
        {
          "output_type": "display_data",
          "data": {
            "image/png": "[encoded data removed]",
            "text/plain": [
              "<Figure size 576x576 with 1 Axes>"
            ]
          },
          "metadata": {
            "tags": [],
            "needs_background": "light"
          }
        }
      ]
    }
  ]
}